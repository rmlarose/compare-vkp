{
 "cells": [
  {
   "cell_type": "markdown",
   "id": "88957916",
   "metadata": {},
   "source": [
    "# Qrylov"
   ]
  },
  {
   "cell_type": "markdown",
   "id": "7aa7ecf0",
   "metadata": {},
   "source": [
    "## Setup"
   ]
  },
  {
   "cell_type": "code",
   "execution_count": null,
   "id": "cf873f86",
   "metadata": {},
   "outputs": [],
   "source": [
    "from typing import List, Tuple\n",
    "\n",
    "import matplotlib.pyplot as plt; plt.rcParams.update({\"font.family\": \"serif\"})\n",
    "import numpy as np\n",
    "import scipy as sp\n",
    "\n",
    "import openfermion as of\n",
    "from openfermionpyscf import run_pyscf\n",
    "\n",
    "import numpy as np\n",
    "import openfermion as of\n",
    "\n",
    "import cirq\n",
    "import qiskit\n",
    "import qiskit.qasm2\n",
    "import quimb.tensor as qtn\n",
    "\n",
    "from tensor_network_common import pauli_sum_to_mpo"
   ]
  },
  {
   "cell_type": "markdown",
   "id": "89f0c7d8",
   "metadata": {},
   "source": [
    "## Parameters"
   ]
  },
  {
   "cell_type": "code",
   "execution_count": null,
   "id": "164cd4a0",
   "metadata": {},
   "outputs": [],
   "source": [
    "# Problem to use.\n",
    "problem: str = \"product\"  # Options: \"hchain\", \"hubbard\", \"product\", \"reactant\"\n",
    "\n",
    "# For Hubbard Hamiltonian.\n",
    "xdim: int = 2\n",
    "ydim: int = 3\n",
    "\n",
    "# For Hydrogen chains.\n",
    "natoms: int = 10  # Number of H atoms in the (linear) chain.\n",
    "\n",
    "hamiltonian_threshold: float = 0.02 # Drop terms in the Hamiltonian with coefficients smaller than this threshold.\n",
    "\n",
    "# Initial state parameters.\n",
    "seed: int = 1\n",
    "alpha: float = 10.0  # The initial state is |ground state> + |random state> / alpha.\n",
    "\n",
    "# Krylov parameters.\n",
    "subspace_dimension: int = 16  # The dimension of the Krylov subspace.\n",
    "threshold: float = -np.inf  # 1e-4  # -np.inf  # -1e-4  # Set to -np.inf to disable thresholding.\n",
    "\n",
    "# Simulation parameters.\n",
    "max_mpo_bond: int = 128  # Maximum bond dimension for MPO's.\n",
    "max_mps_bond: int = 256  # Maximum bond dimension for MPS's."
   ]
  },
  {
   "cell_type": "code",
   "execution_count": null,
   "id": "5ce8c132",
   "metadata": {},
   "outputs": [],
   "source": [
    "def fill_h_and_s_matrices(\n",
    "    vectors: List[np.ndarray] | List[np.ndarray],\n",
    "    mpo: qtn.MatrixProductOperator | np.ndarray,\n",
    "    verbose: bool = False,\n",
    ") -> Tuple[np.ndarray, np.ndarray]:\n",
    "    tensor_algebra = isinstance(mpo, qtn.MatrixProductOperator)\n",
    "\n",
    "    dim = len(vectors)\n",
    "    h = np.zeros((dim, dim), dtype=np.complex128)\n",
    "    s = np.zeros((dim, dim), dtype=np.complex128)\n",
    "\n",
    "    for i in range(dim):\n",
    "        for j in range(i, dim):\n",
    "            if verbose:\n",
    "                print(f\"A_{i}{j}\", end=\" \")\n",
    "\n",
    "            if tensor_algebra:\n",
    "                hij = vectors[i].H @ mpo.apply(vectors[j])\n",
    "            else:\n",
    "                hij = vectors[i].conj().T @ mpo @ vectors[j]\n",
    "\n",
    "            h[i, j] = hij\n",
    "            if i != j:\n",
    "                h[j, i] = np.conjugate(hij)\n",
    "\n",
    "            if tensor_algebra:\n",
    "                sij = vectors[i].H @ vectors[j]\n",
    "            else:\n",
    "                sij = vectors[i].conj().T @ vectors[j]\n",
    "            s[i, j] = sij\n",
    "            if i != j:\n",
    "                s[j, i] = np.conjugate(sij)\n",
    "    return h, s\n",
    "\n",
    "\n",
    "# Based on https://quantum.cloud.ibm.com/docs/en/tutorials/krylov-quantum-diagonalization.\n",
    "# and Algorithm 1.1 of https://arxiv.org/abs/2110.07492.\n",
    "def solve_regularized_gen_eig(\n",
    "    h: np.ndarray,\n",
    "    s: np.ndarray,\n",
    "    threshold: float = -np.inf,\n",
    ") -> float:\n",
    "    s_vals, s_vecs = sp.linalg.eigh(s)\n",
    "    s_vecs = s_vecs.T\n",
    "    good_vecs = np.array(\n",
    "        [vec for val, vec in zip(s_vals, s_vecs) if val > threshold]\n",
    "    )\n",
    "    h_reg = good_vecs.conj() @ h @ good_vecs.T\n",
    "    s_reg = good_vecs.conj() @ s @ good_vecs.T\n",
    "    return sp.linalg.eigh(h_reg, s_reg)[0][0]"
   ]
  },
  {
   "cell_type": "markdown",
   "id": "f28a6e05",
   "metadata": {},
   "source": [
    "## Problem definition"
   ]
  },
  {
   "cell_type": "code",
   "execution_count": null,
   "id": "932b9f83",
   "metadata": {},
   "outputs": [],
   "source": [
    "if problem == \"hchain\":\n",
    "    bond_distance = 1.0\n",
    "    geometry = [(\"H\", (0, 0, i * bond_distance)) for i in range(natoms)]\n",
    "    molecule = of.MolecularData(geometry, basis=\"sto-3g\", multiplicity=1, charge=natoms % 2)\n",
    "\n",
    "    molecule = run_pyscf(molecule, run_scf=True, run_mp2=True, verbose=True)\n",
    "\n",
    "    hamiltonian = of.get_fermion_operator(molecule.get_molecular_hamiltonian())\n",
    "    hamiltonian = of.jordan_wigner(hamiltonian)\n",
    "\n",
    "elif problem == \"hubbard\":\n",
    "    hamiltonian = of.jordan_wigner(\n",
    "        of.hamiltonians.fermi_hubbard(\n",
    "            xdim,\n",
    "            ydim,\n",
    "            1.0,\n",
    "            1.0,\n",
    "            spinless=True\n",
    "        )\n",
    "    )\n",
    "\n",
    "elif problem in (\"product\", \"reactant\"):\n",
    "    data = np.load(f\"./hamiltonians/po3_1w_{problem}_22o.npz\")\n",
    "    ecore = data[\"e_nuc\"]\n",
    "    h1 = np.array(data[\"h1\"])\n",
    "    h2 = np.array(data[\"h2\"])\n",
    "    nelectrons = data[\"nelectron\"]\n",
    "\n",
    "    h1_new, h2_new = of.chem.molecular_data.spinorb_from_spatial(h1, h2)\n",
    "    h = of.InteractionOperator(ecore.item(), h1_new, h2_new)\n",
    "    hamiltonian = of.get_fermion_operator(h)\n",
    "    if hamiltonian_threshold is not None:\n",
    "        hamiltonian.compress(hamiltonian_threshold)\n",
    "    hamiltonian = of.jordan_wigner(hamiltonian)\n",
    "\n",
    "else:\n",
    "    raise ValueError(f\"Unknown problem {problem}.\")"
   ]
  },
  {
   "cell_type": "code",
   "execution_count": null,
   "id": "7334fd8e",
   "metadata": {},
   "outputs": [],
   "source": [
    "if hamiltonian_threshold is not None:\n",
    "    hamiltonian.compress(hamiltonian_threshold)"
   ]
  },
  {
   "cell_type": "code",
   "execution_count": null,
   "id": "6bf35bd1",
   "metadata": {},
   "outputs": [],
   "source": [
    "nqubits = of.utils.count_qubits(hamiltonian)\n",
    "nterms = len(hamiltonian.terms)\n",
    "print(f\"Hamiltonian acts on {nqubits} qubit(s) and has {nterms} Pauli terms.\")"
   ]
  },
  {
   "cell_type": "markdown",
   "id": "90e64faf",
   "metadata": {},
   "source": [
    "## Exact energy"
   ]
  },
  {
   "cell_type": "code",
   "execution_count": null,
   "id": "3cfa126c",
   "metadata": {},
   "outputs": [],
   "source": [
    "hamiltonian_cirq = of.qubit_operator_to_pauli_sum(hamiltonian)\n",
    "mpo = pauli_sum_to_mpo(hamiltonian_cirq, cirq.LineQubit.range(nqubits), max_bond=max_mpo_bond, verbose=True)\n",
    "mpo.show()"
   ]
  },
  {
   "cell_type": "code",
   "execution_count": null,
   "id": "a0c9501d",
   "metadata": {},
   "outputs": [],
   "source": [
    "dmrg = qtn.DMRG2(mpo, bond_dims=[2 ** (i + 1) for i in range(int(np.log2(max_mpo_bond)))])\n",
    "dmrg.solve(verbosity=1)\n",
    "\n",
    "energy_exact = np.real(dmrg.energy)\n",
    "ground_state = dmrg.state\n",
    "print(\"Exact energy:\", energy_exact)\n",
    "ground_state.show()"
   ]
  },
  {
   "cell_type": "markdown",
   "id": "4ebaa8c1",
   "metadata": {},
   "source": [
    "## Initial state"
   ]
  },
  {
   "cell_type": "code",
   "execution_count": null,
   "id": "c2f8a89a",
   "metadata": {},
   "outputs": [],
   "source": [
    "bvec = ground_state + qtn.MPS_rand_state(mpo.L, bond_dim=2, seed=seed) / alpha\n",
    "bvec /= bvec.norm()\n",
    "overlap = np.abs(bvec @ ground_state) ** 2\n",
    "overlap"
   ]
  },
  {
   "cell_type": "markdown",
   "id": "9b27d6bf",
   "metadata": {},
   "source": [
    "## Krylov with $H$"
   ]
  },
  {
   "cell_type": "code",
   "execution_count": null,
   "id": "8306167d",
   "metadata": {},
   "outputs": [],
   "source": [
    "vectors = [bvec]\n",
    "for i in range(subspace_dimension - 1):\n",
    "    print(i)\n",
    "    new = mpo.apply(vectors[-1], compress=True, max_bond=max_mps_bond)\n",
    "    print(\"Max bond:\", new.max_bond())\n",
    "    vectors.append(new)"
   ]
  },
  {
   "cell_type": "code",
   "execution_count": null,
   "id": "b40463a7",
   "metadata": {},
   "outputs": [],
   "source": [
    "h, s = fill_h_and_s_matrices(vectors, mpo, verbose=True)"
   ]
  },
  {
   "cell_type": "code",
   "execution_count": null,
   "id": "94705e5b",
   "metadata": {},
   "outputs": [],
   "source": [
    "krylov_dvals = []\n",
    "krylov_evals = []\n",
    "for d in range(1, len(h) + 1):\n",
    "    try:\n",
    "        krylov_energy = solve_regularized_gen_eig(h[:d, :d], s[:d, :d], threshold=threshold)\n",
    "        print(d, krylov_energy)\n",
    "        krylov_dvals.append(d)\n",
    "        krylov_evals.append(krylov_energy)\n",
    "    except np.linalg.LinAlgError:\n",
    "        continue"
   ]
  },
  {
   "cell_type": "code",
   "execution_count": null,
   "id": "74402f18",
   "metadata": {},
   "outputs": [],
   "source": [
    "plt.plot(krylov_dvals, krylov_evals, \"--o\", label=\"Krylov with $H$\")\n",
    "plt.axhline(energy_exact, ls=\"--\", color=\"black\", label=\"Exact\")\n",
    "plt.xlabel(\"Subspace dimension $d$\")\n",
    "plt.ylabel(\"Eigenvalue\")\n",
    "plt.legend();"
   ]
  },
  {
   "cell_type": "markdown",
   "id": "b39c0bb0",
   "metadata": {},
   "source": [
    "### Unitary Krylov"
   ]
  },
  {
   "cell_type": "code",
   "execution_count": null,
   "id": "5000f528",
   "metadata": {},
   "outputs": [],
   "source": [
    "# See Theorem 3.1 of https://arxiv.org/abs/2110.07492.\n",
    "# dt = np.pi / (evals_exact[-1] - evals_exact[0])\n",
    "dt = np.pi / mpo.norm()\n",
    "\n",
    "if problem == \"hchain\":\n",
    "    dt *= 5 * natoms  # Empirically found that larger dt works better for H chains.\n",
    "\n",
    "dt"
   ]
  },
  {
   "cell_type": "code",
   "execution_count": null,
   "id": "8a9d1a88",
   "metadata": {},
   "outputs": [],
   "source": [
    "if nqubits <= 10:\n",
    "    matrix = mpo.to_dense()\n",
    "    vec = bvec.to_dense()\n",
    "\n",
    "    vectors_u = []\n",
    "    for k in range(-subspace_dimension // 2, subspace_dimension // 2 + 1, 1):\n",
    "        print(k)\n",
    "        Uk = sp.sparse.linalg.expm(-1j * matrix * k * dt)  # TODO: Speedup with https://docs.scipy.org/doc/scipy/reference/generated/scipy.sparse.linalg.expm_multiply.html.\n",
    "        vectors_u.append(Uk @ vec)\n",
    "\n",
    "\n",
    "    h, s = fill_h_and_s_matrices(vectors_u, matrix, verbose=True)\n",
    "\n",
    "    krylov_u_dvals = []\n",
    "    krylov_u_evals = []\n",
    "    for d in range(1, len(h)):\n",
    "        try:\n",
    "            krylov_energy = solve_regularized_gen_eig(h[:d, :d], s[:d, :d], threshold=threshold)\n",
    "            print(d, krylov_energy)\n",
    "            krylov_u_dvals.append(d)\n",
    "            krylov_u_evals.append(krylov_energy)\n",
    "        except np.linalg.LinAlgError:\n",
    "            continue"
   ]
  },
  {
   "cell_type": "markdown",
   "id": "ea0c27ca",
   "metadata": {},
   "source": [
    "## Trotterized unitary Krylov"
   ]
  },
  {
   "cell_type": "code",
   "execution_count": null,
   "id": "f74782e3",
   "metadata": {},
   "outputs": [],
   "source": [
    "def cirq_pauli_sum_to_qiskit_pauli_op(pauli_sum: cirq.PauliSum) -> qiskit.quantum_info.SparsePauliOp:\n",
    "    \"\"\"Returns a qiskit.SparsePauliOp representation of the cirq.PauliSum.\"\"\"\n",
    "    cirq_pauli_to_str = {cirq.X: \"X\", cirq.Y: \"Y\", cirq.Z: \"Z\"}\n",
    "\n",
    "    qubits = pauli_sum.qubits\n",
    "    terms = []\n",
    "    coeffs = []\n",
    "    for term in pauli_sum:\n",
    "        string = \"\"\n",
    "        for qubit in qubits:\n",
    "            if qubit not in term:\n",
    "                string += \"I\"\n",
    "            else:\n",
    "                string += cirq_pauli_to_str[term[qubit]]\n",
    "        terms.append(string)\n",
    "        assert np.isclose(term.coefficient.imag, 0.0, atol=1e-7)\n",
    "        coeffs.append(term.coefficient.real)\n",
    "    return qiskit.quantum_info.SparsePauliOp(terms, coeffs)"
   ]
  },
  {
   "cell_type": "code",
   "execution_count": null,
   "id": "4f7a306a",
   "metadata": {},
   "outputs": [],
   "source": [
    "hamiltonian_qiskit = cirq_pauli_sum_to_qiskit_pauli_op(hamiltonian_cirq)"
   ]
  },
  {
   "cell_type": "code",
   "execution_count": null,
   "id": "39e48f1c",
   "metadata": {},
   "outputs": [],
   "source": [
    "ntrotter_values = [1, 2, 4, 8, 16, 32]\n",
    "trotter_circuits = []\n",
    "all_krylov_u_trotter_dvals = []\n",
    "all_krylov_u_trotter_evals = []\n",
    "\n",
    "for ntrotter in ntrotter_values:\n",
    "    print(\"Status: ntrotter =\", ntrotter)\n",
    "    trotter_operation = qiskit.circuit.library.PauliEvolutionGate(\n",
    "        hamiltonian_qiskit,\n",
    "        time=dt,\n",
    "        synthesis=qiskit.synthesis.LieTrotter(reps=ntrotter)\n",
    "    )\n",
    "    trotter_circuit = qiskit.QuantumCircuit(nqubits)\n",
    "    trotter_circuit.append(trotter_operation, trotter_circuit.qubits)\n",
    "    trotter_circuit = qiskit.transpile(\n",
    "        trotter_circuit, basis_gates=[\"u3\", \"cx\"]\n",
    "    )  # TODO: Compile to a target backend, e.g. IBM Fez.\n",
    "    print(\"Trotter circuit gate counts:\")\n",
    "    print(trotter_circuit.count_ops())\n",
    "\n",
    "    trotter_circuits.append(trotter_circuit)\n",
    "\n",
    "    forward = trotter_circuit.copy()\n",
    "    forward_qasm = qiskit.qasm2.dumps(forward)\n",
    "\n",
    "    reverse = trotter_circuit.inverse().copy()\n",
    "    reverse_qasm = qiskit.qasm2.dumps(reverse)\n",
    "\n",
    "    forward_vectors = [bvec]\n",
    "\n",
    "    for k in range(subspace_dimension // 2):\n",
    "        print(\"Forward:\", k)\n",
    "        new = qtn.CircuitMPS.from_openqasm2_str(\n",
    "            forward_qasm, psi0=forward_vectors[-1], progbar=False, max_bond=max_mps_bond,\n",
    "        ).psi\n",
    "        forward_vectors.append(new)\n",
    "    \n",
    "    reverse_vectors = [bvec]\n",
    "    for k in range(subspace_dimension // 2):\n",
    "        print(\"Reverse:\", k)\n",
    "        new = qtn.CircuitMPS.from_openqasm2_str(\n",
    "            reverse_qasm, psi0=reverse_vectors[-1], progbar=False, max_bond=max_mps_bond,\n",
    "        ).psi\n",
    "        reverse_vectors.append(new)\n",
    "\n",
    "    _ = reverse_vectors.pop(0)\n",
    "    reverse_vectors = list(reversed(reverse_vectors))\n",
    "\n",
    "    vectors_u_trotter = reverse_vectors + forward_vectors\n",
    "\n",
    "    h, s = fill_h_and_s_matrices(vectors_u_trotter, mpo, verbose=True)\n",
    "\n",
    "    krylov_u_trotter_evals = []\n",
    "    krylov_u_trotter_dvals = []\n",
    "    for d in range(1, len(h)):\n",
    "        try:\n",
    "            krylov_energy = solve_regularized_gen_eig(h[:d, :d], s[:d, :d], threshold=threshold)\n",
    "            print(f\"Krylov {d} energy:\", krylov_energy)\n",
    "            krylov_u_trotter_dvals.append(d)\n",
    "            krylov_u_trotter_evals.append(krylov_energy)\n",
    "        except np.linalg.LinAlgError:\n",
    "            continue\n",
    "    \n",
    "    all_krylov_u_trotter_dvals.append(krylov_u_trotter_dvals)\n",
    "    all_krylov_u_trotter_evals.append(krylov_u_trotter_evals)\n",
    "    print(\"\\n\" * 10)"
   ]
  },
  {
   "cell_type": "code",
   "execution_count": null,
   "id": "fb1fe8f9",
   "metadata": {},
   "outputs": [],
   "source": [
    "cutoff_ind = -1\n",
    "\n",
    "kwargs = {\"alpha\": 0.6667, \"mec\": \"black\"}\n",
    "\n",
    "# plt.figure(figsize=(8, 5))\n",
    "\n",
    "errors_h = np.abs(np.array(krylov_evals) - energy_exact)\n",
    "plt.plot(krylov_dvals[:cutoff_ind], errors_h[:cutoff_ind], \"--s\", label=\"$\\mathcal{H}$\", **kwargs)\n",
    "\n",
    "if nqubits <= 10:\n",
    "    errors_u = np.abs(np.array(krylov_u_evals) - energy_exact)\n",
    "    plt.plot(krylov_u_dvals[:cutoff_ind], errors_u[:cutoff_ind], \"--s\", label=\"$U$\", **kwargs)\n",
    "\n",
    "for ntrotter, krylov_u_trotter_dvals, krylov_u_trotter_evals in zip(ntrotter_values, all_krylov_u_trotter_dvals, all_krylov_u_trotter_evals):\n",
    "    errors_u_trotter = np.abs(np.array(krylov_u_trotter_evals) - energy_exact)\n",
    "    plt.plot(krylov_u_trotter_dvals[:cutoff_ind], errors_u_trotter[:cutoff_ind], \"--s\", label=rf\"$U'$ ({ntrotter} Trotter step(s))\", **kwargs)\n",
    "\n",
    "plt.axhline(1e-3, ls=\"--\", color=\"black\", label=\"Chemical accuracy\")\n",
    "\n",
    "# plt.title(f\"{nqubits}-qubit Fermi-Hubbard Hamiltonian\\nInitial state overlap with ground state = {round(overlap, 3)}\")\n",
    "plt.xlabel(\"Subspace dimension $d$\")\n",
    "plt.ylabel(\"Absolute energy error\")\n",
    "\n",
    "plt.yscale(\"log\")\n",
    "plt.legend(ncol=2) #bbox_to_anchor=(1.05, 1));\n",
    "plt.tight_layout()\n",
    "# plt.savefig(f\"krylov_{problem}_nqubits_{nqubits}_overlap_{overlap}_threshold_{threshold}_max_trotter_{max(ntrotter_values)}_dt_{dt}_seed_{seed}.pdf\")"
   ]
  },
  {
   "cell_type": "code",
   "execution_count": null,
   "id": "f406c8ab",
   "metadata": {},
   "outputs": [],
   "source": [
    "ngates_oneq = []\n",
    "ngates_twoq = []\n",
    "depths = []\n",
    "\n",
    "for circuit in trotter_circuits:\n",
    "    counts = circuit.count_ops()\n",
    "    ngates_oneq.append(counts.get(\"u3\"))\n",
    "    ngates_twoq.append(counts.get(\"cx\"))\n",
    "    depths.append(circuit.depth())"
   ]
  },
  {
   "cell_type": "code",
   "execution_count": null,
   "id": "7f120734",
   "metadata": {},
   "outputs": [],
   "source": [
    "plt.plot(ntrotter_values, ngates_oneq, \"--o\", label=\"One-qubit gates\")\n",
    "plt.plot(ntrotter_values, ngates_twoq, \"--o\", label=\"Two-qubit gates\")\n",
    "plt.plot(ntrotter_values, depths, \"--o\", label=\"Circuit depth\")\n",
    "\n",
    "plt.xlabel(\"Number of Trotter steps\")\n",
    "plt.ylabel(\"Count\")\n",
    "\n",
    "plt.legend();"
   ]
  },
  {
   "cell_type": "markdown",
   "id": "389dfb73",
   "metadata": {},
   "source": []
  }
 ],
 "metadata": {
  "kernelspec": {
   "display_name": "compare (3.13.7)",
   "language": "python",
   "name": "python3"
  },
  "language_info": {
   "codemirror_mode": {
    "name": "ipython",
    "version": 3
   },
   "file_extension": ".py",
   "mimetype": "text/x-python",
   "name": "python",
   "nbconvert_exporter": "python",
   "pygments_lexer": "ipython3",
   "version": "3.13.7"
  }
 },
 "nbformat": 4,
 "nbformat_minor": 5
}
