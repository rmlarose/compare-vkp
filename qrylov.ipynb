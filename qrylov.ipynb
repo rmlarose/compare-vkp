{
 "cells": [
  {
   "cell_type": "markdown",
   "id": "88957916",
   "metadata": {},
   "source": [
    "# Qrylov"
   ]
  },
  {
   "cell_type": "markdown",
   "id": "7aa7ecf0",
   "metadata": {},
   "source": [
    "## Setup"
   ]
  },
  {
   "cell_type": "code",
   "execution_count": 1,
   "id": "cf873f86",
   "metadata": {},
   "outputs": [],
   "source": [
    "from typing import List, Tuple\n",
    "\n",
    "import matplotlib.pyplot as plt; plt.rcParams.update({\"font.family\": \"serif\"})\n",
    "import numpy as np\n",
    "import scipy as sp\n",
    "\n",
    "import openfermion as of\n",
    "from openfermionpyscf import run_pyscf\n",
    "\n",
    "import numpy as np\n",
    "import openfermion as of\n",
    "\n",
    "import cirq\n",
    "import qiskit\n",
    "import qiskit.qasm2\n",
    "import quimb.tensor as qtn\n",
    "\n",
    "from tensor_network_common import pauli_sum_to_mpo"
   ]
  },
  {
   "cell_type": "markdown",
   "id": "89f0c7d8",
   "metadata": {},
   "source": [
    "## Parameters"
   ]
  },
  {
   "cell_type": "code",
   "execution_count": 2,
   "id": "164cd4a0",
   "metadata": {},
   "outputs": [],
   "source": [
    "# Problem to use.\n",
    "problem: str = \"hchain\"  # Options: \"hchain\", \"hubbard\"\n",
    "\n",
    "# For Hubbard Hamiltonian.\n",
    "xdim: int = 2\n",
    "ydim: int = 3\n",
    "\n",
    "# For Hydrogen chains.\n",
    "natoms: int = 6  # Number of H atoms in the (linear) chain.\n",
    "\n",
    "hamiltonian_threshold: float = 0.02 # Drop terms in the Hamiltonian with coefficients smaller than this threshold.\n",
    "\n",
    "# Initial state parameters.\n",
    "seed: int = 1\n",
    "alpha: float = 10.0  # The initial state is |ground state> + |random state> / alpha.\n",
    "\n",
    "# Krylov parameters.\n",
    "subspace_dimension: int = 16  # The dimension of the Krylov subspace.\n",
    "threshold: float = -np.inf  # 1e-4  # -np.inf  # -1e-4  # Set to -np.inf to disable thresholding.\n",
    "\n",
    "# Simulation parameters.\n",
    "max_mpo_bond: int = 128  # Maximum bond dimension for MPO's.\n",
    "max_mps_bond: int = 256  # Maximum bond dimension for MPS's."
   ]
  },
  {
   "cell_type": "code",
   "execution_count": 3,
   "id": "5ce8c132",
   "metadata": {},
   "outputs": [],
   "source": [
    "def fill_h_and_s_matrices(\n",
    "    vectors: List[np.ndarray] | List[np.ndarray],\n",
    "    mpo: qtn.MatrixProductOperator | np.ndarray,\n",
    "    verbose: bool = False,\n",
    ") -> Tuple[np.ndarray, np.ndarray]:\n",
    "    tensor_algebra = isinstance(mpo, qtn.MatrixProductOperator)\n",
    "\n",
    "    dim = len(vectors)\n",
    "    h = np.zeros((dim, dim), dtype=np.complex128)\n",
    "    s = np.zeros((dim, dim), dtype=np.complex128)\n",
    "\n",
    "    for i in range(dim):\n",
    "        for j in range(i, dim):\n",
    "            if verbose:\n",
    "                print(f\"A_{i}{j}\", end=\" \")\n",
    "\n",
    "            if tensor_algebra:\n",
    "                hij = vectors[i].H @ mpo.apply(vectors[j])\n",
    "            else:\n",
    "                hij = vectors[i].conj().T @ mpo @ vectors[j]\n",
    "\n",
    "            h[i, j] = hij\n",
    "            if i != j:\n",
    "                h[j, i] = np.conjugate(hij)\n",
    "\n",
    "            if tensor_algebra:\n",
    "                sij = vectors[i].H @ vectors[j]\n",
    "            else:\n",
    "                sij = vectors[i].conj().T @ vectors[j]\n",
    "            s[i, j] = sij\n",
    "            if i != j:\n",
    "                s[j, i] = np.conjugate(sij)\n",
    "    return h, s\n",
    "\n",
    "\n",
    "# Based on https://quantum.cloud.ibm.com/docs/en/tutorials/krylov-quantum-diagonalization.\n",
    "# and Algorithm 1.1 of https://arxiv.org/abs/2110.07492.\n",
    "def solve_regularized_gen_eig(\n",
    "    h: np.ndarray,\n",
    "    s: np.ndarray,\n",
    "    threshold: float = -np.inf,\n",
    ") -> float:\n",
    "    s_vals, s_vecs = sp.linalg.eigh(s)\n",
    "    s_vecs = s_vecs.T\n",
    "    good_vecs = np.array(\n",
    "        [vec for val, vec in zip(s_vals, s_vecs) if val > threshold]\n",
    "    )\n",
    "    h_reg = good_vecs.conj() @ h @ good_vecs.T\n",
    "    s_reg = good_vecs.conj() @ s @ good_vecs.T\n",
    "    return sp.linalg.eigh(h_reg, s_reg)[0][0]"
   ]
  },
  {
   "cell_type": "markdown",
   "id": "f28a6e05",
   "metadata": {},
   "source": [
    "## Problem definition"
   ]
  },
  {
   "cell_type": "code",
   "execution_count": 4,
   "id": "932b9f83",
   "metadata": {},
   "outputs": [
    {
     "name": "stdout",
     "output_type": "stream",
     "text": [
      "Hartree-Fock energy for H6_sto-3g_singlet (6 electrons) is -3.1355322139663215.\n",
      "MP2 energy for H6_sto-3g_singlet (6 electrons) is -3.1981379846242963.\n"
     ]
    }
   ],
   "source": [
    "if problem == \"hchain\":\n",
    "    bond_distance = 1.0\n",
    "    geometry = [(\"H\", (0, 0, i * bond_distance)) for i in range(natoms)]\n",
    "    molecule = of.MolecularData(geometry, basis=\"sto-3g\", multiplicity=1, charge=natoms % 2)\n",
    "\n",
    "    molecule = run_pyscf(molecule, run_scf=True, run_mp2=True, verbose=True)\n",
    "\n",
    "    hamiltonian = of.get_fermion_operator(molecule.get_molecular_hamiltonian())\n",
    "    hamiltonian = of.jordan_wigner(hamiltonian)\n",
    "\n",
    "elif problem == \"hubbard\":\n",
    "    hamiltonian = of.jordan_wigner(\n",
    "        of.hamiltonians.fermi_hubbard(\n",
    "            xdim,\n",
    "            ydim,\n",
    "            1.0,\n",
    "            1.0,\n",
    "            spinless=True\n",
    "        )\n",
    "    )\n",
    "\n",
    "else:\n",
    "    raise ValueError(f\"Unknown problem {problem}.\")"
   ]
  },
  {
   "cell_type": "code",
   "execution_count": 6,
   "id": "7334fd8e",
   "metadata": {},
   "outputs": [],
   "source": [
    "if hamiltonian_threshold is not None:\n",
    "    hamiltonian.compress(hamiltonian_threshold)"
   ]
  },
  {
   "cell_type": "code",
   "execution_count": 7,
   "id": "6bf35bd1",
   "metadata": {},
   "outputs": [
    {
     "name": "stdout",
     "output_type": "stream",
     "text": [
      "Hamiltonian acts on 12 qubit(s) and has 275 Pauli terms.\n"
     ]
    }
   ],
   "source": [
    "nqubits = of.utils.count_qubits(hamiltonian)\n",
    "nterms = len(hamiltonian.terms)\n",
    "print(f\"Hamiltonian acts on {nqubits} qubit(s) and has {nterms} Pauli terms.\")"
   ]
  },
  {
   "cell_type": "markdown",
   "id": "90e64faf",
   "metadata": {},
   "source": [
    "## Exact energy"
   ]
  },
  {
   "cell_type": "code",
   "execution_count": 8,
   "id": "3cfa126c",
   "metadata": {},
   "outputs": [
    {
     "name": "stdout",
     "output_type": "stream",
     "text": [
      "│4│12│23│30│36│50│38│34│29│16│4│\n",
      "●─<──<──<──<──<──<──<──<──<──<─<\n",
      "│ │  │  │  │  │  │  │  │  │  │ │\n"
     ]
    }
   ],
   "source": [
    "hamiltonian_cirq = of.qubit_operator_to_pauli_sum(hamiltonian)\n",
    "mpo = pauli_sum_to_mpo(hamiltonian_cirq, cirq.LineQubit.range(nqubits), max_bond=max_mpo_bond, verbose=True)\n",
    "mpo.show()"
   ]
  },
  {
   "cell_type": "code",
   "execution_count": 9,
   "id": "a0c9501d",
   "metadata": {},
   "outputs": [
    {
     "name": "stdout",
     "output_type": "stream",
     "text": [
      "1, R, max_bond=(2/2), cutoff:1e-08\n"
     ]
    },
    {
     "name": "stderr",
     "output_type": "stream",
     "text": [
      "100%|##########################################| 11/11 [00:00<00:00, 338.05it/s]"
     ]
    },
    {
     "name": "stdout",
     "output_type": "stream",
     "text": [
      "Energy: (-2.3795044924680675+9.796850830579018e-15j) ... not converged.\n",
      "2, R, max_bond=(2/4), cutoff:1e-08\n"
     ]
    },
    {
     "name": "stderr",
     "output_type": "stream",
     "text": [
      "\n",
      "100%|##########################################| 11/11 [00:00<00:00, 319.85it/s]"
     ]
    },
    {
     "name": "stdout",
     "output_type": "stream",
     "text": [
      "Energy: (-3.158922043394147+8.34195993532072e-15j) ... not converged.\n",
      "3, R, max_bond=(4/8), cutoff:1e-08\n"
     ]
    },
    {
     "name": "stderr",
     "output_type": "stream",
     "text": [
      "\n",
      "100%|##########################################| 11/11 [00:00<00:00, 259.38it/s]"
     ]
    },
    {
     "name": "stdout",
     "output_type": "stream",
     "text": [
      "Energy: (-3.1790639162420953+7.195795608677669e-15j) ... not converged.\n",
      "4, R, max_bond=(8/16), cutoff:1e-08\n"
     ]
    },
    {
     "name": "stderr",
     "output_type": "stream",
     "text": [
      "\n",
      "100%|##########################################| 11/11 [00:00<00:00, 132.74it/s]"
     ]
    },
    {
     "name": "stdout",
     "output_type": "stream",
     "text": [
      "Energy: (-3.190027793444323+5.1445393084437185e-15j) ... not converged.\n",
      "5, R, max_bond=(16/32), cutoff:1e-08\n"
     ]
    },
    {
     "name": "stderr",
     "output_type": "stream",
     "text": [
      "\n",
      "100%|###########################################| 11/11 [00:00<00:00, 18.94it/s]"
     ]
    },
    {
     "name": "stdout",
     "output_type": "stream",
     "text": [
      "Energy: (-3.191754376086811+5.648259637780484e-15j) ... not converged.\n",
      "6, R, max_bond=(26/64), cutoff:1e-08\n"
     ]
    },
    {
     "name": "stderr",
     "output_type": "stream",
     "text": [
      "\n",
      "100%|###########################################| 11/11 [00:00<00:00, 11.23it/s]"
     ]
    },
    {
     "name": "stdout",
     "output_type": "stream",
     "text": [
      "Energy: (-3.1918352165972306+4.977789014315448e-15j) ... converged!\n",
      "Exact energy: -3.1918352165972306\n",
      " 2 4 8 15 25 38 28 16 8 4 2 \n",
      ">─>─>─>──>──>──>──>──>─>─>─●\n",
      "│ │ │ │  │  │  │  │  │ │ │ │\n"
     ]
    },
    {
     "name": "stderr",
     "output_type": "stream",
     "text": [
      "\n"
     ]
    }
   ],
   "source": [
    "dmrg = qtn.DMRG2(mpo, bond_dims=[2 ** (i + 1) for i in range(int(np.log2(max_mpo_bond)))])\n",
    "dmrg.solve(verbosity=1)\n",
    "\n",
    "energy_exact = np.real(dmrg.energy)\n",
    "ground_state = dmrg.state\n",
    "print(\"Exact energy:\", energy_exact)\n",
    "ground_state.show()"
   ]
  },
  {
   "cell_type": "markdown",
   "id": "4ebaa8c1",
   "metadata": {},
   "source": [
    "## Initial state"
   ]
  },
  {
   "cell_type": "code",
   "execution_count": 10,
   "id": "c2f8a89a",
   "metadata": {},
   "outputs": [
    {
     "data": {
      "text/plain": [
       "0.9901100146782349"
      ]
     },
     "execution_count": 10,
     "metadata": {},
     "output_type": "execute_result"
    }
   ],
   "source": [
    "bvec = ground_state + qtn.MPS_rand_state(mpo.L, bond_dim=2, seed=seed) / alpha\n",
    "bvec /= bvec.norm()\n",
    "overlap = np.abs(bvec @ ground_state) ** 2\n",
    "overlap"
   ]
  },
  {
   "cell_type": "markdown",
   "id": "9b27d6bf",
   "metadata": {},
   "source": [
    "## Krylov with $H$"
   ]
  },
  {
   "cell_type": "code",
   "execution_count": 11,
   "id": "8306167d",
   "metadata": {},
   "outputs": [
    {
     "name": "stdout",
     "output_type": "stream",
     "text": [
      "0\n",
      "Max bond: 62\n",
      "1\n",
      "Max bond: 62\n",
      "2\n",
      "Max bond: 62\n",
      "3\n",
      "Max bond: 61\n",
      "4\n",
      "Max bond: 60\n",
      "5\n",
      "Max bond: 60\n",
      "6\n",
      "Max bond: 60\n",
      "7\n",
      "Max bond: 60\n",
      "8\n",
      "Max bond: 60\n",
      "9\n",
      "Max bond: 60\n",
      "10\n",
      "Max bond: 60\n",
      "11\n",
      "Max bond: 60\n",
      "12\n",
      "Max bond: 60\n",
      "13\n",
      "Max bond: 61\n",
      "14\n",
      "Max bond: 61\n"
     ]
    }
   ],
   "source": [
    "vectors = [bvec]\n",
    "for i in range(subspace_dimension - 1):\n",
    "    print(i)\n",
    "    new = mpo.apply(vectors[-1], compress=True, max_bond=max_mps_bond)\n",
    "    print(\"Max bond:\", new.max_bond())\n",
    "    vectors.append(new)"
   ]
  },
  {
   "cell_type": "code",
   "execution_count": 12,
   "id": "b40463a7",
   "metadata": {},
   "outputs": [
    {
     "name": "stdout",
     "output_type": "stream",
     "text": [
      "A_00 A_01 A_02 A_03 A_04 A_05 A_06 A_07 A_08 A_09 A_010 A_011 A_012 A_013 A_014 A_015 A_11 A_12 A_13 A_14 A_15 A_16 A_17 A_18 A_19 A_110 A_111 A_112 A_113 A_114 A_115 A_22 A_23 A_24 A_25 A_26 A_27 A_28 A_29 A_210 A_211 A_212 A_213 A_214 A_215 A_33 A_34 A_35 A_36 A_37 A_38 A_39 A_310 A_311 A_312 A_313 A_314 A_315 A_44 A_45 A_46 A_47 A_48 A_49 A_410 A_411 A_412 A_413 A_414 A_415 A_55 A_56 A_57 A_58 A_59 A_510 A_511 A_512 A_513 A_514 A_515 A_66 A_67 A_68 A_69 A_610 A_611 A_612 A_613 A_614 A_615 A_77 A_78 A_79 A_710 A_711 A_712 A_713 A_714 A_715 A_88 A_89 A_810 A_811 A_812 A_813 A_814 A_815 A_99 A_910 A_911 A_912 A_913 A_914 A_915 A_1010 A_1011 A_1012 A_1013 A_1014 A_1015 A_1111 A_1112 A_1113 A_1114 A_1115 A_1212 A_1213 A_1214 A_1215 A_1313 A_1314 A_1315 A_1414 A_1415 A_1515 "
     ]
    }
   ],
   "source": [
    "h, s = fill_h_and_s_matrices(vectors, mpo, verbose=True)"
   ]
  },
  {
   "cell_type": "code",
   "execution_count": 13,
   "id": "94705e5b",
   "metadata": {},
   "outputs": [
    {
     "name": "stdout",
     "output_type": "stream",
     "text": [
      "1 -3.1620457703303297\n",
      "2 -3.189796513303919\n",
      "3 -3.191564260621541\n",
      "4 -3.1917873018795264\n",
      "5 -3.1918334294220427\n",
      "6 -3.1918452409625164\n",
      "7 -3.191848496148691\n",
      "8 -3.1918495466079415\n",
      "9 -3.1918499095814994\n",
      "10 -3.1918500743288867\n",
      "11 -3.1918501688857392\n",
      "12 -3.1918502238688427\n",
      "13 -3.1918502498719983\n",
      "14 -3.191850260594055\n",
      "15 -3.191850264031197\n",
      "16 -3.1918502653633936\n"
     ]
    }
   ],
   "source": [
    "krylov_dvals = []\n",
    "krylov_evals = []\n",
    "for d in range(1, len(h) + 1):\n",
    "    try:\n",
    "        krylov_energy = solve_regularized_gen_eig(h[:d, :d], s[:d, :d], threshold=threshold)\n",
    "        print(d, krylov_energy)\n",
    "        krylov_dvals.append(d)\n",
    "        krylov_evals.append(krylov_energy)\n",
    "    except np.linalg.LinAlgError:\n",
    "        continue"
   ]
  },
  {
   "cell_type": "code",
   "execution_count": 14,
   "id": "74402f18",
   "metadata": {},
   "outputs": [
    {
     "data": {
      "image/png": "[encoded data removed]",
      "text/plain": [
       "<Figure size 640x480 with 1 Axes>"
      ]
     },
     "metadata": {},
     "output_type": "display_data"
    }
   ],
   "source": [
    "plt.plot(krylov_dvals, krylov_evals, \"--o\", label=\"Krylov with $H$\")\n",
    "plt.axhline(energy_exact, ls=\"--\", color=\"black\", label=\"Exact\")\n",
    "plt.xlabel(\"Subspace dimension $d$\")\n",
    "plt.ylabel(\"Eigenvalue\")\n",
    "plt.legend();"
   ]
  },
  {
   "cell_type": "markdown",
   "id": "b39c0bb0",
   "metadata": {},
   "source": [
    "### Unitary Krylov"
   ]
  },
  {
   "cell_type": "code",
   "execution_count": 15,
   "id": "5000f528",
   "metadata": {},
   "outputs": [
    {
     "data": {
      "text/plain": [
       "1.2887527042360303"
      ]
     },
     "execution_count": 15,
     "metadata": {},
     "output_type": "execute_result"
    }
   ],
   "source": [
    "# See Theorem 3.1 of https://arxiv.org/abs/2110.07492.\n",
    "# dt = np.pi / (evals_exact[-1] - evals_exact[0])\n",
    "dt = np.pi / mpo.norm()\n",
    "\n",
    "if problem == \"hchain\":\n",
    "    dt *= 5 * natoms  # Empirically found that larger dt works better for H chains.\n",
    "\n",
    "dt"
   ]
  },
  {
   "cell_type": "code",
   "execution_count": 16,
   "id": "8a9d1a88",
   "metadata": {},
   "outputs": [],
   "source": [
    "if nqubits <= 10:\n",
    "    matrix = mpo.to_dense()\n",
    "    vec = bvec.to_dense()\n",
    "\n",
    "    vectors_u = []\n",
    "    for k in range(-subspace_dimension // 2, subspace_dimension // 2 + 1, 1):\n",
    "        print(k)\n",
    "        Uk = sp.sparse.linalg.expm(-1j * matrix * k * dt)  # TODO: Speedup with https://docs.scipy.org/doc/scipy/reference/generated/scipy.sparse.linalg.expm_multiply.html.\n",
    "        vectors_u.append(Uk @ vec)\n",
    "\n",
    "\n",
    "    h, s = fill_h_and_s_matrices(vectors_u, matrix, verbose=True)\n",
    "\n",
    "    krylov_u_dvals = []\n",
    "    krylov_u_evals = []\n",
    "    for d in range(1, len(h)):\n",
    "        try:\n",
    "            krylov_energy = solve_regularized_gen_eig(h[:d, :d], s[:d, :d], threshold=threshold)\n",
    "            print(d, krylov_energy)\n",
    "            krylov_u_dvals.append(d)\n",
    "            krylov_u_evals.append(krylov_energy)\n",
    "        except np.linalg.LinAlgError:\n",
    "            continue"
   ]
  },
  {
   "cell_type": "markdown",
   "id": "ea0c27ca",
   "metadata": {},
   "source": [
    "## Trotterized unitary Krylov"
   ]
  },
  {
   "cell_type": "code",
   "execution_count": 17,
   "id": "f74782e3",
   "metadata": {},
   "outputs": [],
   "source": [
    "def cirq_pauli_sum_to_qiskit_pauli_op(pauli_sum: cirq.PauliSum) -> qiskit.quantum_info.SparsePauliOp:\n",
    "    \"\"\"Returns a qiskit.SparsePauliOp representation of the cirq.PauliSum.\"\"\"\n",
    "    cirq_pauli_to_str = {cirq.X: \"X\", cirq.Y: \"Y\", cirq.Z: \"Z\"}\n",
    "\n",
    "    qubits = pauli_sum.qubits\n",
    "    terms = []\n",
    "    coeffs = []\n",
    "    for term in pauli_sum:\n",
    "        string = \"\"\n",
    "        for qubit in qubits:\n",
    "            if qubit not in term:\n",
    "                string += \"I\"\n",
    "            else:\n",
    "                string += cirq_pauli_to_str[term[qubit]]\n",
    "        terms.append(string)\n",
    "        assert np.isclose(term.coefficient.imag, 0.0, atol=1e-7)\n",
    "        coeffs.append(term.coefficient.real)\n",
    "    return qiskit.quantum_info.SparsePauliOp(terms, coeffs)"
   ]
  },
  {
   "cell_type": "code",
   "execution_count": 18,
   "id": "4f7a306a",
   "metadata": {},
   "outputs": [],
   "source": [
    "hamiltonian_qiskit = cirq_pauli_sum_to_qiskit_pauli_op(hamiltonian_cirq)"
   ]
  },
  {
   "cell_type": "code",
   "execution_count": null,
   "id": "39e48f1c",
   "metadata": {},
   "outputs": [
    {
     "name": "stdout",
     "output_type": "stream",
     "text": [
      "Status: ntrotter = 1\n",
      "Trotter circuit gate counts:\n",
      "OrderedDict([('cx', 1544), ('u3', 1283)])\n",
      "Forward: 0\n",
      "Forward: 1\n",
      "Forward: 2\n",
      "Forward: 3\n",
      "Forward: 4\n",
      "Forward: 5\n",
      "Forward: 6\n",
      "Forward: 7\n",
      "Reverse: 0\n",
      "Reverse: 1\n",
      "Reverse: 2\n",
      "Reverse: 3\n",
      "Reverse: 4\n",
      "Reverse: 5\n",
      "Reverse: 6\n",
      "Reverse: 7\n",
      "A_00 A_01 A_02 A_03 A_04 A_05 A_06 A_07 A_08 A_09 A_010 A_011 A_012 A_013 A_014 A_015 A_016 A_11 A_12 A_13 A_14 A_15 A_16 A_17 A_18 A_19 A_110 A_111 A_112 A_113 A_114 A_115 A_116 A_22 A_23 A_24 A_25 A_26 A_27 A_28 A_29 A_210 A_211 A_212 A_213 A_214 A_215 A_216 A_33 A_34 A_35 A_36 A_37 A_38 A_39 A_310 A_311 A_312 A_313 A_314 A_315 A_316 A_44 A_45 A_46 A_47 A_48 A_49 A_410 A_411 A_412 A_413 A_414 A_415 A_416 A_55 A_56 A_57 A_58 A_59 A_510 A_511 A_512 A_513 A_514 A_515 A_516 A_66 A_67 A_68 A_69 A_610 A_611 A_612 A_613 A_614 A_615 A_616 A_77 A_78 A_79 A_710 A_711 A_712 A_713 A_714 A_715 A_716 A_88 A_89 A_810 A_811 A_812 A_813 A_814 A_815 A_816 A_99 A_910 A_911 A_912 A_913 A_914 A_915 A_916 A_1010 A_1011 A_1012 A_1013 A_1014 A_1015 A_1016 A_1111 A_1112 A_1113 A_1114 A_1115 A_1116 A_1212 A_1213 A_1214 A_1215 A_1216 A_1313 A_1314 A_1315 A_1316 A_1414 A_1415 A_1416 A_1515 A_1516 A_1616 Krylov 1 energy: -1.5748432375415755\n",
      "Krylov 2 energy: -1.8066726766238537\n",
      "Krylov 3 energy: -2.0448512210752003\n",
      "Krylov 4 energy: -2.2365077672272706\n",
      "Krylov 5 energy: -2.42929298564174\n",
      "Krylov 6 energy: -2.6023566064096837\n",
      "Krylov 7 energy: -2.8308122713193145\n",
      "Krylov 8 energy: -3.071090966942358\n",
      "Krylov 9 energy: -3.1679163384670335\n",
      "Krylov 10 energy: -3.169992671868335\n",
      "Krylov 11 energy: -3.1705168852487158\n",
      "Krylov 12 energy: -3.1706449995217456\n",
      "Krylov 13 energy: -3.170745171909782\n",
      "Krylov 14 energy: -3.170762590054915\n",
      "Krylov 15 energy: -3.1708689969030126\n",
      "Krylov 16 energy: -3.17090810894119\n",
      "\n",
      "\n",
      "\n",
      "\n",
      "\n",
      "\n",
      "\n",
      "\n",
      "\n",
      "\n",
      "\n",
      "Status: ntrotter = 2\n",
      "Trotter circuit gate counts:\n",
      "OrderedDict([('cx', 3088), ('u3', 2579)])\n",
      "Forward: 0\n",
      "Forward: 1\n",
      "Forward: 2\n",
      "Forward: 3\n",
      "Forward: 4\n",
      "Forward: 5\n",
      "Forward: 6\n",
      "Forward: 7\n",
      "Reverse: 0\n",
      "Reverse: 1\n",
      "Reverse: 2\n",
      "Reverse: 3\n",
      "Reverse: 4\n",
      "Reverse: 5\n",
      "Reverse: 6\n",
      "Reverse: 7\n",
      "A_00 A_01 A_02 A_03 A_04 A_05 A_06 A_07 A_08 A_09 A_010 A_011 A_012 A_013 A_014 A_015 A_016 A_11 A_12 A_13 A_14 A_15 A_16 A_17 A_18 A_19 A_110 A_111 A_112 A_113 A_114 A_115 A_116 A_22 A_23 A_24 A_25 A_26 A_27 A_28 A_29 A_210 A_211 A_212 A_213 A_214 A_215 A_216 A_33 A_34 A_35 A_36 A_37 A_38 A_39 A_310 A_311 A_312 A_313 A_314 A_315 A_316 A_44 A_45 A_46 A_47 A_48 A_49 A_410 A_411 A_412 A_413 A_414 A_415 A_416 A_55 A_56 A_57 A_58 A_59 A_510 A_511 A_512 A_513 A_514 A_515 A_516 A_66 A_67 A_68 A_69 A_610 A_611 A_612 A_613 A_614 A_615 A_616 A_77 A_78 A_79 A_710 A_711 A_712 A_713 A_714 A_715 A_716 A_88 A_89 A_810 A_811 A_812 A_813 A_814 A_815 A_816 A_99 A_910 A_911 A_912 A_913 A_914 A_915 A_916 A_1010 A_1011 A_1012 A_1013 A_1014 A_1015 A_1016 A_1111 A_1112 A_1113 A_1114 A_1115 A_1116 A_1212 A_1213 A_1214 A_1215 A_1216 A_1313 A_1314 A_1315 A_1316 A_1414 A_1415 A_1416 A_1515 A_1516 A_1616 Krylov 1 energy: -1.5297567641382062\n",
      "Krylov 2 energy: -1.6711168430800396\n",
      "Krylov 3 energy: -1.8642085002981645\n",
      "Krylov 4 energy: -2.0831997171757157\n",
      "Krylov 5 energy: -2.3323826593292987\n",
      "Krylov 6 energy: -2.549148530131521\n",
      "Krylov 7 energy: -2.8085186256890236\n",
      "Krylov 8 energy: -3.0649756796419947\n",
      "Krylov 9 energy: -3.1676016374390614\n",
      "Krylov 10 energy: -3.1697055616497782\n",
      "Krylov 11 energy: -3.170226222822171\n",
      "Krylov 12 energy: -3.170369647029309\n",
      "Krylov 13 energy: -3.170477084204585\n",
      "Krylov 14 energy: -3.1704948536317916\n",
      "Krylov 15 energy: -3.1705623297397505\n",
      "Krylov 16 energy: -3.1705770171777523\n",
      "\n",
      "\n",
      "\n",
      "\n",
      "\n",
      "\n",
      "\n",
      "\n",
      "\n",
      "\n",
      "\n",
      "Status: ntrotter = 4\n",
      "Trotter circuit gate counts:\n",
      "OrderedDict([('cx', 6176), ('u3', 5131)])\n",
      "Forward: 0\n",
      "Forward: 1\n",
      "Forward: 2\n",
      "Forward: 3\n",
      "Forward: 4\n",
      "Forward: 5\n",
      "Forward: 6\n",
      "Forward: 7\n",
      "Reverse: 0\n",
      "Reverse: 1\n",
      "Reverse: 2\n",
      "Reverse: 3\n",
      "Reverse: 4\n",
      "Reverse: 5\n",
      "Reverse: 6\n",
      "Reverse: 7\n",
      "A_00 A_01 A_02 A_03 A_04 A_05 A_06 A_07 A_08 A_09 A_010 A_011 A_012 A_013 A_014 A_015 A_016 A_11 A_12 A_13 A_14 A_15 A_16 A_17 A_18 A_19 A_110 A_111 A_112 A_113 A_114 A_115 A_116 A_22 A_23 A_24 A_25 A_26 A_27 A_28 A_29 A_210 A_211 A_212 A_213 A_214 A_215 A_216 A_33 A_34 A_35 A_36 A_37 A_38 A_39 A_310 A_311 A_312 A_313 A_314 A_315 A_316 A_44 A_45 A_46 A_47 A_48 A_49 A_410 A_411 A_412 A_413 A_414 A_415 A_416 A_55 A_56 A_57 A_58 A_59 A_510 A_511 A_512 A_513 A_514 A_515 A_516 A_66 A_67 A_68 A_69 A_610 A_611 A_612 A_613 A_614 A_615 A_616 A_77 A_78 A_79 A_710 A_711 A_712 A_713 A_714 A_715 A_716 A_88 A_89 A_810 A_811 A_812 A_813 A_814 A_815 A_816 A_99 A_910 A_911 A_912 A_913 A_914 A_915 A_916 A_1010 A_1011 A_1012 A_1013 A_1014 A_1015 A_1016 A_1111 A_1112 A_1113 A_1114 A_1115 A_1116 A_1212 A_1213 A_1214 A_1215 A_1216 A_1313 A_1314 A_1315 A_1316 A_1414 A_1415 A_1416 A_1515 A_1516 A_1616 Krylov 1 energy: -1.5282848895671473\n",
      "Krylov 2 energy: -1.6425328455697472\n",
      "Krylov 3 energy: -1.8077250922095618\n",
      "Krylov 4 energy: -2.0302541133236867\n",
      "Krylov 5 energy: -2.2985144474538624\n",
      "Krylov 6 energy: -2.5303669820332564\n",
      "Krylov 7 energy: -2.802227132763428\n",
      "Krylov 8 energy: -3.063459568938235\n",
      "Krylov 9 energy: -3.1674956066072655\n",
      "Krylov 10 energy: -3.169639248178291\n",
      "Krylov 11 energy: -3.1701277740190945\n",
      "Krylov 12 energy: -3.1702921007628695\n",
      "Krylov 13 energy: -3.170414653553566\n",
      "Krylov 14 energy: -3.1704290940257214\n",
      "Krylov 15 energy: -3.170483362356959\n",
      "Krylov 16 energy: -3.1704925802648285\n",
      "\n",
      "\n",
      "\n",
      "\n",
      "\n",
      "\n",
      "\n",
      "\n",
      "\n",
      "\n",
      "\n",
      "Status: ntrotter = 8\n",
      "Trotter circuit gate counts:\n",
      "OrderedDict([('cx', 12352), ('u3', 10243)])\n",
      "Forward: 0\n",
      "Forward: 1\n",
      "Forward: 2\n",
      "Forward: 3\n",
      "Forward: 4\n",
      "Forward: 5\n",
      "Forward: 6\n",
      "Forward: 7\n",
      "Reverse: 0\n",
      "Reverse: 1\n",
      "Reverse: 2\n",
      "Reverse: 3\n",
      "Reverse: 4\n",
      "Reverse: 5\n",
      "Reverse: 6\n",
      "Reverse: 7\n",
      "A_00 A_01 A_02 A_03 A_04 A_05 A_06 A_07 A_08 A_09 A_010 A_011 A_012 A_013 A_014 A_015 A_016 A_11 A_12 A_13 A_14 A_15 A_16 A_17 A_18 A_19 A_110 A_111 A_112 A_113 A_114 A_115 A_116 A_22 A_23 A_24 A_25 A_26 A_27 A_28 A_29 "
     ]
    }
   ],
   "source": [
    "ntrotter_values = [1, 2, 4, 8, 16, 32]\n",
    "trotter_circuits = []\n",
    "all_krylov_u_trotter_dvals = []\n",
    "all_krylov_u_trotter_evals = []\n",
    "\n",
    "for ntrotter in ntrotter_values:\n",
    "    print(\"Status: ntrotter =\", ntrotter)\n",
    "    trotter_operation = qiskit.circuit.library.PauliEvolutionGate(\n",
    "        hamiltonian_qiskit,\n",
    "        time=dt,\n",
    "        synthesis=qiskit.synthesis.LieTrotter(reps=ntrotter)\n",
    "    )\n",
    "    trotter_circuit = qiskit.QuantumCircuit(nqubits)\n",
    "    trotter_circuit.append(trotter_operation, trotter_circuit.qubits)\n",
    "    trotter_circuit = qiskit.transpile(\n",
    "        trotter_circuit, basis_gates=[\"u3\", \"cx\"]\n",
    "    )  # TODO: Compile to a target backend, e.g. IBM Fez.\n",
    "    print(\"Trotter circuit gate counts:\")\n",
    "    print(trotter_circuit.count_ops())\n",
    "\n",
    "    trotter_circuits.append(trotter_circuit)\n",
    "\n",
    "    forward = trotter_circuit.copy()\n",
    "    forward_qasm = qiskit.qasm2.dumps(forward)\n",
    "\n",
    "    reverse = trotter_circuit.inverse().copy()\n",
    "    reverse_qasm = qiskit.qasm2.dumps(reverse)\n",
    "\n",
    "    forward_vectors = [bvec]\n",
    "\n",
    "    for k in range(subspace_dimension // 2):\n",
    "        print(\"Forward:\", k)\n",
    "        new = qtn.CircuitMPS.from_openqasm2_str(\n",
    "            forward_qasm, psi0=forward_vectors[-1], progbar=False, max_bond=max_mps_bond,\n",
    "        ).psi\n",
    "        forward_vectors.append(new)\n",
    "    \n",
    "    reverse_vectors = [bvec]\n",
    "    for k in range(subspace_dimension // 2):\n",
    "        print(\"Reverse:\", k)\n",
    "        new = qtn.CircuitMPS.from_openqasm2_str(\n",
    "            reverse_qasm, psi0=reverse_vectors[-1], progbar=False, max_bond=max_mps_bond,\n",
    "        ).psi\n",
    "        reverse_vectors.append(new)\n",
    "\n",
    "    _ = reverse_vectors.pop(0)\n",
    "    reverse_vectors = list(reversed(reverse_vectors))\n",
    "\n",
    "    vectors_u_trotter = reverse_vectors + forward_vectors\n",
    "\n",
    "    h, s = fill_h_and_s_matrices(vectors_u_trotter, mpo, verbose=True)\n",
    "\n",
    "    krylov_u_trotter_evals = []\n",
    "    krylov_u_trotter_dvals = []\n",
    "    for d in range(1, len(h)):\n",
    "        try:\n",
    "            krylov_energy = solve_regularized_gen_eig(h[:d, :d], s[:d, :d], threshold=threshold)\n",
    "            print(f\"Krylov {d} energy:\", krylov_energy)\n",
    "            krylov_u_trotter_dvals.append(d)\n",
    "            krylov_u_trotter_evals.append(krylov_energy)\n",
    "        except np.linalg.LinAlgError:\n",
    "            continue\n",
    "    \n",
    "    all_krylov_u_trotter_dvals.append(krylov_u_trotter_dvals)\n",
    "    all_krylov_u_trotter_evals.append(krylov_u_trotter_evals)\n",
    "    print(\"\\n\" * 10)"
   ]
  },
  {
   "cell_type": "code",
   "execution_count": null,
   "id": "fb1fe8f9",
   "metadata": {},
   "outputs": [],
   "source": [
    "cutoff_ind = -1\n",
    "\n",
    "kwargs = {\"alpha\": 0.6667, \"mec\": \"black\"}\n",
    "\n",
    "# plt.figure(figsize=(8, 5))\n",
    "\n",
    "errors_h = np.abs(np.array(krylov_evals) - energy_exact)\n",
    "plt.plot(krylov_dvals[:cutoff_ind], errors_h[:cutoff_ind], \"--s\", label=\"$\\mathcal{H}$\", **kwargs)\n",
    "\n",
    "if nqubits <= 10:\n",
    "    errors_u = np.abs(np.array(krylov_u_evals) - energy_exact)\n",
    "    plt.plot(krylov_u_dvals[:cutoff_ind], errors_u[:cutoff_ind], \"--s\", label=\"$U$\", **kwargs)\n",
    "\n",
    "for ntrotter, krylov_u_trotter_dvals, krylov_u_trotter_evals in zip(ntrotter_values, all_krylov_u_trotter_dvals, all_krylov_u_trotter_evals):\n",
    "    errors_u_trotter = np.abs(np.array(krylov_u_trotter_evals) - energy_exact)\n",
    "    plt.plot(krylov_u_trotter_dvals[:cutoff_ind], errors_u_trotter[:cutoff_ind], \"--s\", label=rf\"$U'$ ({ntrotter} Trotter step(s))\", **kwargs)\n",
    "\n",
    "plt.axhline(1e-3, ls=\"--\", color=\"black\", label=\"Chemical accuracy\")\n",
    "\n",
    "# plt.title(f\"{nqubits}-qubit Fermi-Hubbard Hamiltonian\\nInitial state overlap with ground state = {round(overlap, 3)}\")\n",
    "plt.xlabel(\"Subspace dimension $d$\")\n",
    "plt.ylabel(\"Absolute energy error\")\n",
    "\n",
    "plt.yscale(\"log\")\n",
    "plt.legend(ncol=2) #bbox_to_anchor=(1.05, 1));\n",
    "plt.tight_layout()\n",
    "# plt.savefig(f\"krylov_{problem}_nqubits_{nqubits}_overlap_{overlap}_threshold_{threshold}_max_trotter_{max(ntrotter_values)}_dt_{dt}_seed_{seed}.pdf\")"
   ]
  },
  {
   "cell_type": "code",
   "execution_count": null,
   "id": "f406c8ab",
   "metadata": {},
   "outputs": [],
   "source": [
    "ngates_oneq = []\n",
    "ngates_twoq = []\n",
    "depths = []\n",
    "\n",
    "for circuit in trotter_circuits:\n",
    "    counts = circuit.count_ops()\n",
    "    ngates_oneq.append(counts.get(\"u3\"))\n",
    "    ngates_twoq.append(counts.get(\"cx\"))\n",
    "    depths.append(circuit.depth())"
   ]
  },
  {
   "cell_type": "code",
   "execution_count": null,
   "id": "7f120734",
   "metadata": {},
   "outputs": [],
   "source": [
    "plt.plot(ntrotter_values, ngates_oneq, \"--o\", label=\"One-qubit gates\")\n",
    "plt.plot(ntrotter_values, ngates_twoq, \"--o\", label=\"Two-qubit gates\")\n",
    "plt.plot(ntrotter_values, depths, \"--o\", label=\"Circuit depth\")\n",
    "\n",
    "plt.xlabel(\"Number of Trotter steps\")\n",
    "plt.ylabel(\"Count\")\n",
    "\n",
    "plt.legend();"
   ]
  },
  {
   "cell_type": "markdown",
   "id": "389dfb73",
   "metadata": {},
   "source": []
  }
 ],
 "metadata": {
  "kernelspec": {
   "display_name": "compare (3.13.7)",
   "language": "python",
   "name": "python3"
  },
  "language_info": {
   "codemirror_mode": {
    "name": "ipython",
    "version": 3
   },
   "file_extension": ".py",
   "mimetype": "text/x-python",
   "name": "python",
   "nbconvert_exporter": "python",
   "pygments_lexer": "ipython3",
   "version": "3.13.7"
  }
 },
 "nbformat": 4,
 "nbformat_minor": 5
}
