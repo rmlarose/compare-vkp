{
 "cells": [
  {
   "cell_type": "code",
   "execution_count": 65,
   "id": "322c992d",
   "metadata": {},
   "outputs": [],
   "source": [
    "from typing import List, Tuple\n",
    "import numpy as np\n",
    "import scipy as sp\n",
    "import pandas as pd\n",
    "import matplotlib.pyplot as plt\n",
    "import openfermion as of\n",
    "import cirq\n",
    "import qiskit\n",
    "from qiskit.qasm2 import dumps\n",
    "from cirq.contrib.qasm_import import circuit_from_qasm\n",
    "from convert import cirq_pauli_sum_to_qiskit_pauli_op"
   ]
  },
  {
   "cell_type": "code",
   "execution_count": 66,
   "id": "279012cf",
   "metadata": {},
   "outputs": [],
   "source": [
    "# See Kirby paper\n",
    "def upper_bound(H_norm, overlap, d, delta, delta_prime, Delta_prime, chi, zeta):\n",
    "    term0 = delta_prime if delta_prime > Delta_prime else 0\n",
    "    term1 = (1/overlap)*(1+6*H_norm/(delta_prime-delta))*chi\n",
    "    term2 = (6*H_norm/overlap)*zeta\n",
    "    term3 = (6*H_norm/overlap)*8*(1+0.5*np.pi*delta/H_norm)**(-2*d)\n",
    "    out = term0+term1+term2+term3\n",
    "    return out"
   ]
  },
  {
   "cell_type": "code",
   "execution_count": 67,
   "id": "02fc0ee3",
   "metadata": {},
   "outputs": [],
   "source": [
    "def minimized_bound(H_norm, overlap_prime, d, Delta, Delta_prime, chi, zeta):\n",
    "    def upper_bound_fn(x):\n",
    "            return upper_bound(H_norm, overlap_prime, d, x[0], x[1], Delta_prime, chi, zeta)\n",
    "        \n",
    "    if Delta_prime > 0:\n",
    "        x0 = (Delta_prime/2, Delta_prime)\n",
    "    else:\n",
    "        x0 = (Delta/2,Delta)\n",
    "    \n",
    "    \n",
    "    # Minimize over values of delta and delta_prime:\n",
    "    min_bound = sp.optimize.minimize(\n",
    "        upper_bound_fn,\n",
    "        method='COBYLA',\n",
    "        x0=x0,\n",
    "        constraints=(\n",
    "            {'type': 'ineq', 'fun': lambda x:  x[1]-x[0]-chi/overlap_prime},\n",
    "            {'type': 'ineq', 'fun': lambda x:  x[0]},\n",
    "            {'type': 'ineq', 'fun': lambda x:  x[1]},\n",
    "            {'type': 'ineq', 'fun': lambda x:  (Delta_prime-0.01 if Delta_prime>0.01 else Delta) - x[1]}\n",
    "        )\n",
    "    )\n",
    "    \n",
    "    if min_bound.fun < upper_bound_fn(x0):\n",
    "        bound = min_bound.fun\n",
    "    else:\n",
    "        print('Minimization failed bound', min_bound.fun, 'replaced with default (initial) point')\n",
    "        bound = upper_bound_fn(x0)\n",
    "    return bound"
   ]
  },
  {
   "cell_type": "code",
   "execution_count": 68,
   "id": "95cd9d4c",
   "metadata": {},
   "outputs": [],
   "source": [
    "def fill_h_and_s_matrices(\n",
    "    vectors: List[np.ndarray],\n",
    "    matrix: np.ndarray,\n",
    "    verbose: bool = False,\n",
    ") -> Tuple[np.ndarray, np.ndarray]:\n",
    "    dim = len(vectors)\n",
    "    h = np.zeros((dim, dim), dtype=np.complex128)\n",
    "    s = np.zeros((dim, dim), dtype=np.complex128)\n",
    "\n",
    "    for i in range(dim):\n",
    "        for j in range(i, dim):\n",
    "            if verbose:\n",
    "                print(i, j)\n",
    "            hij = vectors[i].conj().T @ matrix @ vectors[j]\n",
    "            h[i, j] = hij\n",
    "\n",
    "            if i != j:\n",
    "                h[j, i] = np.conjugate(hij)\n",
    "\n",
    "            sij = vectors[i].conj().T @ vectors[j]\n",
    "            s[i, j] = sij\n",
    "            if i != j:\n",
    "                s[j, i] = np.conjugate(sij)\n",
    "    return h, s"
   ]
  },
  {
   "cell_type": "code",
   "execution_count": 69,
   "id": "4153cf91",
   "metadata": {},
   "outputs": [],
   "source": [
    "# Based on https://quantum.cloud.ibm.com/docs/en/tutorials/krylov-quantum-diagonalization.\n",
    "# and Algorithm 1.1 of https://arxiv.org/abs/2110.07492.\n",
    "def solve_regularized_gen_eig(\n",
    "    h: np.ndarray,\n",
    "    s: np.ndarray,\n",
    "    threshold: float,\n",
    ") -> float:\n",
    "    if np.isclose(threshold, 0, atol=1e-10):\n",
    "        h_reg = h\n",
    "        s_reg = s\n",
    "    else:\n",
    "        s_vals, s_vecs = sp.linalg.eigh(s)\n",
    "        s_vecs = s_vecs.T\n",
    "        good_vecs = np.array(\n",
    "            [vec for val, vec in zip(s_vals, s_vecs) if val > threshold]\n",
    "        )\n",
    "        h_reg = good_vecs.conj() @ h @ good_vecs.T\n",
    "        s_reg = good_vecs.conj() @ s @ good_vecs.T\n",
    "        return sp.linalg.eigh(h_reg, s_reg)[0][0]"
   ]
  },
  {
   "cell_type": "code",
   "execution_count": 70,
   "id": "ba48c893",
   "metadata": {},
   "outputs": [
    {
     "name": "stdout",
     "output_type": "stream",
     "text": [
      "Exact energy: -2.0\n",
      "Excited state energy = -0.8284271247461893\n",
      "Delta = 1.1715728752538106\n",
      "Overlap = 0.39318959965829\n"
     ]
    }
   ],
   "source": [
    "l = 2\n",
    "t = 1.0\n",
    "u = 4.0\n",
    "hamiltonian_fermi = of.hamiltonians.fermi_hubbard(\n",
    "    l, l, t, u, spinless=True, periodic=False\n",
    ")\n",
    "hamiltonian = of.transforms.jordan_wigner(hamiltonian_fermi)\n",
    "nqubits = of.utils.count_qubits(hamiltonian)\n",
    "ham_cirq = of.transforms.qubit_operator_to_pauli_sum(hamiltonian)\n",
    "ham_qiskit = cirq_pauli_sum_to_qiskit_pauli_op(ham_cirq)\n",
    "matrix = ham_cirq.matrix()\n",
    "ham_norm = np.linalg.norm(matrix)\n",
    "\n",
    "evals_exact, evecs_exact = np.linalg.eigh(matrix)\n",
    "ground_state = evecs_exact.T[0]\n",
    "energy_exact = min(evals_exact)\n",
    "print(\"Exact energy:\", energy_exact)\n",
    "\n",
    "sorted_evals_exact = sorted(evals_exact)\n",
    "excited_energy = sorted_evals_exact[1]\n",
    "print(\"Excited state energy =\", excited_energy)\n",
    "big_delta = excited_energy - energy_exact\n",
    "print(\"Delta =\", big_delta)\n",
    "\n",
    "bvec = ground_state + np.random.randn(ground_state.shape[0]) / 5.0\n",
    "bvec /= np.linalg.norm(bvec)\n",
    "\n",
    "overlap = np.abs(bvec.conj().T @ ground_state) ** 2\n",
    "print(\"Overlap =\", overlap)"
   ]
  },
  {
   "cell_type": "markdown",
   "id": "51a3980b",
   "metadata": {},
   "source": [
    "## Error vs. $d$ with perfect Trotter.\n",
    "\n",
    "If we implement Trotter prefectly, then $||H'-H|| = 0$ and $||S'-S||=0$, which means $\\chi = 0$. Since $||S' - S|| = 0$, $\\zeta = 2 d \\epsilon$. Since $\\chi = 0$, $\\Delta' = \\Delta$."
   ]
  },
  {
   "cell_type": "code",
   "execution_count": 85,
   "id": "b757fe4c",
   "metadata": {},
   "outputs": [
    {
     "name": "stderr",
     "output_type": "stream",
     "text": [
      "/var/folders/62/vpq4vzfx3zlfyyr3mw8zdmrc0000gn/T/ipykernel_73505/509866375.py:4: RuntimeWarning: divide by zero encountered in scalar divide\n",
      "  term1 = (1/overlap)*(1+6*H_norm/(delta_prime-delta))*chi\n",
      "/var/folders/62/vpq4vzfx3zlfyyr3mw8zdmrc0000gn/T/ipykernel_73505/509866375.py:4: RuntimeWarning: invalid value encountered in scalar multiply\n",
      "  term1 = (1/overlap)*(1+6*H_norm/(delta_prime-delta))*chi\n"
     ]
    }
   ],
   "source": [
    "eps = 1e-8\n",
    "ds = [1, 2, 5, 10, 20, 30, 50]\n",
    "\n",
    "upper_bounds = []\n",
    "for d in ds:\n",
    "    zeta = 2 * d * eps\n",
    "    bound = minimized_bound(ham_norm, overlap, d, big_delta, big_delta, 0., zeta)\n",
    "    upper_bounds.append(bound)"
   ]
  },
  {
   "cell_type": "code",
   "execution_count": 87,
   "id": "d6a297c1",
   "metadata": {},
   "outputs": [
    {
     "data": {
      "text/plain": [
       "Text(0, 0.5, 'Upper bound on $|E - E_0|$')"
      ]
     },
     "execution_count": 87,
     "metadata": {},
     "output_type": "execute_result"
    },
    {
     "data": {
      "image/png": "[encoded data removed]",
      "text/plain": [
       "<Figure size 640x480 with 1 Axes>"
      ]
     },
     "metadata": {},
     "output_type": "display_data"
    }
   ],
   "source": [
    "fig, ax = plt.subplots()\n",
    "plt.plot(ds, upper_bounds)\n",
    "ax.set_xlabel(\"d\")\n",
    "ax.set_ylabel(r\"Upper bound on $|E - E_0|$\")"
   ]
  },
  {
   "cell_type": "markdown",
   "id": "af950f08",
   "metadata": {},
   "source": [
    "## Error vs. number of Trotter steps"
   ]
  },
  {
   "cell_type": "code",
   "execution_count": 71,
   "id": "01eaef66",
   "metadata": {},
   "outputs": [],
   "source": [
    "subspace_dimension = 10\n",
    "threshold = 1e-4"
   ]
  },
  {
   "cell_type": "code",
   "execution_count": 72,
   "id": "11ce0ddf",
   "metadata": {},
   "outputs": [
    {
     "name": "stdout",
     "output_type": "stream",
     "text": [
      "-20\n",
      "-19\n",
      "-18\n",
      "-17\n",
      "-16\n",
      "-15\n",
      "-14\n",
      "-13\n",
      "-12\n",
      "-11\n",
      "-10\n",
      "-9\n",
      "-8\n",
      "-7\n",
      "-6\n",
      "-5\n",
      "-4\n",
      "-3\n",
      "-2\n",
      "-1\n",
      "0\n",
      "1\n",
      "2\n",
      "3\n",
      "4\n",
      "5\n",
      "6\n",
      "7\n",
      "8\n",
      "9\n",
      "10\n",
      "11\n",
      "12\n",
      "13\n",
      "14\n",
      "15\n",
      "16\n",
      "17\n",
      "18\n",
      "19\n",
      "20\n"
     ]
    },
    {
     "name": "stderr",
     "output_type": "stream",
     "text": [
      "/Users/benjamindalfavero/.venv/compare/lib/python3.13/site-packages/scipy/linalg/_matfuncs.py:373: RuntimeWarning: divide by zero encountered in matmul\n",
      "  eAw = eAw @ eAw\n",
      "/Users/benjamindalfavero/.venv/compare/lib/python3.13/site-packages/scipy/linalg/_matfuncs.py:373: RuntimeWarning: overflow encountered in matmul\n",
      "  eAw = eAw @ eAw\n",
      "/Users/benjamindalfavero/.venv/compare/lib/python3.13/site-packages/scipy/linalg/_matfuncs.py:373: RuntimeWarning: invalid value encountered in matmul\n",
      "  eAw = eAw @ eAw\n"
     ]
    }
   ],
   "source": [
    "dt = np.pi / (evals_exact[-1] - evals_exact[0])\n",
    "\n",
    "vectors_u = []\n",
    "for k in range(-2 * subspace_dimension, 2 * subspace_dimension + 1, 1):\n",
    "    print(k)\n",
    "    Uk = sp.linalg.expm(-1j * matrix * k * dt)\n",
    "    vectors_u.append(Uk @ bvec)"
   ]
  },
  {
   "cell_type": "code",
   "execution_count": 73,
   "id": "7d6e2ba5",
   "metadata": {},
   "outputs": [],
   "source": [
    "h_u, s_u = fill_h_and_s_matrices(vectors_u, matrix)"
   ]
  },
  {
   "cell_type": "code",
   "execution_count": 74,
   "id": "863efb38",
   "metadata": {},
   "outputs": [
    {
     "name": "stdout",
     "output_type": "stream",
     "text": [
      "1.7685066312351543\n",
      "-1.1634689864356944\n",
      "-1.6763133810271607\n",
      "-1.8000610269449866\n",
      "-1.8878398235195926\n",
      "-1.9541431320551164\n",
      "-1.9381981174184781\n",
      "-1.9904010551483207\n",
      "-1.986596519311936\n",
      "-1.9960074232042206\n",
      "-1.994483822799107\n",
      "-1.992724884701363\n",
      "-1.999567449922305\n",
      "-1.9994523951207948\n",
      "-1.9991675018871897\n",
      "-1.9985926216026815\n",
      "-1.9999999999999982\n",
      "-1.999999999999999\n",
      "-1.9999999999999973\n",
      "-2.0000000000000004\n",
      "-1.9999999999999978\n",
      "-2.0000000000000013\n",
      "-1.9999999999999993\n",
      "-2.0000000000000027\n",
      "-1.9999999999999998\n",
      "-1.999999999999999\n",
      "-1.9999999999999998\n",
      "-2.0\n",
      "-1.9999999999999998\n",
      "-1.9999999999999996\n",
      "-1.9999999999999964\n",
      "-2.000000000000002\n",
      "-1.9999999999999996\n",
      "-2.0\n",
      "-1.9999999999999991\n",
      "-2.0000000000000018\n",
      "-1.9999999999999984\n",
      "-2.000000000000002\n",
      "-2.000000000000001\n",
      "-1.9999999999999976\n"
     ]
    },
    {
     "name": "stderr",
     "output_type": "stream",
     "text": [
      "/var/folders/62/vpq4vzfx3zlfyyr3mw8zdmrc0000gn/T/ipykernel_73505/215692311.py:17: RuntimeWarning: divide by zero encountered in matmul\n",
      "  h_reg = good_vecs.conj() @ h @ good_vecs.T\n",
      "/var/folders/62/vpq4vzfx3zlfyyr3mw8zdmrc0000gn/T/ipykernel_73505/215692311.py:17: RuntimeWarning: overflow encountered in matmul\n",
      "  h_reg = good_vecs.conj() @ h @ good_vecs.T\n",
      "/var/folders/62/vpq4vzfx3zlfyyr3mw8zdmrc0000gn/T/ipykernel_73505/215692311.py:17: RuntimeWarning: invalid value encountered in matmul\n",
      "  h_reg = good_vecs.conj() @ h @ good_vecs.T\n",
      "/var/folders/62/vpq4vzfx3zlfyyr3mw8zdmrc0000gn/T/ipykernel_73505/215692311.py:18: RuntimeWarning: divide by zero encountered in matmul\n",
      "  s_reg = good_vecs.conj() @ s @ good_vecs.T\n",
      "/var/folders/62/vpq4vzfx3zlfyyr3mw8zdmrc0000gn/T/ipykernel_73505/215692311.py:18: RuntimeWarning: overflow encountered in matmul\n",
      "  s_reg = good_vecs.conj() @ s @ good_vecs.T\n",
      "/var/folders/62/vpq4vzfx3zlfyyr3mw8zdmrc0000gn/T/ipykernel_73505/215692311.py:18: RuntimeWarning: invalid value encountered in matmul\n",
      "  s_reg = good_vecs.conj() @ s @ good_vecs.T\n"
     ]
    }
   ],
   "source": [
    "krylov_u_evals = []\n",
    "for d in range(1, len(h_u)):\n",
    "    krylov_energy = solve_regularized_gen_eig(h_u[:d, :d], s_u[:d, :d], threshold=threshold)\n",
    "    print(krylov_energy)\n",
    "    krylov_u_evals.append(krylov_energy)"
   ]
  },
  {
   "cell_type": "markdown",
   "id": "99b10caa",
   "metadata": {},
   "source": [
    "## Get subspace matrices with Trotter."
   ]
  },
  {
   "cell_type": "code",
   "execution_count": 75,
   "id": "6c845517",
   "metadata": {},
   "outputs": [
    {
     "name": "stdout",
     "output_type": "stream",
     "text": [
      "On ntrotter = 1\n",
      "On ntrotter = 2\n",
      "On ntrotter = 4\n",
      "On ntrotter = 8\n",
      "On ntrotter = 16\n"
     ]
    },
    {
     "name": "stderr",
     "output_type": "stream",
     "text": [
      "/Users/benjamindalfavero/.venv/compare/lib/python3.13/site-packages/numpy/linalg/linalg.py:677: RuntimeWarning: divide by zero encountered in matmul\n",
      "  z = a if z is None else fmatmul(z, z)\n",
      "/Users/benjamindalfavero/.venv/compare/lib/python3.13/site-packages/numpy/linalg/linalg.py:677: RuntimeWarning: overflow encountered in matmul\n",
      "  z = a if z is None else fmatmul(z, z)\n",
      "/Users/benjamindalfavero/.venv/compare/lib/python3.13/site-packages/numpy/linalg/linalg.py:677: RuntimeWarning: invalid value encountered in matmul\n",
      "  z = a if z is None else fmatmul(z, z)\n",
      "/Users/benjamindalfavero/.venv/compare/lib/python3.13/site-packages/numpy/linalg/linalg.py:680: RuntimeWarning: divide by zero encountered in matmul\n",
      "  result = z if result is None else fmatmul(result, z)\n",
      "/Users/benjamindalfavero/.venv/compare/lib/python3.13/site-packages/numpy/linalg/linalg.py:680: RuntimeWarning: overflow encountered in matmul\n",
      "  result = z if result is None else fmatmul(result, z)\n",
      "/Users/benjamindalfavero/.venv/compare/lib/python3.13/site-packages/numpy/linalg/linalg.py:680: RuntimeWarning: invalid value encountered in matmul\n",
      "  result = z if result is None else fmatmul(result, z)\n",
      "/Users/benjamindalfavero/.venv/compare/lib/python3.13/site-packages/numpy/linalg/linalg.py:670: RuntimeWarning: divide by zero encountered in matmul\n",
      "  return fmatmul(fmatmul(a, a), a)\n",
      "/Users/benjamindalfavero/.venv/compare/lib/python3.13/site-packages/numpy/linalg/linalg.py:670: RuntimeWarning: overflow encountered in matmul\n",
      "  return fmatmul(fmatmul(a, a), a)\n",
      "/Users/benjamindalfavero/.venv/compare/lib/python3.13/site-packages/numpy/linalg/linalg.py:670: RuntimeWarning: invalid value encountered in matmul\n",
      "  return fmatmul(fmatmul(a, a), a)\n",
      "/Users/benjamindalfavero/.venv/compare/lib/python3.13/site-packages/numpy/linalg/linalg.py:667: RuntimeWarning: divide by zero encountered in matmul\n",
      "  return fmatmul(a, a)\n",
      "/Users/benjamindalfavero/.venv/compare/lib/python3.13/site-packages/numpy/linalg/linalg.py:667: RuntimeWarning: overflow encountered in matmul\n",
      "  return fmatmul(a, a)\n",
      "/Users/benjamindalfavero/.venv/compare/lib/python3.13/site-packages/numpy/linalg/linalg.py:667: RuntimeWarning: invalid value encountered in matmul\n",
      "  return fmatmul(a, a)\n",
      "/var/folders/62/vpq4vzfx3zlfyyr3mw8zdmrc0000gn/T/ipykernel_73505/215692311.py:17: RuntimeWarning: divide by zero encountered in matmul\n",
      "  h_reg = good_vecs.conj() @ h @ good_vecs.T\n",
      "/var/folders/62/vpq4vzfx3zlfyyr3mw8zdmrc0000gn/T/ipykernel_73505/215692311.py:17: RuntimeWarning: overflow encountered in matmul\n",
      "  h_reg = good_vecs.conj() @ h @ good_vecs.T\n",
      "/var/folders/62/vpq4vzfx3zlfyyr3mw8zdmrc0000gn/T/ipykernel_73505/215692311.py:17: RuntimeWarning: invalid value encountered in matmul\n",
      "  h_reg = good_vecs.conj() @ h @ good_vecs.T\n",
      "/var/folders/62/vpq4vzfx3zlfyyr3mw8zdmrc0000gn/T/ipykernel_73505/215692311.py:18: RuntimeWarning: divide by zero encountered in matmul\n",
      "  s_reg = good_vecs.conj() @ s @ good_vecs.T\n",
      "/var/folders/62/vpq4vzfx3zlfyyr3mw8zdmrc0000gn/T/ipykernel_73505/215692311.py:18: RuntimeWarning: overflow encountered in matmul\n",
      "  s_reg = good_vecs.conj() @ s @ good_vecs.T\n",
      "/var/folders/62/vpq4vzfx3zlfyyr3mw8zdmrc0000gn/T/ipykernel_73505/215692311.py:18: RuntimeWarning: invalid value encountered in matmul\n",
      "  s_reg = good_vecs.conj() @ s @ good_vecs.T\n",
      "/Users/benjamindalfavero/.venv/compare/lib/python3.13/site-packages/numpy/linalg/linalg.py:677: RuntimeWarning: divide by zero encountered in matmul\n",
      "  z = a if z is None else fmatmul(z, z)\n",
      "/Users/benjamindalfavero/.venv/compare/lib/python3.13/site-packages/numpy/linalg/linalg.py:677: RuntimeWarning: overflow encountered in matmul\n",
      "  z = a if z is None else fmatmul(z, z)\n",
      "/Users/benjamindalfavero/.venv/compare/lib/python3.13/site-packages/numpy/linalg/linalg.py:677: RuntimeWarning: invalid value encountered in matmul\n",
      "  z = a if z is None else fmatmul(z, z)\n",
      "/Users/benjamindalfavero/.venv/compare/lib/python3.13/site-packages/numpy/linalg/linalg.py:680: RuntimeWarning: divide by zero encountered in matmul\n",
      "  result = z if result is None else fmatmul(result, z)\n",
      "/Users/benjamindalfavero/.venv/compare/lib/python3.13/site-packages/numpy/linalg/linalg.py:680: RuntimeWarning: overflow encountered in matmul\n",
      "  result = z if result is None else fmatmul(result, z)\n",
      "/Users/benjamindalfavero/.venv/compare/lib/python3.13/site-packages/numpy/linalg/linalg.py:680: RuntimeWarning: invalid value encountered in matmul\n",
      "  result = z if result is None else fmatmul(result, z)\n",
      "/Users/benjamindalfavero/.venv/compare/lib/python3.13/site-packages/numpy/linalg/linalg.py:670: RuntimeWarning: divide by zero encountered in matmul\n",
      "  return fmatmul(fmatmul(a, a), a)\n",
      "/Users/benjamindalfavero/.venv/compare/lib/python3.13/site-packages/numpy/linalg/linalg.py:670: RuntimeWarning: overflow encountered in matmul\n",
      "  return fmatmul(fmatmul(a, a), a)\n",
      "/Users/benjamindalfavero/.venv/compare/lib/python3.13/site-packages/numpy/linalg/linalg.py:670: RuntimeWarning: invalid value encountered in matmul\n",
      "  return fmatmul(fmatmul(a, a), a)\n",
      "/Users/benjamindalfavero/.venv/compare/lib/python3.13/site-packages/numpy/linalg/linalg.py:667: RuntimeWarning: divide by zero encountered in matmul\n",
      "  return fmatmul(a, a)\n",
      "/Users/benjamindalfavero/.venv/compare/lib/python3.13/site-packages/numpy/linalg/linalg.py:667: RuntimeWarning: overflow encountered in matmul\n",
      "  return fmatmul(a, a)\n",
      "/Users/benjamindalfavero/.venv/compare/lib/python3.13/site-packages/numpy/linalg/linalg.py:667: RuntimeWarning: invalid value encountered in matmul\n",
      "  return fmatmul(a, a)\n",
      "/var/folders/62/vpq4vzfx3zlfyyr3mw8zdmrc0000gn/T/ipykernel_73505/215692311.py:17: RuntimeWarning: divide by zero encountered in matmul\n",
      "  h_reg = good_vecs.conj() @ h @ good_vecs.T\n",
      "/var/folders/62/vpq4vzfx3zlfyyr3mw8zdmrc0000gn/T/ipykernel_73505/215692311.py:17: RuntimeWarning: overflow encountered in matmul\n",
      "  h_reg = good_vecs.conj() @ h @ good_vecs.T\n",
      "/var/folders/62/vpq4vzfx3zlfyyr3mw8zdmrc0000gn/T/ipykernel_73505/215692311.py:17: RuntimeWarning: invalid value encountered in matmul\n",
      "  h_reg = good_vecs.conj() @ h @ good_vecs.T\n",
      "/var/folders/62/vpq4vzfx3zlfyyr3mw8zdmrc0000gn/T/ipykernel_73505/215692311.py:18: RuntimeWarning: divide by zero encountered in matmul\n",
      "  s_reg = good_vecs.conj() @ s @ good_vecs.T\n",
      "/var/folders/62/vpq4vzfx3zlfyyr3mw8zdmrc0000gn/T/ipykernel_73505/215692311.py:18: RuntimeWarning: overflow encountered in matmul\n",
      "  s_reg = good_vecs.conj() @ s @ good_vecs.T\n",
      "/var/folders/62/vpq4vzfx3zlfyyr3mw8zdmrc0000gn/T/ipykernel_73505/215692311.py:18: RuntimeWarning: invalid value encountered in matmul\n",
      "  s_reg = good_vecs.conj() @ s @ good_vecs.T\n",
      "/Users/benjamindalfavero/.venv/compare/lib/python3.13/site-packages/numpy/linalg/linalg.py:677: RuntimeWarning: divide by zero encountered in matmul\n",
      "  z = a if z is None else fmatmul(z, z)\n",
      "/Users/benjamindalfavero/.venv/compare/lib/python3.13/site-packages/numpy/linalg/linalg.py:677: RuntimeWarning: overflow encountered in matmul\n",
      "  z = a if z is None else fmatmul(z, z)\n",
      "/Users/benjamindalfavero/.venv/compare/lib/python3.13/site-packages/numpy/linalg/linalg.py:677: RuntimeWarning: invalid value encountered in matmul\n",
      "  z = a if z is None else fmatmul(z, z)\n",
      "/Users/benjamindalfavero/.venv/compare/lib/python3.13/site-packages/numpy/linalg/linalg.py:680: RuntimeWarning: divide by zero encountered in matmul\n",
      "  result = z if result is None else fmatmul(result, z)\n",
      "/Users/benjamindalfavero/.venv/compare/lib/python3.13/site-packages/numpy/linalg/linalg.py:680: RuntimeWarning: overflow encountered in matmul\n",
      "  result = z if result is None else fmatmul(result, z)\n",
      "/Users/benjamindalfavero/.venv/compare/lib/python3.13/site-packages/numpy/linalg/linalg.py:680: RuntimeWarning: invalid value encountered in matmul\n",
      "  result = z if result is None else fmatmul(result, z)\n",
      "/Users/benjamindalfavero/.venv/compare/lib/python3.13/site-packages/numpy/linalg/linalg.py:670: RuntimeWarning: divide by zero encountered in matmul\n",
      "  return fmatmul(fmatmul(a, a), a)\n",
      "/Users/benjamindalfavero/.venv/compare/lib/python3.13/site-packages/numpy/linalg/linalg.py:670: RuntimeWarning: overflow encountered in matmul\n",
      "  return fmatmul(fmatmul(a, a), a)\n",
      "/Users/benjamindalfavero/.venv/compare/lib/python3.13/site-packages/numpy/linalg/linalg.py:670: RuntimeWarning: invalid value encountered in matmul\n",
      "  return fmatmul(fmatmul(a, a), a)\n",
      "/Users/benjamindalfavero/.venv/compare/lib/python3.13/site-packages/numpy/linalg/linalg.py:667: RuntimeWarning: divide by zero encountered in matmul\n",
      "  return fmatmul(a, a)\n",
      "/Users/benjamindalfavero/.venv/compare/lib/python3.13/site-packages/numpy/linalg/linalg.py:667: RuntimeWarning: overflow encountered in matmul\n",
      "  return fmatmul(a, a)\n",
      "/Users/benjamindalfavero/.venv/compare/lib/python3.13/site-packages/numpy/linalg/linalg.py:667: RuntimeWarning: invalid value encountered in matmul\n",
      "  return fmatmul(a, a)\n",
      "/var/folders/62/vpq4vzfx3zlfyyr3mw8zdmrc0000gn/T/ipykernel_73505/215692311.py:17: RuntimeWarning: divide by zero encountered in matmul\n",
      "  h_reg = good_vecs.conj() @ h @ good_vecs.T\n",
      "/var/folders/62/vpq4vzfx3zlfyyr3mw8zdmrc0000gn/T/ipykernel_73505/215692311.py:17: RuntimeWarning: overflow encountered in matmul\n",
      "  h_reg = good_vecs.conj() @ h @ good_vecs.T\n",
      "/var/folders/62/vpq4vzfx3zlfyyr3mw8zdmrc0000gn/T/ipykernel_73505/215692311.py:17: RuntimeWarning: invalid value encountered in matmul\n",
      "  h_reg = good_vecs.conj() @ h @ good_vecs.T\n",
      "/var/folders/62/vpq4vzfx3zlfyyr3mw8zdmrc0000gn/T/ipykernel_73505/215692311.py:18: RuntimeWarning: divide by zero encountered in matmul\n",
      "  s_reg = good_vecs.conj() @ s @ good_vecs.T\n",
      "/var/folders/62/vpq4vzfx3zlfyyr3mw8zdmrc0000gn/T/ipykernel_73505/215692311.py:18: RuntimeWarning: overflow encountered in matmul\n",
      "  s_reg = good_vecs.conj() @ s @ good_vecs.T\n",
      "/var/folders/62/vpq4vzfx3zlfyyr3mw8zdmrc0000gn/T/ipykernel_73505/215692311.py:18: RuntimeWarning: invalid value encountered in matmul\n",
      "  s_reg = good_vecs.conj() @ s @ good_vecs.T\n",
      "/Users/benjamindalfavero/.venv/compare/lib/python3.13/site-packages/numpy/linalg/linalg.py:677: RuntimeWarning: divide by zero encountered in matmul\n",
      "  z = a if z is None else fmatmul(z, z)\n",
      "/Users/benjamindalfavero/.venv/compare/lib/python3.13/site-packages/numpy/linalg/linalg.py:677: RuntimeWarning: overflow encountered in matmul\n",
      "  z = a if z is None else fmatmul(z, z)\n",
      "/Users/benjamindalfavero/.venv/compare/lib/python3.13/site-packages/numpy/linalg/linalg.py:677: RuntimeWarning: invalid value encountered in matmul\n",
      "  z = a if z is None else fmatmul(z, z)\n",
      "/Users/benjamindalfavero/.venv/compare/lib/python3.13/site-packages/numpy/linalg/linalg.py:680: RuntimeWarning: divide by zero encountered in matmul\n",
      "  result = z if result is None else fmatmul(result, z)\n",
      "/Users/benjamindalfavero/.venv/compare/lib/python3.13/site-packages/numpy/linalg/linalg.py:680: RuntimeWarning: overflow encountered in matmul\n",
      "  result = z if result is None else fmatmul(result, z)\n",
      "/Users/benjamindalfavero/.venv/compare/lib/python3.13/site-packages/numpy/linalg/linalg.py:680: RuntimeWarning: invalid value encountered in matmul\n",
      "  result = z if result is None else fmatmul(result, z)\n",
      "/Users/benjamindalfavero/.venv/compare/lib/python3.13/site-packages/numpy/linalg/linalg.py:670: RuntimeWarning: divide by zero encountered in matmul\n",
      "  return fmatmul(fmatmul(a, a), a)\n",
      "/Users/benjamindalfavero/.venv/compare/lib/python3.13/site-packages/numpy/linalg/linalg.py:670: RuntimeWarning: overflow encountered in matmul\n",
      "  return fmatmul(fmatmul(a, a), a)\n",
      "/Users/benjamindalfavero/.venv/compare/lib/python3.13/site-packages/numpy/linalg/linalg.py:670: RuntimeWarning: invalid value encountered in matmul\n",
      "  return fmatmul(fmatmul(a, a), a)\n",
      "/Users/benjamindalfavero/.venv/compare/lib/python3.13/site-packages/numpy/linalg/linalg.py:667: RuntimeWarning: divide by zero encountered in matmul\n",
      "  return fmatmul(a, a)\n",
      "/Users/benjamindalfavero/.venv/compare/lib/python3.13/site-packages/numpy/linalg/linalg.py:667: RuntimeWarning: overflow encountered in matmul\n",
      "  return fmatmul(a, a)\n",
      "/Users/benjamindalfavero/.venv/compare/lib/python3.13/site-packages/numpy/linalg/linalg.py:667: RuntimeWarning: invalid value encountered in matmul\n",
      "  return fmatmul(a, a)\n",
      "/var/folders/62/vpq4vzfx3zlfyyr3mw8zdmrc0000gn/T/ipykernel_73505/215692311.py:17: RuntimeWarning: divide by zero encountered in matmul\n",
      "  h_reg = good_vecs.conj() @ h @ good_vecs.T\n",
      "/var/folders/62/vpq4vzfx3zlfyyr3mw8zdmrc0000gn/T/ipykernel_73505/215692311.py:17: RuntimeWarning: overflow encountered in matmul\n",
      "  h_reg = good_vecs.conj() @ h @ good_vecs.T\n",
      "/var/folders/62/vpq4vzfx3zlfyyr3mw8zdmrc0000gn/T/ipykernel_73505/215692311.py:17: RuntimeWarning: invalid value encountered in matmul\n",
      "  h_reg = good_vecs.conj() @ h @ good_vecs.T\n",
      "/var/folders/62/vpq4vzfx3zlfyyr3mw8zdmrc0000gn/T/ipykernel_73505/215692311.py:18: RuntimeWarning: divide by zero encountered in matmul\n",
      "  s_reg = good_vecs.conj() @ s @ good_vecs.T\n",
      "/var/folders/62/vpq4vzfx3zlfyyr3mw8zdmrc0000gn/T/ipykernel_73505/215692311.py:18: RuntimeWarning: overflow encountered in matmul\n",
      "  s_reg = good_vecs.conj() @ s @ good_vecs.T\n",
      "/var/folders/62/vpq4vzfx3zlfyyr3mw8zdmrc0000gn/T/ipykernel_73505/215692311.py:18: RuntimeWarning: invalid value encountered in matmul\n",
      "  s_reg = good_vecs.conj() @ s @ good_vecs.T\n",
      "/Users/benjamindalfavero/.venv/compare/lib/python3.13/site-packages/numpy/linalg/linalg.py:677: RuntimeWarning: divide by zero encountered in matmul\n",
      "  z = a if z is None else fmatmul(z, z)\n",
      "/Users/benjamindalfavero/.venv/compare/lib/python3.13/site-packages/numpy/linalg/linalg.py:677: RuntimeWarning: overflow encountered in matmul\n",
      "  z = a if z is None else fmatmul(z, z)\n",
      "/Users/benjamindalfavero/.venv/compare/lib/python3.13/site-packages/numpy/linalg/linalg.py:677: RuntimeWarning: invalid value encountered in matmul\n",
      "  z = a if z is None else fmatmul(z, z)\n",
      "/Users/benjamindalfavero/.venv/compare/lib/python3.13/site-packages/numpy/linalg/linalg.py:680: RuntimeWarning: divide by zero encountered in matmul\n",
      "  result = z if result is None else fmatmul(result, z)\n",
      "/Users/benjamindalfavero/.venv/compare/lib/python3.13/site-packages/numpy/linalg/linalg.py:680: RuntimeWarning: overflow encountered in matmul\n",
      "  result = z if result is None else fmatmul(result, z)\n",
      "/Users/benjamindalfavero/.venv/compare/lib/python3.13/site-packages/numpy/linalg/linalg.py:680: RuntimeWarning: invalid value encountered in matmul\n",
      "  result = z if result is None else fmatmul(result, z)\n",
      "/Users/benjamindalfavero/.venv/compare/lib/python3.13/site-packages/numpy/linalg/linalg.py:670: RuntimeWarning: divide by zero encountered in matmul\n",
      "  return fmatmul(fmatmul(a, a), a)\n",
      "/Users/benjamindalfavero/.venv/compare/lib/python3.13/site-packages/numpy/linalg/linalg.py:670: RuntimeWarning: overflow encountered in matmul\n",
      "  return fmatmul(fmatmul(a, a), a)\n",
      "/Users/benjamindalfavero/.venv/compare/lib/python3.13/site-packages/numpy/linalg/linalg.py:670: RuntimeWarning: invalid value encountered in matmul\n",
      "  return fmatmul(fmatmul(a, a), a)\n",
      "/Users/benjamindalfavero/.venv/compare/lib/python3.13/site-packages/numpy/linalg/linalg.py:667: RuntimeWarning: divide by zero encountered in matmul\n",
      "  return fmatmul(a, a)\n",
      "/Users/benjamindalfavero/.venv/compare/lib/python3.13/site-packages/numpy/linalg/linalg.py:667: RuntimeWarning: overflow encountered in matmul\n",
      "  return fmatmul(a, a)\n",
      "/Users/benjamindalfavero/.venv/compare/lib/python3.13/site-packages/numpy/linalg/linalg.py:667: RuntimeWarning: invalid value encountered in matmul\n",
      "  return fmatmul(a, a)\n",
      "/var/folders/62/vpq4vzfx3zlfyyr3mw8zdmrc0000gn/T/ipykernel_73505/215692311.py:17: RuntimeWarning: divide by zero encountered in matmul\n",
      "  h_reg = good_vecs.conj() @ h @ good_vecs.T\n",
      "/var/folders/62/vpq4vzfx3zlfyyr3mw8zdmrc0000gn/T/ipykernel_73505/215692311.py:17: RuntimeWarning: overflow encountered in matmul\n",
      "  h_reg = good_vecs.conj() @ h @ good_vecs.T\n",
      "/var/folders/62/vpq4vzfx3zlfyyr3mw8zdmrc0000gn/T/ipykernel_73505/215692311.py:17: RuntimeWarning: invalid value encountered in matmul\n",
      "  h_reg = good_vecs.conj() @ h @ good_vecs.T\n",
      "/var/folders/62/vpq4vzfx3zlfyyr3mw8zdmrc0000gn/T/ipykernel_73505/215692311.py:18: RuntimeWarning: divide by zero encountered in matmul\n",
      "  s_reg = good_vecs.conj() @ s @ good_vecs.T\n",
      "/var/folders/62/vpq4vzfx3zlfyyr3mw8zdmrc0000gn/T/ipykernel_73505/215692311.py:18: RuntimeWarning: overflow encountered in matmul\n",
      "  s_reg = good_vecs.conj() @ s @ good_vecs.T\n",
      "/var/folders/62/vpq4vzfx3zlfyyr3mw8zdmrc0000gn/T/ipykernel_73505/215692311.py:18: RuntimeWarning: invalid value encountered in matmul\n",
      "  s_reg = good_vecs.conj() @ s @ good_vecs.T\n",
      "/Users/benjamindalfavero/.venv/compare/lib/python3.13/site-packages/numpy/linalg/linalg.py:677: RuntimeWarning: divide by zero encountered in matmul\n",
      "  z = a if z is None else fmatmul(z, z)\n",
      "/Users/benjamindalfavero/.venv/compare/lib/python3.13/site-packages/numpy/linalg/linalg.py:677: RuntimeWarning: overflow encountered in matmul\n",
      "  z = a if z is None else fmatmul(z, z)\n",
      "/Users/benjamindalfavero/.venv/compare/lib/python3.13/site-packages/numpy/linalg/linalg.py:677: RuntimeWarning: invalid value encountered in matmul\n",
      "  z = a if z is None else fmatmul(z, z)\n",
      "/Users/benjamindalfavero/.venv/compare/lib/python3.13/site-packages/numpy/linalg/linalg.py:680: RuntimeWarning: divide by zero encountered in matmul\n",
      "  result = z if result is None else fmatmul(result, z)\n",
      "/Users/benjamindalfavero/.venv/compare/lib/python3.13/site-packages/numpy/linalg/linalg.py:680: RuntimeWarning: overflow encountered in matmul\n",
      "  result = z if result is None else fmatmul(result, z)\n",
      "/Users/benjamindalfavero/.venv/compare/lib/python3.13/site-packages/numpy/linalg/linalg.py:680: RuntimeWarning: invalid value encountered in matmul\n",
      "  result = z if result is None else fmatmul(result, z)\n",
      "/Users/benjamindalfavero/.venv/compare/lib/python3.13/site-packages/numpy/linalg/linalg.py:670: RuntimeWarning: divide by zero encountered in matmul\n",
      "  return fmatmul(fmatmul(a, a), a)\n",
      "/Users/benjamindalfavero/.venv/compare/lib/python3.13/site-packages/numpy/linalg/linalg.py:670: RuntimeWarning: overflow encountered in matmul\n",
      "  return fmatmul(fmatmul(a, a), a)\n",
      "/Users/benjamindalfavero/.venv/compare/lib/python3.13/site-packages/numpy/linalg/linalg.py:670: RuntimeWarning: invalid value encountered in matmul\n",
      "  return fmatmul(fmatmul(a, a), a)\n",
      "/Users/benjamindalfavero/.venv/compare/lib/python3.13/site-packages/numpy/linalg/linalg.py:667: RuntimeWarning: divide by zero encountered in matmul\n",
      "  return fmatmul(a, a)\n",
      "/Users/benjamindalfavero/.venv/compare/lib/python3.13/site-packages/numpy/linalg/linalg.py:667: RuntimeWarning: overflow encountered in matmul\n",
      "  return fmatmul(a, a)\n",
      "/Users/benjamindalfavero/.venv/compare/lib/python3.13/site-packages/numpy/linalg/linalg.py:667: RuntimeWarning: invalid value encountered in matmul\n",
      "  return fmatmul(a, a)\n",
      "/var/folders/62/vpq4vzfx3zlfyyr3mw8zdmrc0000gn/T/ipykernel_73505/215692311.py:17: RuntimeWarning: divide by zero encountered in matmul\n",
      "  h_reg = good_vecs.conj() @ h @ good_vecs.T\n",
      "/var/folders/62/vpq4vzfx3zlfyyr3mw8zdmrc0000gn/T/ipykernel_73505/215692311.py:17: RuntimeWarning: overflow encountered in matmul\n",
      "  h_reg = good_vecs.conj() @ h @ good_vecs.T\n",
      "/var/folders/62/vpq4vzfx3zlfyyr3mw8zdmrc0000gn/T/ipykernel_73505/215692311.py:17: RuntimeWarning: invalid value encountered in matmul\n",
      "  h_reg = good_vecs.conj() @ h @ good_vecs.T\n",
      "/var/folders/62/vpq4vzfx3zlfyyr3mw8zdmrc0000gn/T/ipykernel_73505/215692311.py:18: RuntimeWarning: divide by zero encountered in matmul\n",
      "  s_reg = good_vecs.conj() @ s @ good_vecs.T\n",
      "/var/folders/62/vpq4vzfx3zlfyyr3mw8zdmrc0000gn/T/ipykernel_73505/215692311.py:18: RuntimeWarning: overflow encountered in matmul\n",
      "  s_reg = good_vecs.conj() @ s @ good_vecs.T\n",
      "/var/folders/62/vpq4vzfx3zlfyyr3mw8zdmrc0000gn/T/ipykernel_73505/215692311.py:18: RuntimeWarning: invalid value encountered in matmul\n",
      "  s_reg = good_vecs.conj() @ s @ good_vecs.T\n"
     ]
    },
    {
     "name": "stdout",
     "output_type": "stream",
     "text": [
      "On ntrotter = 32\n",
      "On ntrotter = 100\n"
     ]
    },
    {
     "name": "stderr",
     "output_type": "stream",
     "text": [
      "/Users/benjamindalfavero/.venv/compare/lib/python3.13/site-packages/numpy/linalg/linalg.py:677: RuntimeWarning: divide by zero encountered in matmul\n",
      "  z = a if z is None else fmatmul(z, z)\n",
      "/Users/benjamindalfavero/.venv/compare/lib/python3.13/site-packages/numpy/linalg/linalg.py:677: RuntimeWarning: overflow encountered in matmul\n",
      "  z = a if z is None else fmatmul(z, z)\n",
      "/Users/benjamindalfavero/.venv/compare/lib/python3.13/site-packages/numpy/linalg/linalg.py:677: RuntimeWarning: invalid value encountered in matmul\n",
      "  z = a if z is None else fmatmul(z, z)\n",
      "/Users/benjamindalfavero/.venv/compare/lib/python3.13/site-packages/numpy/linalg/linalg.py:680: RuntimeWarning: divide by zero encountered in matmul\n",
      "  result = z if result is None else fmatmul(result, z)\n",
      "/Users/benjamindalfavero/.venv/compare/lib/python3.13/site-packages/numpy/linalg/linalg.py:680: RuntimeWarning: overflow encountered in matmul\n",
      "  result = z if result is None else fmatmul(result, z)\n",
      "/Users/benjamindalfavero/.venv/compare/lib/python3.13/site-packages/numpy/linalg/linalg.py:680: RuntimeWarning: invalid value encountered in matmul\n",
      "  result = z if result is None else fmatmul(result, z)\n",
      "/Users/benjamindalfavero/.venv/compare/lib/python3.13/site-packages/numpy/linalg/linalg.py:670: RuntimeWarning: divide by zero encountered in matmul\n",
      "  return fmatmul(fmatmul(a, a), a)\n",
      "/Users/benjamindalfavero/.venv/compare/lib/python3.13/site-packages/numpy/linalg/linalg.py:670: RuntimeWarning: overflow encountered in matmul\n",
      "  return fmatmul(fmatmul(a, a), a)\n",
      "/Users/benjamindalfavero/.venv/compare/lib/python3.13/site-packages/numpy/linalg/linalg.py:670: RuntimeWarning: invalid value encountered in matmul\n",
      "  return fmatmul(fmatmul(a, a), a)\n",
      "/Users/benjamindalfavero/.venv/compare/lib/python3.13/site-packages/numpy/linalg/linalg.py:667: RuntimeWarning: divide by zero encountered in matmul\n",
      "  return fmatmul(a, a)\n",
      "/Users/benjamindalfavero/.venv/compare/lib/python3.13/site-packages/numpy/linalg/linalg.py:667: RuntimeWarning: overflow encountered in matmul\n",
      "  return fmatmul(a, a)\n",
      "/Users/benjamindalfavero/.venv/compare/lib/python3.13/site-packages/numpy/linalg/linalg.py:667: RuntimeWarning: invalid value encountered in matmul\n",
      "  return fmatmul(a, a)\n",
      "/var/folders/62/vpq4vzfx3zlfyyr3mw8zdmrc0000gn/T/ipykernel_73505/215692311.py:17: RuntimeWarning: divide by zero encountered in matmul\n",
      "  h_reg = good_vecs.conj() @ h @ good_vecs.T\n",
      "/var/folders/62/vpq4vzfx3zlfyyr3mw8zdmrc0000gn/T/ipykernel_73505/215692311.py:17: RuntimeWarning: overflow encountered in matmul\n",
      "  h_reg = good_vecs.conj() @ h @ good_vecs.T\n",
      "/var/folders/62/vpq4vzfx3zlfyyr3mw8zdmrc0000gn/T/ipykernel_73505/215692311.py:17: RuntimeWarning: invalid value encountered in matmul\n",
      "  h_reg = good_vecs.conj() @ h @ good_vecs.T\n",
      "/var/folders/62/vpq4vzfx3zlfyyr3mw8zdmrc0000gn/T/ipykernel_73505/215692311.py:18: RuntimeWarning: divide by zero encountered in matmul\n",
      "  s_reg = good_vecs.conj() @ s @ good_vecs.T\n",
      "/var/folders/62/vpq4vzfx3zlfyyr3mw8zdmrc0000gn/T/ipykernel_73505/215692311.py:18: RuntimeWarning: overflow encountered in matmul\n",
      "  s_reg = good_vecs.conj() @ s @ good_vecs.T\n",
      "/var/folders/62/vpq4vzfx3zlfyyr3mw8zdmrc0000gn/T/ipykernel_73505/215692311.py:18: RuntimeWarning: invalid value encountered in matmul\n",
      "  s_reg = good_vecs.conj() @ s @ good_vecs.T\n"
     ]
    }
   ],
   "source": [
    "ntrotter_values = [1, 2, 4, 8, 16, 32, 100]\n",
    "ngates_twoq = []\n",
    "ngates_oneq = []\n",
    "depths = []\n",
    "all_krylov_u_trotter_evals = []\n",
    "all_trotter_h = []\n",
    "all_trotter_s = []\n",
    "\n",
    "for ntrotter in ntrotter_values:\n",
    "    print(\"On ntrotter =\", ntrotter)\n",
    "    trotter_operation = qiskit.circuit.library.PauliEvolutionGate(\n",
    "        ham_qiskit,\n",
    "        time=dt,\n",
    "        synthesis=qiskit.synthesis.LieTrotter(reps=ntrotter)\n",
    "    )\n",
    "\n",
    "    # trotter_circuit = qiskit.QuantumCircuit.from_instructions(\n",
    "    #     [[trotter_operation]],\n",
    "    #     qubits=qiskit.QuantumRegister(trotter_operation.num_qubits),\n",
    "    # )\n",
    "    trotter_circuit = qiskit.QuantumCircuit(nqubits)\n",
    "    trotter_circuit.append(trotter_operation, trotter_circuit.qubits)\n",
    "    trotter_circuit = qiskit.transpile(\n",
    "        trotter_circuit, basis_gates=[\"u3\", \"cx\"]\n",
    "    )  # TODO: Compile to a target backend, e.g. IBM Fez.\n",
    "    opcounts = trotter_circuit.count_ops()\n",
    "    ngates_twoq.append(opcounts.get(\"cx\"))\n",
    "    ngates_oneq.append(opcounts.get(\"u3\"))\n",
    "    depths.append(trotter_circuit.depth())\n",
    "\n",
    "    qasm = dumps(trotter_circuit)\n",
    "    trotter_circuit_cirq = circuit_from_qasm(qasm.replace(\"qregless\", \"q\"))\n",
    "\n",
    "    qubits = sorted(trotter_circuit_cirq.all_qubits())\n",
    "    Utrotter = cirq.unitary(trotter_circuit_cirq)\n",
    "\n",
    "    vectors_u_trotter = []\n",
    "    for k in range(-2 * subspace_dimension, 2 * subspace_dimension + 1, 1):\n",
    "        # print(k)\n",
    "        Uk = np.linalg.matrix_power(Utrotter, k)\n",
    "        vectors_u_trotter.append(Uk @ bvec)\n",
    "    \n",
    "    h, s = fill_h_and_s_matrices(vectors_u_trotter, matrix)\n",
    "    krylov_u_trotter_evals = []\n",
    "    for d in range(1, len(h)):\n",
    "        krylov_energy = solve_regularized_gen_eig(h[:d, :d], s[:d, :d], threshold=threshold)\n",
    "        krylov_u_trotter_evals.append(krylov_energy)\n",
    "    \n",
    "    all_krylov_u_trotter_evals.append(krylov_u_trotter_evals)\n",
    "    all_trotter_h.append(h.copy())\n",
    "    all_trotter_s.append(s.copy())"
   ]
  },
  {
   "cell_type": "code",
   "execution_count": 76,
   "id": "58530072",
   "metadata": {},
   "outputs": [
    {
     "name": "stdout",
     "output_type": "stream",
     "text": [
      "H maximum: 5.134629928876806\n",
      "H minimum: 0.0\n",
      "S maximum: 1.4296141198506176\n",
      "S minimum: 0.0\n",
      "H maximum: 5.264714286867824\n",
      "H minimum: 0.0\n",
      "S maximum: 1.4272773924259674\n",
      "S minimum: 0.0\n",
      "H maximum: 5.297479661224897\n",
      "H minimum: 0.0\n",
      "S maximum: 1.4266080765124265\n",
      "S minimum: 0.0\n",
      "H maximum: 5.302989752733626\n",
      "H minimum: 0.0\n",
      "S maximum: 1.4264350136700281\n",
      "S minimum: 0.0\n",
      "H maximum: 5.302920529108699\n",
      "H minimum: 0.0\n",
      "S maximum: 1.4263913827637358\n",
      "S minimum: 0.0\n",
      "H maximum: 5.30218174174738\n",
      "H minimum: 0.0\n",
      "S maximum: 1.4263804521045562\n",
      "S minimum: 0.0\n",
      "H maximum: 5.301413119137\n",
      "H minimum: 0.0\n",
      "S maximum: 1.426377179866328\n",
      "S minimum: 0.0\n"
     ]
    }
   ],
   "source": [
    "all_h_distances = []\n",
    "all_s_distances = []\n",
    "all_chis = []\n",
    "all_overlap_primes = []\n",
    "all_delta_primes = []\n",
    "all_zetas = []\n",
    "for h, s in zip(all_trotter_h, all_trotter_s):\n",
    "    h_dist = sp.linalg.norm(h_u - h, ord=2)\n",
    "    all_h_distances.append(h_dist)\n",
    "    s_dist = sp.linalg.norm(s_u - s, ord=2)\n",
    "    all_s_distances.append(s_dist)\n",
    "\n",
    "    print(\"H maximum:\", np.max(np.abs(h_u - h)))\n",
    "    print(\"H minimum:\", np.min(np.abs(h_u - h)))\n",
    "    print(\"S maximum:\", np.max(np.abs(s_u - s)))\n",
    "    print(\"S minimum:\", np.min(np.abs(s_u - s)))\n",
    "\n",
    "    chi = h_dist + ham_norm * s_dist\n",
    "    all_chis.append(chi)\n",
    "    overlap_prime = overlap - 2 * threshold - 2 * s_dist\n",
    "    all_overlap_primes.append(overlap_prime)\n",
    "    delta_prime = big_delta - chi / overlap_prime\n",
    "    all_delta_primes.append(delta_prime)\n",
    "    zeta = 2 * subspace_dimension * (threshold + s_dist)\n",
    "    all_zetas.append(zeta)"
   ]
  },
  {
   "cell_type": "code",
   "execution_count": 77,
   "id": "0b0bec95",
   "metadata": {},
   "outputs": [
    {
     "name": "stdout",
     "output_type": "stream",
     "text": [
      "Minimization failed bound 128423433.81547236 replaced with default (initial) point\n",
      "-1784.6380416628554\n",
      "-7414431.61302764\n",
      "Minimization failed bound 22481504.389047902 replaced with default (initial) point\n",
      "-1784.6384305304941\n",
      "-38591017.30814267\n",
      "Minimization failed bound 20665938.69094879 replaced with default (initial) point\n",
      "-1784.6384225055695\n",
      "Minimization failed bound 22921264.15684966 replaced with default (initial) point\n",
      "-1784.6384219809966\n",
      "-39260843.91999444\n"
     ]
    }
   ],
   "source": [
    "all_bounds = []\n",
    "for i in range(len(all_h_distances)):\n",
    "    overlap_prime = all_overlap_primes[i]\n",
    "    delta_prime = all_delta_primes[i]\n",
    "    chi = all_chis[i]\n",
    "    zeta = all_zetas[i]\n",
    "    bound = minimized_bound(ham_norm, overlap_prime, subspace_dimension, big_delta, delta_prime, chi, zeta)\n",
    "    all_bounds.append(bound)\n",
    "    print(bound)"
   ]
  },
  {
   "cell_type": "code",
   "execution_count": 78,
   "id": "281e8314",
   "metadata": {},
   "outputs": [
    {
     "name": "stdout",
     "output_type": "stream",
     "text": [
      "7\n"
     ]
    }
   ],
   "source": [
    "print(len(all_bounds))"
   ]
  },
  {
   "cell_type": "code",
   "execution_count": 79,
   "id": "981e4f61",
   "metadata": {},
   "outputs": [
    {
     "name": "stdout",
     "output_type": "stream",
     "text": [
      "   d    energy     error  ntrotter\n",
      "0  0  1.757004  3.757004         1\n",
      "1  1 -0.996910  1.003090         1\n",
      "2  2 -1.672593  0.327407         1\n",
      "3  3 -1.816478  0.183522         1\n",
      "4  4 -1.885625  0.114375         1\n"
     ]
    }
   ],
   "source": [
    "# Convert all Trotterized eigenvalues into a dataframe.\n",
    "dfs = []\n",
    "for evals, ntrotter in zip(all_krylov_u_trotter_evals, ntrotter_values):\n",
    "    errs = np.abs(evals - energy_exact)\n",
    "    df = pd.DataFrame({\"d\": range(len(evals)), \"energy\": evals, \"error\": errs})\n",
    "    df[\"ntrotter\"] = ntrotter\n",
    "    dfs.append(df)\n",
    "big_df = pd.concat(dfs)\n",
    "print(big_df.head())"
   ]
  },
  {
   "cell_type": "code",
   "execution_count": 80,
   "id": "d4d3a8d4",
   "metadata": {},
   "outputs": [
    {
     "name": "stdout",
     "output_type": "stream",
     "text": [
      "Min error for exact U: 0.0\n"
     ]
    }
   ],
   "source": [
    "krylov_u_errors = np.abs(krylov_u_evals - energy_exact)\n",
    "min_error_u = np.min(krylov_u_errors)\n",
    "print(f\"Min error for exact U:\", min_error_u)"
   ]
  },
  {
   "cell_type": "code",
   "execution_count": 81,
   "id": "9a0a2749",
   "metadata": {},
   "outputs": [],
   "source": [
    "d_vals = np.unique(big_df[\"d\"])\n",
    "selected_d_vals = [5, 10, 15, 20, 25, 30]\n",
    "assert set(selected_d_vals).issubset(set(d_vals))"
   ]
  },
  {
   "cell_type": "code",
   "execution_count": 82,
   "id": "78c2fd97",
   "metadata": {},
   "outputs": [
    {
     "data": {
      "text/plain": [
       "<matplotlib.legend.Legend at 0x14d167110>"
      ]
     },
     "execution_count": 82,
     "metadata": {},
     "output_type": "execute_result"
    },
    {
     "data": {
      "image/png": "[encoded data removed]",
      "text/plain": [
       "<Figure size 640x480 with 1 Axes>"
      ]
     },
     "metadata": {},
     "output_type": "display_data"
    }
   ],
   "source": [
    "fig, ax = plt.subplots()\n",
    "\n",
    "for d in selected_d_vals:\n",
    "    df_d = big_df[big_df[\"d\"] == d]\n",
    "    ax.plot(df_d[\"ntrotter\"], df_d[\"error\"], label=f\"d = {d}\")\n",
    "\n",
    "ax.hlines(np.min(krylov_u_errors), 0., max(selected_d_vals))\n",
    "ax.plot(ntrotter_values, all_bounds, \"--\", label=\"bound\")\n",
    "ax.set_yscale(\"log\")\n",
    "ax.set_xlabel(\"Trotter steps\")\n",
    "ax.set_ylabel(\"Energy error\")\n",
    "fig.legend()"
   ]
  },
  {
   "cell_type": "code",
   "execution_count": 83,
   "id": "7624a8a0",
   "metadata": {},
   "outputs": [
    {
     "data": {
      "text/plain": [
       "<matplotlib.legend.Legend at 0x14d21ee90>"
      ]
     },
     "execution_count": 83,
     "metadata": {},
     "output_type": "execute_result"
    },
    {
     "data": {
      "image/png": "[encoded data removed]",
      "text/plain": [
       "<Figure size 640x480 with 1 Axes>"
      ]
     },
     "metadata": {},
     "output_type": "display_data"
    }
   ],
   "source": [
    "fig2, ax2 = plt.subplots()\n",
    "ax2.plot(ntrotter_values, all_h_distances, label=\"H error\")\n",
    "ax2.plot(ntrotter_values, all_s_distances, label=\"S error\")\n",
    "ax2.plot(ntrotter_values, all_chis, label=\"chi\")\n",
    "ax2.plot(ntrotter_values, all_zetas, label=\"zeta\")\n",
    "fig2.legend()"
   ]
  },
  {
   "cell_type": "code",
   "execution_count": 84,
   "id": "7e3b549b",
   "metadata": {},
   "outputs": [
    {
     "data": {
      "text/plain": [
       "<matplotlib.legend.Legend at 0x14d29a850>"
      ]
     },
     "execution_count": 84,
     "metadata": {},
     "output_type": "execute_result"
    },
    {
     "data": {
      "image/png": "[encoded data removed]",
      "text/plain": [
       "<Figure size 640x480 with 1 Axes>"
      ]
     },
     "metadata": {},
     "output_type": "display_data"
    }
   ],
   "source": [
    "fig3, ax3 = plt.subplots()\n",
    "ax3.plot(all_overlap_primes, label=r\"$\\gamma'_0$\")\n",
    "ax3.plot(all_delta_primes, label=r\"$\\Delta'_0$\")\n",
    "fig3.legend()"
   ]
  },
  {
   "cell_type": "code",
   "execution_count": null,
   "id": "16f11883",
   "metadata": {},
   "outputs": [],
   "source": []
  }
 ],
 "metadata": {
  "kernelspec": {
   "display_name": "compare (3.13.7)",
   "language": "python",
   "name": "python3"
  },
  "language_info": {
   "codemirror_mode": {
    "name": "ipython",
    "version": 3
   },
   "file_extension": ".py",
   "mimetype": "text/x-python",
   "name": "python",
   "nbconvert_exporter": "python",
   "pygments_lexer": "ipython3",
   "version": "3.13.7"
  }
 },
 "nbformat": 4,
 "nbformat_minor": 5
}
