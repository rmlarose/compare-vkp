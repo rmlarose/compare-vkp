{
 "cells": [
  {
   "cell_type": "code",
   "execution_count": 163,
   "id": "0e6b93bc",
   "metadata": {},
   "outputs": [],
   "source": [
    "from typing import List\n",
    "from math import sqrt\n",
    "import numpy as np\n",
    "from scipy.sparse.linalg import norm\n",
    "from scipy.constants import pi\n",
    "from scipy.optimize import minimize\n",
    "import matplotlib.pyplot as plt\n",
    "import cirq\n",
    "import openfermion as of\n",
    "from kcommute import get_si_sets\n",
    "from convert import to_groups_of"
   ]
  },
  {
   "cell_type": "code",
   "execution_count": 164,
   "id": "205254fd",
   "metadata": {},
   "outputs": [],
   "source": [
    "def bound(d, chi, zeta, gamma0p, h_norm, delta, deltap, big_deltap):\n",
    "    if deltap > big_deltap:\n",
    "        t0 = deltap\n",
    "    else:\n",
    "        t0 = 0.0\n",
    "    t1 = chi / gamma0p\n",
    "    c = 6.0 * h_norm / gamma0p\n",
    "    p0 = chi / (deltap - delta)\n",
    "    p1 = 8.0 * ((1.0 + (pi * delta) / (2.0 * h_norm)) ** (-2 * d))\n",
    "    return t0 + t1 + c * (p0 + zeta + p1)"
   ]
  },
  {
   "cell_type": "code",
   "execution_count": 165,
   "id": "a71af292",
   "metadata": {},
   "outputs": [],
   "source": [
    "def first_order_comm_norm(\n",
    "    groups: List[of.QubitOperator],\n",
    "    nq: int\n",
    ") -> float:\n",
    "    \"\"\"Norm of commutators from first-order Trotter bound in ToTECS Proposition 9.\n",
    "\n",
    "    Arguments:\n",
    "    groups: A list of qubit operators. Each represents a term in the Trotter expansion.\n",
    "\n",
    "    Returns:\n",
    "    Sum of commutator norms from Prop. 9.\"\"\"\n",
    "\n",
    "    # Evaluate sum_gamma1 ||[\\sum_gamma2 H_gamma2, H_gamma1]||\n",
    "    comm_norms = 0.0 # = sum_gamma1 ||\\sum_gamma2 [H_gamma2, H_gamma1]||\n",
    "    for i1 in range(len(groups)):\n",
    "        total_commutator = of.QubitOperator() # = \\sum_gamma2 [H_gamma2, H_gamma1]\n",
    "        for i2 in range(i1 + 1, len(groups)):\n",
    "            total_commutator += groups[i2] * groups[i1] - groups[i1] * groups[i2]\n",
    "        tc_matrix = of.linalg.qubit_operator_sparse(total_commutator, nq)\n",
    "        comm_norms += norm(tc_matrix, ord=2)\n",
    "    return comm_norms\n",
    "\n",
    "\n",
    "def s_dist_bound(d: int, tau: float, r: int, comm_norm: float) -> float:\n",
    "    \"\"\"Upper bound on ||S-S'|| from Trotter error.\n",
    "    \n",
    "    Arguments:\n",
    "    d - subspace dimension.\n",
    "    tau - evolution time\n",
    "    r - number of time steps.\n",
    "    comm_norm - sum of commutator norms.\n",
    "    \n",
    "    Returns:\n",
    "    upper bound on ||S-S'||.\"\"\"\n",
    "\n",
    "    return d ** 2 * tau ** 2 / (sqrt(2.0) * r) * comm_norm"
   ]
  },
  {
   "cell_type": "code",
   "execution_count": 166,
   "id": "a644318b",
   "metadata": {},
   "outputs": [
    {
     "name": "stdout",
     "output_type": "stream",
     "text": [
      "Commutator norm = 24.94427190999916\n",
      "h_norm = 13.2664991614216\n",
      "step = 22 did not succeed.\n",
      "step = 23 did not succeed.\n",
      "step = 24 did not succeed.\n",
      "step = 26 did not succeed.\n",
      "step = 27 did not succeed.\n",
      "step = 28 did not succeed.\n",
      "step = 29 did not succeed.\n",
      "step = 35 did not succeed.\n",
      "step = 36 did not succeed.\n",
      "step = 37 did not succeed.\n",
      "step = 38 did not succeed.\n",
      "step = 43 did not succeed.\n",
      "step = 44 did not succeed.\n",
      "step = 45 did not succeed.\n",
      "step = 47 did not succeed.\n"
     ]
    }
   ],
   "source": [
    "l = 2\n",
    "t = 1.0\n",
    "u = 2.0\n",
    "ham_fermi = of.hamiltonians.fermi_hubbard(l, l, t, u, spinless=True)\n",
    "ham = of.transforms.jordan_wigner(ham_fermi)\n",
    "nq = of.utils.count_qubits(ham)\n",
    "ham_cirq = of.transforms.qubit_operator_to_pauli_sum(ham)\n",
    "groups = [[p] for p in ham_cirq]\n",
    "groups_of = to_groups_of(groups)\n",
    "comm_norm = first_order_comm_norm(groups_of, nq)\n",
    "print(f\"Commutator norm = {comm_norm}\")\n",
    "h_norm = norm(of.linalg.get_sparse_operator(ham))\n",
    "print(f\"h_norm = {h_norm}\")\n",
    "\n",
    "big_delta = 3.23\n",
    "gamma0 = 0.99\n",
    "\n",
    "tau = 0.1\n",
    "d = 16\n",
    "steps = range(10, 300)\n",
    "\n",
    "s_distances = []\n",
    "chis = []\n",
    "bounds = []\n",
    "for step in steps:\n",
    "    s_distance = 1e-2 * s_dist_bound(d, tau, step, comm_norm)\n",
    "    s_distances.append(s_distance)\n",
    "    chi = 2.0 * h_norm * s_distance\n",
    "    chis.append(chi)\n",
    "    eps = s_distance\n",
    "    zeta = 2.0 * d * (eps + s_distance)\n",
    "    gamma0_p = gamma0 - 2 * eps - 2.0 * s_distance\n",
    "    # gamma0_p = gamma0\n",
    "    big_deltap = big_delta - chi / gamma0_p\n",
    "    # big_deltap = big_delta\n",
    "\n",
    "    def bound_callback(v):\n",
    "        \"\"\"Evaluates bound for v=(delta, deltap)\"\"\"\n",
    "        trial_bound = bound(d, chi, zeta, gamma0_p, h_norm, v[0], v[1], big_deltap)\n",
    "        if trial_bound > 0:\n",
    "            return trial_bound\n",
    "        else:\n",
    "            return -trial_bound * 1e15\n",
    "    \n",
    "    def delta_constraint(v):\n",
    "        if big_deltap > 0.0:\n",
    "            return big_deltap - v[1]\n",
    "        else:\n",
    "            return big_delta - v[1]\n",
    "\n",
    "    # if big_deltap > 0:\n",
    "    #     v0 = np.array([big_deltap / 2, big_deltap])\n",
    "    # else:\n",
    "    #     v0 = np.array([big_delta / 2, big_delta])\n",
    "    v0 = np.array([big_delta, big_delta + chi / gamma0_p - 0.01])\n",
    "    result = minimize(\n",
    "        bound_callback, \n",
    "        v0,\n",
    "        constraints=(\n",
    "            {'type': 'ineq', 'fun': lambda v: v[1] - v[0] - chi / gamma0_p},\n",
    "            {'type': 'ineq', 'fun': lambda v: v[0]},\n",
    "            {'type': 'ineq', 'fun': lambda v: v[1]},\n",
    "            {'type': 'ineq', 'fun': delta_constraint}\n",
    "        ),\n",
    "        method=\"COBYLA\"\n",
    "    )\n",
    "    if not result.success:\n",
    "        print(f\"step = {step} did not succeed.\")\n",
    "    min_bound = result.fun\n",
    "    if min_bound < bound_callback(v0):\n",
    "        bounds.append(min_bound)\n",
    "    else:\n",
    "        bounds.append(bound_callback(v0))\n",
    "    # bounds.append(min_bound)"
   ]
  },
  {
   "cell_type": "code",
   "execution_count": 167,
   "id": "157e990c",
   "metadata": {},
   "outputs": [
    {
     "name": "stdout",
     "output_type": "stream",
     "text": [
      "11.304945283771032\n",
      "370.5486821113945\n"
     ]
    }
   ],
   "source": [
    "print(np.min(bounds))\n",
    "print(np.max(bounds))"
   ]
  },
  {
   "cell_type": "code",
   "execution_count": 168,
   "id": "9063b103",
   "metadata": {},
   "outputs": [
    {
     "data": {
      "text/plain": [
       "Text(0, 0.5, 'Energy bound')"
      ]
     },
     "execution_count": 168,
     "metadata": {},
     "output_type": "execute_result"
    },
    {
     "data": {
      "image/png": "[encoded data removed]",
      "text/plain": [
       "<Figure size 640x480 with 3 Axes>"
      ]
     },
     "metadata": {},
     "output_type": "display_data"
    }
   ],
   "source": [
    "fig, axs = plt.subplots(3, 1)\n",
    "for ax in axs:\n",
    "    ax.set_yscale(\"log\")\n",
    "axs[0].plot(steps, chis)\n",
    "axs[0].set_ylabel(\"chi\")\n",
    "axs[1].plot(steps, s_distances)\n",
    "axs[1].set_ylabel(\"S distance\")\n",
    "axs[2].plot(steps, bounds)\n",
    "axs[2].set_ylabel(\"Energy bound\")"
   ]
  },
  {
   "cell_type": "code",
   "execution_count": null,
   "id": "f95d6ab8",
   "metadata": {},
   "outputs": [],
   "source": []
  }
 ],
 "metadata": {
  "kernelspec": {
   "display_name": "compare",
   "language": "python",
   "name": "python3"
  },
  "language_info": {
   "codemirror_mode": {
    "name": "ipython",
    "version": 3
   },
   "file_extension": ".py",
   "mimetype": "text/x-python",
   "name": "python",
   "nbconvert_exporter": "python",
   "pygments_lexer": "ipython3",
   "version": "3.12.2"
  }
 },
 "nbformat": 4,
 "nbformat_minor": 5
}
