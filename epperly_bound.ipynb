{
 "cells": [
  {
   "cell_type": "code",
   "execution_count": 12,
   "id": "f4645dc8",
   "metadata": {},
   "outputs": [],
   "source": [
    "import numpy as np\n",
    "import scipy.linalg as la\n",
    "import openfermion as of\n",
    "import cirq\n",
    "from kcommute import compute_blocks, get_si_sets"
   ]
  },
  {
   "cell_type": "markdown",
   "id": "ce325888",
   "metadata": {},
   "source": [
    "## Bounding $||H - \\tilde{H}||$"
   ]
  },
  {
   "cell_type": "code",
   "execution_count": 17,
   "id": "53272443",
   "metadata": {},
   "outputs": [],
   "source": [
    "l = 2\n",
    "t = 1.0\n",
    "u = 4.0\n",
    "hamiltonian_fermi = of.hamiltonians.fermi_hubbard(\n",
    "    l, l, t, u, spinless=False, periodic=False\n",
    ")\n",
    "hamiltonian = of.transforms.jordan_wigner(hamiltonian_fermi)\n",
    "hamiltonian_cirq = of.transforms.qubit_operator_to_pauli_sum(hamiltonian)"
   ]
  },
  {
   "cell_type": "code",
   "execution_count": 18,
   "id": "e8569bd4",
   "metadata": {},
   "outputs": [
    {
     "name": "stdout",
     "output_type": "stream",
     "text": [
      "Hamiltonian has 9 groups.\n"
     ]
    }
   ],
   "source": [
    "groups = get_si_sets(hamiltonian_cirq, k=1)\n",
    "print(f\"Hamiltonian has {len(groups)} groups.\")"
   ]
  },
  {
   "cell_type": "code",
   "execution_count": 19,
   "id": "a64aef32",
   "metadata": {},
   "outputs": [
    {
     "name": "stdout",
     "output_type": "stream",
     "text": [
      "<class 'cirq.ops.linear_combinations.PauliSum'>\n"
     ]
    }
   ],
   "source": [
    "group_psums = [sum(group) for group in groups]\n",
    "print(type(group_psums[0]))"
   ]
  },
  {
   "cell_type": "code",
   "execution_count": 21,
   "id": "faca3d24",
   "metadata": {},
   "outputs": [
    {
     "name": "stdout",
     "output_type": "stream",
     "text": [
      "comm_norm = 1135.2152591239123\n",
      "h_norm = 90.50966799187809\n"
     ]
    }
   ],
   "source": [
    "# Evaluate sum_{gamma_1=1}^Gamma ||[sum_{gamma_2=gamma_1+1}^Gamma H_gamma_2, H_gamma_1]\n",
    "comm_norm = 0.\n",
    "for gamma1 in range(len(group_psums)):\n",
    "    h_gamma1_mat = group_psums[gamma1].matrix(hamiltonian_cirq.qubits)\n",
    "    for gamma2 in range(gamma1 + 1, len(group_psums)):\n",
    "        h_gamma2_mat = group_psums[gamma2].matrix(hamiltonian_cirq.qubits)\n",
    "        comm = h_gamma2_mat * h_gamma1_mat - h_gamma1_mat - h_gamma2_mat\n",
    "        comm_norm += la.norm(comm)\n",
    "print(f\"comm_norm = {comm_norm}\")\n",
    "\n",
    "h_norm = la.norm(hamiltonian_cirq.matrix())\n",
    "print(f\"h_norm = {h_norm}\")"
   ]
  },
  {
   "cell_type": "code",
   "execution_count": null,
   "id": "8de3bc4f",
   "metadata": {},
   "outputs": [],
   "source": [
    "d = 40 # See Ryan's F-H numerics."
   ]
  }
 ],
 "metadata": {
  "kernelspec": {
   "display_name": "compare (3.13.7)",
   "language": "python",
   "name": "python3"
  },
  "language_info": {
   "codemirror_mode": {
    "name": "ipython",
    "version": 3
   },
   "file_extension": ".py",
   "mimetype": "text/x-python",
   "name": "python",
   "nbconvert_exporter": "python",
   "pygments_lexer": "ipython3",
   "version": "3.13.7"
  }
 },
 "nbformat": 4,
 "nbformat_minor": 5
}
