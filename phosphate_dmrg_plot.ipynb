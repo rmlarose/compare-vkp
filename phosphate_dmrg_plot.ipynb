{
 "cells": [
  {
   "cell_type": "code",
   "execution_count": 8,
   "id": "b022b6f7",
   "metadata": {},
   "outputs": [],
   "source": [
    "import os\n",
    "import json\n",
    "import pandas as pd\n",
    "import matplotlib.pyplot as plt\n",
    "import seaborn as sns"
   ]
  },
  {
   "cell_type": "code",
   "execution_count": 7,
   "id": "5fa1f5e0",
   "metadata": {},
   "outputs": [
    {
     "name": "stdout",
     "output_type": "stream",
     "text": [
      "['output_1.json', 'output_0.json', 'output_7.json', 'output_6.json', 'output_5.json', 'output_8.json', 'output_4.json', 'output_3.json', 'output_2.json']\n"
     ]
    }
   ],
   "source": [
    "data_dir = \"phosphate_dmrg_data\"\n",
    "all_files = os.listdir(data_dir)\n",
    "output_files = [f for f in all_files if \"output\" in f]\n",
    "print(output_files)"
   ]
  },
  {
   "cell_type": "code",
   "execution_count": 10,
   "id": "23fcf1f0",
   "metadata": {},
   "outputs": [
    {
     "name": "stdout",
     "output_type": "stream",
     "text": [
      "   mps_bond  mpo_bond    energy\n",
      "0        20        10 -5.288661\n",
      "1        10        10 -5.288546\n",
      "2        20        30 -2.229594\n",
      "3        10        30 -2.317789\n",
      "4        30        20 -4.346794\n"
     ]
    }
   ],
   "source": [
    "records = [] # List of (mps_bond, mpo_bond, energy) tuples\n",
    "for f in output_files:\n",
    "    with open(data_dir + \"/\" + f, \"r\") as fp:\n",
    "        output_dict = json.load(fp)\n",
    "    mps_bond = output_dict[\"input\"][\"max_bond\"]\n",
    "    mpo_bond = output_dict[\"input\"][\"max_mpo_bond\"]\n",
    "    energy = output_dict[\"energy\"]\n",
    "    records.append((mps_bond, mpo_bond, energy))\n",
    "df = pd.DataFrame.from_records(records, columns=[\"mps_bond\", \"mpo_bond\", \"energy\"])\n",
    "print(df.head())"
   ]
  },
  {
   "cell_type": "code",
   "execution_count": 11,
   "id": "cb08bd27",
   "metadata": {},
   "outputs": [
    {
     "data": {
      "text/plain": [
       "<Axes: xlabel='mps_bond', ylabel='energy'>"
      ]
     },
     "execution_count": 11,
     "metadata": {},
     "output_type": "execute_result"
    },
    {
     "data": {
      "image/png": "[encoded data removed]",
      "text/plain": [
       "<Figure size 640x480 with 1 Axes>"
      ]
     },
     "metadata": {},
     "output_type": "display_data"
    }
   ],
   "source": [
    "fig, ax = plt.subplots()\n",
    "sns.lineplot(ax=ax, data=df, x=\"mps_bond\", y=\"energy\", hue=\"mpo_bond\")"
   ]
  },
  {
   "cell_type": "code",
   "execution_count": null,
   "id": "9b2d6e14",
   "metadata": {},
   "outputs": [],
   "source": []
  }
 ],
 "metadata": {
  "kernelspec": {
   "display_name": "compare",
   "language": "python",
   "name": "python3"
  },
  "language_info": {
   "codemirror_mode": {
    "name": "ipython",
    "version": 3
   },
   "file_extension": ".py",
   "mimetype": "text/x-python",
   "name": "python",
   "nbconvert_exporter": "python",
   "pygments_lexer": "ipython3",
   "version": "3.12.2"
  }
 },
 "nbformat": 4,
 "nbformat_minor": 5
}
