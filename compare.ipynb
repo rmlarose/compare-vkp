{
 "cells": [
  {
   "cell_type": "markdown",
   "metadata": {},
   "source": [
    "# Resource counts"
   ]
  },
  {
   "cell_type": "markdown",
   "metadata": {},
   "source": [
    "This notebook computes the resources to calculate the ground state energy of a Hamiltonian to chemical accuracy using three algorithms:\n",
    "\n",
    "1. VQE\n",
    "1. Quantum Krylov\n",
    "1. Quantum phase estimation"
   ]
  },
  {
   "cell_type": "markdown",
   "metadata": {},
   "source": [
    "## Setup"
   ]
  },
  {
   "cell_type": "code",
   "execution_count": 1,
   "metadata": {},
   "outputs": [],
   "source": [
    "import pickle\n",
    "\n",
    "import matplotlib.pyplot as plt\n",
    "import numpy as np\n",
    "import scipy\n",
    "\n",
    "import openfermion as of\n",
    "from openfermionpyscf import run_pyscf\n",
    "from openfermion.chem import geometry_from_pubchem, MolecularData\n",
    "import openfermion_helper\n",
    "\n",
    "\n",
    "import qiskit\n",
    "import qiskit.qasm3\n",
    "import qiskit_ibm_runtime\n",
    "from qiskit.circuit.library import PauliEvolutionGate\n",
    "from qiskit.synthesis import LieTrotter, SuzukiTrotter"
   ]
  },
  {
   "cell_type": "markdown",
   "metadata": {},
   "source": [
    "## Set Hamiltonian"
   ]
  },
  {
   "cell_type": "code",
   "execution_count": 2,
   "metadata": {},
   "outputs": [],
   "source": [
    "geometry = [\n",
    "    (\"P\", (-1.034220, -0.234256,0.672434)),\n",
    "    (\"O\", (-1.004065, 0.890081, -0.334695)),\n",
    "    (\"O\", (-0.003166, -1.329504, 0.557597)),\n",
    "    (\"O\", (-2.065823, -0.232403, 1.765329)),\n",
    "    (\"H\", (0.881055, 0.866924, -1.063283)),\n",
    "    (\"O\", (1.748944, 0.417505, -1.047631)),\n",
    "    (\"H\", (1.477276, -0.378346, -0.549750)),\n",
    "]\n",
    "basis = \"sto-3g\"\n",
    "multiplicity = 1\n",
    "charge = 1\n",
    "\n",
    "molecule = MolecularData(geometry, basis, multiplicity, charge)\n",
    "mol = run_pyscf(molecule, run_mp2=True, run_cisd=False, run_ccsd=False, run_fci=False)"
   ]
  },
  {
   "cell_type": "code",
   "execution_count": 3,
   "metadata": {},
   "outputs": [],
   "source": [
    "mol.save()"
   ]
  },
  {
   "cell_type": "code",
   "execution_count": 4,
   "metadata": {},
   "outputs": [],
   "source": [
    "hamiltonian = MolecularData(filename=molecule.filename)"
   ]
  },
  {
   "cell_type": "code",
   "execution_count": 5,
   "metadata": {},
   "outputs": [],
   "source": [
    "hamiltonian = hamiltonian.get_molecular_hamiltonian()"
   ]
  },
  {
   "cell_type": "code",
   "execution_count": 6,
   "metadata": {},
   "outputs": [],
   "source": [
    "hamiltonian = of.get_fermion_operator(hamiltonian)"
   ]
  },
  {
   "cell_type": "code",
   "execution_count": 7,
   "metadata": {},
   "outputs": [
    {
     "data": {
      "text/plain": [
       "3577495"
      ]
     },
     "execution_count": 7,
     "metadata": {},
     "output_type": "execute_result"
    }
   ],
   "source": [
    "len(hamiltonian.terms)"
   ]
  },
  {
   "cell_type": "code",
   "execution_count": 8,
   "metadata": {},
   "outputs": [],
   "source": [
    "threshold = 0.001\n",
    "hamiltonian.compress(abs_tol=threshold)"
   ]
  },
  {
   "cell_type": "code",
   "execution_count": 9,
   "metadata": {},
   "outputs": [
    {
     "data": {
      "text/plain": [
       "355323"
      ]
     },
     "execution_count": 9,
     "metadata": {},
     "output_type": "execute_result"
    }
   ],
   "source": [
    "len(hamiltonian.terms)"
   ]
  },
  {
   "cell_type": "code",
   "execution_count": 10,
   "metadata": {},
   "outputs": [],
   "source": [
    "hamiltonian_openfermion = of.jordan_wigner(hamiltonian)"
   ]
  },
  {
   "cell_type": "code",
   "execution_count": 11,
   "metadata": {},
   "outputs": [
    {
     "data": {
      "text/plain": [
       "145398"
      ]
     },
     "execution_count": 11,
     "metadata": {},
     "output_type": "execute_result"
    }
   ],
   "source": [
    "nterms = len(hamiltonian_openfermion.terms)\n",
    "nterms"
   ]
  },
  {
   "cell_type": "code",
   "execution_count": 12,
   "metadata": {},
   "outputs": [
    {
     "name": "stdout",
     "output_type": "stream",
     "text": [
      "Hamiltonian acts on 62 qubit(s) and has 145398 term(s).\n"
     ]
    }
   ],
   "source": [
    "nqubits = openfermion_helper.get_num_qubits(hamiltonian_openfermion)\n",
    "\n",
    "print(f\"Hamiltonian acts on {nqubits} qubit(s) and has {nterms} term(s).\")"
   ]
  },
  {
   "cell_type": "code",
   "execution_count": 13,
   "metadata": {},
   "outputs": [],
   "source": [
    "import cirq\n",
    "\n",
    "\n",
    "def preprocess_hamiltonian(\n",
    "    hamiltonian: of.QubitOperator,\n",
    "    drop_term_if = None,\n",
    ") -> cirq.PauliSum:\n",
    "    \"\"\"Preprocess the Hamiltonian and convert it to a cirq.PauliSum.\"\"\"\n",
    "    if drop_term_if is None:\n",
    "        drop_term_if = []\n",
    "\n",
    "    new = cirq.PauliSum()\n",
    "\n",
    "    for i, term in enumerate(hamiltonian.terms):\n",
    "        print(f\"Status: On term {i} = {term}\", end=\"\\r\")\n",
    "        add_term = True\n",
    "\n",
    "        for drop_term in drop_term_if:\n",
    "            if drop_term(term):\n",
    "                add_term = False\n",
    "                break\n",
    "\n",
    "        if add_term:\n",
    "            key = \" \".join(pauli + str(index) for index, pauli in term)\n",
    "            new += next(iter(\n",
    "                of.transforms.qubit_operator_to_pauli_sum(\n",
    "                    of.QubitOperator(key, hamiltonian.terms.get(term)\n",
    "                )\n",
    "            )))\n",
    "\n",
    "    return new"
   ]
  },
  {
   "cell_type": "code",
   "execution_count": 14,
   "metadata": {},
   "outputs": [
    {
     "name": "stdout",
     "output_type": "stream",
     "text": [
      "Status: On term 145397 = ((60, 'Z'), (61, 'Z')) (60, 'X'), (61, 'Z')) (60, 'X'), (61, 'Z')) (60, 'X'), (61, 'Z')) (60, 'Y'), (61, 'X')) (59, 'Z'), (61, 'X')) (60, 'X'), (61, 'Z')) (60, 'Z'), (61, 'X')) (60, 'Y'), (61, 'X')) (60, 'X'), (61, 'Z')) (60, 'X'), (61, 'Z')) (60, 'X'), (61, 'Z')) (60, 'X'), (61, 'Z')) (60, 'X'), (61, 'Z')) (60, 'X'), (61, 'Z')) (60, 'X'), (61, 'Z')) (60, 'Y'), (61, 'X'))(60, 'Y'), (61, 'X')) (60, 'Y'), (61, 'X')) (60, 'Z'), (61, 'X')) (60, 'Z'), (61, 'X')) (58, 'Z'), (59, 'X')) (60, 'Z'), (61, 'X')) (60, 'Z'), (61, 'X')) (60, 'Z'), (61, 'X'))(59, 'X'), (61, 'Z'))(60, 'Y'), (61, 'X'))60, 'Z'), (61, 'X')) 'Z'), (59, 'Z'), (60, 'Z'), (61, 'X'))\r"
     ]
    }
   ],
   "source": [
    "hamiltonian = preprocess_hamiltonian(\n",
    "    hamiltonian_openfermion, drop_term_if=[lambda term: term == ()]\n",
    ")  # Drop identity."
   ]
  },
  {
   "cell_type": "code",
   "execution_count": 15,
   "metadata": {},
   "outputs": [],
   "source": [
    "# # Set parameters to make a simple molecule.\n",
    "# geometry = geometry_from_pubchem(\"water\")\n",
    "# basis = \"sto-3g\"\n",
    "# multiplicity = 1\n",
    "# charge = 0\n",
    "\n",
    "# # Make molecule.\n",
    "# molecule = MolecularData(geometry, basis, multiplicity, charge)\n",
    "\n",
    "# mol = run_pyscf(molecule, run_mp2=True, run_cisd=True, run_ccsd=True, run_fci=True)\n",
    "# mol.save()\n",
    "# hamiltonian = MolecularData(filename=molecule.filename)\n",
    "# hamiltonian = hamiltonian.get_molecular_hamiltonian()\n",
    "# hamiltonian = of.get_fermion_operator(hamiltonian)\n",
    "# hamiltonian_openfermion = of.jordan_wigner(hamiltonian)\n",
    "# hamiltonian = openfermion_helper.preprocess_hamiltonian(hamiltonian_openfermion, drop_term_if=[lambda term: term == ()])  # Drop identity."
   ]
  },
  {
   "cell_type": "markdown",
   "metadata": {},
   "source": [
    "### Show statistics"
   ]
  },
  {
   "cell_type": "code",
   "execution_count": 16,
   "metadata": {},
   "outputs": [
    {
     "name": "stdout",
     "output_type": "stream",
     "text": [
      "Hamiltonian acts on 62 qubit(s) and has 145397 term(s).\n"
     ]
    }
   ],
   "source": [
    "nterms = len(hamiltonian)\n",
    "nqubits = len(hamiltonian.qubits)\n",
    "\n",
    "print(f\"Hamiltonian acts on {nqubits} qubit(s) and has {nterms} term(s).\")"
   ]
  },
  {
   "cell_type": "markdown",
   "metadata": {},
   "source": [
    "## Time evolution resources: Compute the number of CNOTs for first order Trotter"
   ]
  },
  {
   "cell_type": "markdown",
   "metadata": {},
   "source": [
    "We use time evolution as a subroutine for quantum Krylov and phase estimation, so first we compute the cost of a first order Trotter step."
   ]
  },
  {
   "cell_type": "markdown",
   "metadata": {},
   "source": [
    "### (1) Crude estimate"
   ]
  },
  {
   "cell_type": "code",
   "execution_count": 17,
   "metadata": {},
   "outputs": [],
   "source": [
    "# \"\"\"Crude estimate.\"\"\"\n",
    "# num_cnots_crude: int = 0\n",
    "# for term in hamiltonian:\n",
    "#     num_cnots_crude += 2 ** (len(term.qubits) - 1)\n",
    "\n",
    "# num_cnots_crude"
   ]
  },
  {
   "cell_type": "markdown",
   "metadata": {},
   "source": [
    "### (2) Grouping + CNOT ladder"
   ]
  },
  {
   "cell_type": "code",
   "execution_count": 18,
   "metadata": {},
   "outputs": [],
   "source": [
    "# \"\"\"Estimate using grouping + diagonaliztion + exp(Z...Z) \"ladder\".\"\"\"\n",
    "# import kcommute\n",
    "\n",
    "\n",
    "# groups = kcommute.get_si_sets(hamiltonian, k=nqubits)\n",
    "\n",
    "# num_cnots: int = 0\n",
    "# for group in groups:\n",
    "#     num_cnots += nqubits ** 2  # It takes O(n^2) Clifford gates to diagonalize all terms in this group [https://arxiv.org/abs/quant-ph/0406196].\n",
    "#     for term in group:\n",
    "#         num_cnots += 2 * len(term.qubits)  # Using 2w CNOTs in a \"ladder\" and one exp(Z) gate on the bottom qubit. See https://arxiv.org/abs/2408.08265v3 Fig. 3.\n",
    "#     num_cnots += nqubits ** 2  # Rotating back to the Z basis (undoing the diagonal unitary).\n",
    "\n",
    "# num_cnots"
   ]
  },
  {
   "cell_type": "markdown",
   "metadata": {},
   "source": [
    "### (3) Qiskit's `PauliHedral` method"
   ]
  },
  {
   "cell_type": "code",
   "execution_count": 19,
   "metadata": {},
   "outputs": [],
   "source": [
    "import convert\n",
    "\n",
    "from qiskit.quantum_info import SparsePauliOp\n",
    "\n",
    "\n",
    "def cirq_pauli_sum_to_qiskit_pauli_op(pauli_sum: cirq.PauliSum) -> SparsePauliOp:\n",
    "    \"\"\"Returns a qiskit.SparsePauliOp representation of the cirq.PauliSum.\"\"\"\n",
    "    cirq_pauli_to_str = {cirq.X: \"X\", cirq.Y: \"Y\", cirq.Z: \"Z\"}\n",
    "\n",
    "    qubits = pauli_sum.qubits\n",
    "    terms = []\n",
    "    coeffs = []\n",
    "    for i, term in enumerate(pauli_sum):\n",
    "        print(f\"Status: on term i = {i}\", end=\"\\r\")\n",
    "        string = \"\"\n",
    "        for qubit in qubits:\n",
    "            if qubit not in term:\n",
    "                string += \"I\"\n",
    "            else:\n",
    "                string += cirq_pauli_to_str[term[qubit]]\n",
    "        terms.append(string)\n",
    "        assert np.isclose(term.coefficient.imag, 0.0, atol=1e-7)\n",
    "        coeffs.append(term.coefficient.real)\n",
    "    return SparsePauliOp(terms, coeffs)\n",
    "\n",
    "\n",
    "H = convert.cirq_pauli_sum_to_qiskit_pauli_op(hamiltonian)"
   ]
  },
  {
   "cell_type": "code",
   "execution_count": 20,
   "metadata": {},
   "outputs": [],
   "source": [
    "# Following https://qiskit-community.github.io/qiskit-algorithms/tutorials/13_trotterQRTE.html.\n",
    "order: int = 1\n",
    "cx_structure = \"chain\"  # \"fountain\"\n",
    "trotter_step = PauliEvolutionGate(H, time=1, synthesis=LieTrotter(cx_structure=cx_structure) if order == 1 else SuzukiTrotter(order, cx_structure=cx_structure))"
   ]
  },
  {
   "cell_type": "code",
   "execution_count": 21,
   "metadata": {},
   "outputs": [
    {
     "data": {
      "text/plain": [
       "<qiskit.circuit.instructionset.InstructionSet at 0x7ebc26f810c0>"
      ]
     },
     "execution_count": 21,
     "metadata": {},
     "output_type": "execute_result"
    }
   ],
   "source": [
    "circuit = qiskit.QuantumCircuit(H.num_qubits)\n",
    "circuit.append(trotter_step, range(H.num_qubits))"
   ]
  },
  {
   "cell_type": "code",
   "execution_count": 22,
   "metadata": {},
   "outputs": [
    {
     "name": "stdout",
     "output_type": "stream",
     "text": [
      "\n",
      "Depth: 5905800\n",
      "Gates: CX: 5343142, U2: 983896, U1: 635392, RZ: 1953, RX: 124, H: 124\n"
     ]
    }
   ],
   "source": [
    "circuit = circuit.decompose(reps=2)\n",
    "\n",
    "print(\n",
    "    f\"\"\"\n",
    "Depth: {circuit.depth()}\n",
    "Gates: {\", \".join([f\"{k.upper()}: {v}\" for k, v in circuit.count_ops().items()])}\n",
    "\"\"\"\n",
    ")\n",
    "# circuit.draw(fold=-1)"
   ]
  },
  {
   "cell_type": "markdown",
   "metadata": {},
   "source": [
    "### Compile"
   ]
  },
  {
   "cell_type": "code",
   "execution_count": 23,
   "metadata": {},
   "outputs": [
    {
     "name": "stdout",
     "output_type": "stream",
     "text": [
      "\n",
      "Depth: 4613328\n",
      "Gates: CX: 4192694, U3: 910838\n"
     ]
    }
   ],
   "source": [
    "compiled = qiskit.transpile(\n",
    "    circuit,\n",
    "    optimization_level=3,\n",
    "    basis_gates=[\"u3\", \"cx\"]\n",
    ")\n",
    "print(\n",
    "    f\"\"\"\n",
    "Depth: {compiled.depth()}\n",
    "Gates: {\", \".join([f\"{k.upper()}: {v}\" for k, v in compiled.count_ops().items()])}\n",
    "\"\"\"\n",
    ")\n",
    "# compiled.draw(fold=-1)"
   ]
  },
  {
   "cell_type": "markdown",
   "metadata": {},
   "source": [
    "### Compile to device"
   ]
  },
  {
   "cell_type": "code",
   "execution_count": 25,
   "metadata": {},
   "outputs": [
    {
     "ename": "",
     "evalue": "",
     "output_type": "error",
     "traceback": [
      "\u001B[1;31mThe Kernel crashed while executing code in the current cell or a previous cell. \n",
      "\u001B[1;31mPlease review the code in the cell(s) to identify a possible cause of the failure. \n",
      "\u001B[1;31mClick <a href='https://aka.ms/vscodeJupyterKernelCrash'>here</a> for more info. \n",
      "\u001B[1;31mView Jupyter <a href='command:jupyter.viewOutput'>log</a> for further details."
     ]
    }
   ],
   "source": [
    "computer = qiskit_ibm_runtime.fake_provider.FakeKyiv()\n",
    "\n",
    "compiled_kyiv = qiskit.transpile(\n",
    "    compiled,\n",
    "    backend=computer,\n",
    "    optimization_level=3,\n",
    ")\n",
    "print(\n",
    "    f\"\"\"\n",
    "Depth: {compiled_kyiv.depth()}\n",
    "Gates: {\", \".join([f\"{k.upper()}: {v}\" for k, v in compiled_kyiv.count_ops().items()])}\n",
    "\"\"\"\n",
    ")"
   ]
  },
  {
   "cell_type": "markdown",
   "source": [
    "### Compile circuit to device using Quantinuum's TKET"
   ],
   "metadata": {
    "collapsed": false
   }
  },
  {
   "cell_type": "code",
   "execution_count": null,
   "outputs": [],
   "source": [
    "from pytket.extensions.qiskit import IBMQBackend, tk_to_qiskit, qiskit_to_tk\n",
    "\n",
    "ibmbackend = IBMQBackend(backend_name=\"ibm_kyiv\")  # Assumes a saved account. \n",
    "tket_circuit = qiskit_to_tk(circuit)\n",
    "\n",
    "tket_compiled = ibmbackend.get_compiled_circuit(circuit=tket_circuit, optimisation_level=3)\n",
    "qisk_converted = tk_to_qiskit(tket_compiled)\n",
    "\n",
    "print(\n",
    "    f\"\"\"\n",
    "Depth: {qisk_converted.depth()}\n",
    "Gates: {\", \".join([f\"{k.upper()}: {v}\" for k, v in qisk_converted.count_ops().items()])}\n",
    "\"\"\"\n",
    ")"
   ],
   "metadata": {
    "collapsed": false
   }
  },
  {
   "cell_type": "markdown",
   "metadata": {},
   "source": [
    "## Number of Trotter steps for chemical accuracy"
   ]
  },
  {
   "cell_type": "markdown",
   "metadata": {},
   "source": [
    "See https://arxiv.org/abs/1912.08854."
   ]
  },
  {
   "cell_type": "code",
   "execution_count": null,
   "metadata": {},
   "outputs": [],
   "source": [
    "error = np.sum(np.abs(H.coeffs))  # Loose error bound from https://arxiv.org/abs/1912.08854.\n",
    "\n",
    "epsilon: float = 0.001  # mHa\n",
    "\n",
    "nsteps = round(error / epsilon)\n",
    "nsteps"
   ]
  },
  {
   "cell_type": "markdown",
   "metadata": {},
   "source": [
    "## VQE resources"
   ]
  },
  {
   "cell_type": "markdown",
   "metadata": {},
   "source": [
    "### Gates"
   ]
  },
  {
   "cell_type": "markdown",
   "metadata": {},
   "source": [
    "Read in VQE circuits."
   ]
  },
  {
   "cell_type": "code",
   "execution_count": null,
   "metadata": {},
   "outputs": [],
   "source": [
    "circuit_vqe = qiskit.qasm3.loads(pickle.load(open(\"kyiv_circuit_h2o\", \"rb\")))\n",
    "\n",
    "print(\n",
    "    f\"\"\"\n",
    "              Depth: {circuit_vqe.depth()}\n",
    "         Gate count: {len(circuit_vqe)}\n",
    "Nonlocal gate count: {circuit_vqe.num_nonlocal_gates()}\n",
    "     Gate breakdown: {\", \".join([f\"{k.upper()}: {v}\" for k, v in circuit_vqe.count_ops().items()])}\n",
    "\"\"\"\n",
    ")"
   ]
  },
  {
   "cell_type": "markdown",
   "metadata": {},
   "source": [
    "## Number of shots"
   ]
  },
  {
   "cell_type": "markdown",
   "metadata": {},
   "source": [
    "We compute the number of shots needed to compute one energy (cost function) $\\langle \\psi | H | \\psi \\rangle$ to accuracy $\\epsilon$."
   ]
  },
  {
   "cell_type": "code",
   "execution_count": 11,
   "metadata": {},
   "outputs": [],
   "source": [
    "eval, evec = scipy.sparse.linalg.eigsh(\n",
    "    of.linalg.get_sparse_operator(hamiltonian_openfermion),\n",
    "    k=1,\n",
    "    which=\"SA\"\n",
    ")\n",
    "evec = evec.flatten()"
   ]
  },
  {
   "cell_type": "code",
   "execution_count": null,
   "metadata": {},
   "outputs": [],
   "source": [
    "epsilons = [0.1, 0.01, 0.001]\n",
    "kvals = [1, 2, nqubits // 2, nqubits]\n",
    "\n",
    "all_shots = []\n",
    "for k in kvals:\n",
    "    groups = kcommute.get_si_sets(hamiltonian, k=k)\n",
    "    groups_of = convert.to_groups_of(groups)\n",
    "    base_shots = kcommute.compute_shots(groups_of, evec, epsilon=1)\n",
    "    shots = [base_shots / epsilon ** 2 for epsilon in epsilons]\n",
    "    all_shots.append(shots)\n",
    "    print(all_shots)"
   ]
  },
  {
   "cell_type": "code",
   "execution_count": null,
   "metadata": {},
   "outputs": [],
   "source": [
    "plt.rcParams.update({\"font.family\": \"serif\", \"font.size\": 12})\n",
    "\n",
    "\n",
    "for kval, shots in zip(kvals, all_shots):\n",
    "    plt.loglog(epsilons, shots, \"--o\", alpha=0.75, mec=\"black\", label=f\"$k = {kval}$\")\n",
    "\n",
    "plt.legend()\n",
    "plt.xlabel(\"Accuracy $\\epsilon$\")\n",
    "plt.ylabel(\"Shots $N$\")\n",
    "plt.title(f\"$k$-commuting shot counts w.r.t. ground state\\n for H2O ({nqubits} qubits, {nterms} Paulis)\");"
   ]
  },
  {
   "cell_type": "markdown",
   "metadata": {},
   "source": []
  }
 ],
 "metadata": {
  "kernelspec": {
   "display_name": "envcompare",
   "language": "python",
   "name": "envcompare"
  },
  "language_info": {
   "codemirror_mode": {
    "name": "ipython",
    "version": 3
   },
   "file_extension": ".py",
   "mimetype": "text/x-python",
   "name": "python",
   "nbconvert_exporter": "python",
   "pygments_lexer": "ipython3",
   "version": "3.10.12"
  }
 },
 "nbformat": 4,
 "nbformat_minor": 2
}
