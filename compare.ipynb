{
 "cells": [
  {
   "cell_type": "markdown",
   "metadata": {},
   "source": [
    "# Molecular time evolution resource counts"
   ]
  },
  {
   "cell_type": "markdown",
   "metadata": {},
   "source": [
    "Computes the resources to do Trotterized time evolution, a subroutine used in quantum Krylov and quantum phase estimation, of molecular Hamiltonians on IBM Quantum computers."
   ]
  },
  {
   "cell_type": "markdown",
   "metadata": {},
   "source": [
    "## Setup"
   ]
  },
  {
   "cell_type": "code",
   "execution_count": 1,
   "metadata": {
    "ExecuteTime": {
     "end_time": "2025-08-26T16:07:27.337600Z",
     "start_time": "2025-08-26T16:07:24.387951Z"
    }
   },
   "outputs": [],
   "source": [
    "import os\n",
    "import datetime\n",
    "\n",
    "import matplotlib.pyplot as plt\n",
    "import numpy as np\n",
    "import pickle\n",
    "import scipy\n",
    "\n",
    "import openfermion as of\n",
    "from openfermionpyscf import run_pyscf\n",
    "from openfermion.chem import geometry_from_pubchem, MolecularData\n",
    "\n",
    "import qiskit\n",
    "import qiskit.qasm3\n",
    "import qiskit_ibm_runtime\n",
    "from qiskit.circuit.library import PauliEvolutionGate\n",
    "from qiskit.synthesis import LieTrotter, SuzukiTrotter\n",
    "\n",
    "import convert\n",
    "import modified_hubbard\n",
    "import openfermion_helper\n",
    "\n",
    "from typing import Literal"
   ]
  },
  {
   "cell_type": "code",
   "execution_count": 33,
   "metadata": {
    "tags": [
     "parameters"
    ],
    "ExecuteTime": {
     "end_time": "2025-08-26T23:52:30.295054Z",
     "start_time": "2025-08-26T23:52:30.280539Z"
    }
   },
   "outputs": [],
   "source": [
    "# Parameters.\n",
    "hamiltonian_name: str = \"one-water-phosphate-ducc\"\n",
    "\n",
    "# For Hubbard model only.\n",
    "xdim: int = 8  # Only for Hubbard, the x-dimension of the Hubbard model.\n",
    "ydim: int = 8  # Only for Hubbard, the y-dimension of the Hubbard model.\n",
    "\n",
    "threshold: float = 0.01  # Remove terms in Hamiltonian whose coefficients are smaller than this value in magnitude.\n",
    "\n",
    "ibm_computer: str = \"ibm_fez\"  # IBM computer to compile to.\n",
    "use_tket: bool = False  # Also run circuits through the TKET compiler if True.\n",
    "\n",
    "save_circuit_counts: bool = True  # Option to save circuit counts (number of gates).\n",
    "save_circuits: bool = True  # Option to save circuits (as QASM3 text files which can be loaded with qiskit.qasm3.load(filename)).\n",
    "compute_shots: bool = False  # Also compute the number of shots required to measure the Hamiltonian to various accuracies, assuming the k-commuting method. Requires computing the ground state, only feasible for small Hamiltonians.\n",
    "\n",
    "mapping: Literal[\"JW\", \"BK\", \"BKT\"] = \"BK\" # choose between Jordan-Wigner, Bravyi-Kitaev, or Bravyi-Kitaev tree QubitOperator Mapping"
   ]
  },
  {
   "cell_type": "code",
   "execution_count": 34,
   "metadata": {
    "ExecuteTime": {
     "end_time": "2025-08-26T23:52:30.644593Z",
     "start_time": "2025-08-26T23:52:30.641322Z"
    }
   },
   "outputs": [],
   "source": [
    "# Parse parameters.\n",
    "hamiltonian_options = [\"one-water-phosphate\", \"one-water-phosphate-ducc\", \"water\", \"hubbard\", \"modified-hubbard\"]\n",
    "if hamiltonian_name not in hamiltonian_options:\n",
    "    raise ValueError(\n",
    "        f\"Unknown Hamiltonian option. Options are {hamiltonian_options}. \"\n",
    "        \"Custom Hamiltonian can be defined in the notebook.\"\n",
    "    )"
   ]
  },
  {
   "cell_type": "code",
   "execution_count": 35,
   "metadata": {
    "ExecuteTime": {
     "end_time": "2025-08-26T23:52:30.983015Z",
     "start_time": "2025-08-26T23:52:30.973153Z"
    }
   },
   "outputs": [],
   "source": [
    "# Directory for saving.\n",
    "if save_circuit_counts or save_circuits:\n",
    "    time_key = datetime.datetime.now().strftime(\"%m_%d_%Y_%H:%M:%S\")  # For saving results.\n",
    "    save_directory = f\"{hamiltonian_name}_\"\n",
    "    if hamiltonian_name in (\"hubbard\", \"modified-hubbard\"):\n",
    "        save_directory += f\"xdim_{xdim}_ydim_{ydim}_\"\n",
    "    save_directory += f\"threshold_{threshold}_{time_key}\"\n",
    "\n",
    "    os.mkdir(save_directory)"
   ]
  },
  {
   "cell_type": "markdown",
   "metadata": {},
   "source": [
    "## Get Hamiltonian"
   ]
  },
  {
   "cell_type": "code",
   "execution_count": 36,
   "metadata": {
    "ExecuteTime": {
     "end_time": "2025-08-26T23:52:34.878996Z",
     "start_time": "2025-08-26T23:52:31.898992Z"
    }
   },
   "outputs": [],
   "source": [
    "if hamiltonian_name == \"one-water-phosphate-ducc\":\n",
    "    hamiltonian = of.utils.load_operator(file_name=\"owp_631gd_22_ducc.data\", data_directory=\".\")\n",
    "\n",
    "elif hamiltonian_name == \"one-water-phosphate\":\n",
    "    geometry = [\n",
    "        (\"P\", (-1.034220, -0.234256,0.672434)),\n",
    "        (\"O\", (-1.004065, 0.890081, -0.334695)),\n",
    "        (\"O\", (-0.003166, -1.329504, 0.557597)),\n",
    "        (\"O\", (-2.065823, -0.232403, 1.765329)),\n",
    "        (\"H\", (0.881055, 0.866924, -1.063283)),\n",
    "        (\"O\", (1.748944, 0.417505, -1.047631)),\n",
    "        (\"H\", (1.477276, -0.378346, -0.549750)),\n",
    "    ]\n",
    "    basis = \"sto-3g\"\n",
    "    multiplicity = 1\n",
    "    charge = 1\n",
    "\n",
    "    hamiltonian_name = MolecularData(geometry, basis, multiplicity, charge)\n",
    "    mol = run_pyscf(hamiltonian_name, run_mp2=True, run_cisd=False, run_ccsd=False, run_fci=False)\n",
    "    mol.save()\n",
    "\n",
    "    hamiltonian = MolecularData(filename=hamiltonian_name.filename)\n",
    "    hamiltonian = hamiltonian.get_molecular_hamiltonian()\n",
    "    hamiltonian = of.get_fermion_operator(hamiltonian)\n",
    "\n",
    "elif hamiltonian_name == \"water\":\n",
    "    geometry = geometry_from_pubchem(\"water\")\n",
    "    basis = \"sto-3g\"\n",
    "    multiplicity = 1\n",
    "    charge = 0\n",
    "\n",
    "    # Make molecule.\n",
    "    hamiltonian_name = MolecularData(geometry, basis, multiplicity, charge)\n",
    "\n",
    "    mol = run_pyscf(hamiltonian_name, run_mp2=True, run_cisd=True, run_ccsd=True, run_fci=True)\n",
    "    mol.save()\n",
    "\n",
    "    hamiltonian = MolecularData(filename=hamiltonian_name.filename)\n",
    "    hamiltonian = hamiltonian.get_molecular_hamiltonian()\n",
    "    hamiltonian = of.get_fermion_operator(hamiltonian)\n",
    "\n",
    "elif hamiltonian_name == \"hubbard\":\n",
    "    hamiltonian = of.hamiltonians.fermi_hubbard(xdim, ydim, 1.0, 1.0)\n",
    "\n",
    "elif hamiltonian_name == \"modified-hubbard\":\n",
    "    hamiltonian = modified_hubbard.modified_fermi_hubbard_default_paramaters(xdim, ydim)"
   ]
  },
  {
   "cell_type": "code",
   "execution_count": 37,
   "metadata": {
    "ExecuteTime": {
     "end_time": "2025-08-26T23:52:34.890586Z",
     "start_time": "2025-08-26T23:52:34.885143Z"
    }
   },
   "outputs": [
    {
     "name": "stdout",
     "output_type": "stream",
     "text": [
      "Fermionic Hamiltonian has 341939 term(s).\n"
     ]
    }
   ],
   "source": [
    "print(f\"Fermionic Hamiltonian has {len(hamiltonian.terms)} term(s).\")"
   ]
  },
  {
   "cell_type": "code",
   "execution_count": 38,
   "metadata": {
    "ExecuteTime": {
     "end_time": "2025-08-26T23:52:35.044073Z",
     "start_time": "2025-08-26T23:52:34.935928Z"
    }
   },
   "outputs": [
    {
     "name": "stdout",
     "output_type": "stream",
     "text": [
      "Compressed Fermionic Hamiltonian has 25895 term(s).\n"
     ]
    }
   ],
   "source": [
    "hamiltonian.compress(abs_tol=threshold)\n",
    "print(f\"Compressed Fermionic Hamiltonian has {len(hamiltonian.terms)} term(s).\")"
   ]
  },
  {
   "cell_type": "code",
   "execution_count": 39,
   "metadata": {
    "ExecuteTime": {
     "end_time": "2025-08-26T23:52:37.990869Z",
     "start_time": "2025-08-26T23:52:35.057815Z"
    }
   },
   "outputs": [
    {
     "name": "stdout",
     "output_type": "stream",
     "text": [
      "Qubit Hamiltonian acts on 44 qubit(s) and has 43519 term(s).\n"
     ]
    }
   ],
   "source": [
    "if mapping == \"JW\":\n",
    "    hamiltonian_openfermion = of.jordan_wigner(hamiltonian)\n",
    "elif mapping == \"BK\":\n",
    "    hamiltonian_openfermion = of.bravyi_kitaev(hamiltonian)\n",
    "elif mapping == \"BKT\":\n",
    "    hamiltonian_openfermion = of.bravyi_kitaev_tree(hamiltonian)\n",
    "else:\n",
    "    raise ValueError(f\"{mapping} mapping not recorgnized\")\n",
    "\n",
    "nqubits = openfermion_helper.get_num_qubits(hamiltonian_openfermion)\n",
    "nterms = len(hamiltonian_openfermion.terms)\n",
    "\n",
    "print(f\"Qubit Hamiltonian acts on {nqubits} qubit(s) and has {nterms} term(s).\")"
   ]
  },
  {
   "cell_type": "code",
   "execution_count": 9,
   "outputs": [
    {
     "name": "stdout",
     "output_type": "stream",
     "text": [
      "Average Pauli weight: \n",
      " non_weighted=10.17135044463338 \n",
      " weighted=5.843882727306126\n"
     ]
    }
   ],
   "source": [
    "def average_pauli_weight(qubit_op: of.QubitOperator, weighted: bool = False, weight_func=abs) -> float:\n",
    "    \"\"\"\n",
    "    Compute the average Pauli weight of a QubitOperator.\n",
    "    \n",
    "    Args:\n",
    "        qubit_op: OpenFermion QubitOperator (sum of Pauli strings).\n",
    "        weighted: If True, weight by weight_func(coeff) for each term.\n",
    "        weight_func: Function applied to the complex coefficient to get a nonnegative weight (default abs).\n",
    "\n",
    "    Returns:\n",
    "        Average weight (float). Identity-only operators contribute weight 0.\n",
    "    \"\"\"\n",
    "    items = list(qubit_op.terms.items())  # (term, coeff)\n",
    "    if not items:\n",
    "        return 0.0\n",
    "\n",
    "    if not weighted:\n",
    "        return sum(len(term) for term, _ in items) / len(items)\n",
    "\n",
    "    # Coefficient-weighted average\n",
    "    num = 0.0\n",
    "    den = 0.0\n",
    "    for term, coeff in items:\n",
    "        w = len(term)                 # number of non-identity Paulis in the string\n",
    "        s = float(weight_func(coeff)) # e.g., |coeff|\n",
    "        num += w * s\n",
    "        den += s\n",
    "    return num / den if den else 0.0\n",
    "\n",
    "non_weighted = average_pauli_weight(qubit_op=hamiltonian_openfermion, weighted=False)\n",
    "weighted = average_pauli_weight(qubit_op=hamiltonian_openfermion, weighted=True)\n",
    "\n",
    "print(f\"Average Pauli weight: \\n {non_weighted=} \\n {weighted=}\")"
   ],
   "metadata": {
    "collapsed": false,
    "ExecuteTime": {
     "end_time": "2025-08-26T16:07:33.349621Z",
     "start_time": "2025-08-26T16:07:33.327947Z"
    }
   }
  },
  {
   "cell_type": "code",
   "execution_count": 106,
   "outputs": [
    {
     "name": "stdout",
     "output_type": "stream",
     "text": [
      "Status: On term 43518 = ((41, 'Z'), (43, 'Z'))\r(43, 'Z')) (43, 'Z')) (43, 'Y')) (42, 'Z'), (43, 'Y')) (43, 'Y')) (41, 'X'), (43, 'X')) (39, 'X')) (39, 'X')) (39, 'X'))41, 'X'), (43, 'X')), (43, 'X'))\r(43, 'X'))\r'), (3, 'Y'), (4, 'Y'), (5, 'X'), (7, 'Z'), (11, 'Z'), (13, 'Y'), (15, 'Y'), (23, 'Y'))Status: On term 3215 = ((0, 'X'), (1, 'X'), (3, 'Y'), (4, 'Y'), (5, 'X'), (26, 'Z'))Status: On term 4228 = ((0, 'Z'), (1, 'X'), (3, 'Y'), (4, 'Z'), (5, 'X'), (7, 'Z'), (8, 'Z'), (9, 'X'), (11, 'X'), (15, 'Y'), (16, 'Z'), (17, 'X'), (19, 'X'), (23, 'X'))Status: On term 5072 = ((1, 'Y'), (3, 'Y'), (5, 'Z'), (6, 'Z'), (17, 'Y'), (19, 'Y'), (20, 'Z'), (21, 'X'))Status: On term 5866 = ((1, 'Z'), (2, 'Y'), (3, 'Y'), (5, 'Z'), (6, 'Z'), (24, 'X'), (25, 'Z'))Status: On term 6566 = ((1, 'Z'), (2, 'X'), (3, 'Y'), (5, 'Z'), (6, 'Y'), (30, 'Z'))Status: On term 7232 = ((1, 'Z'), (2, 'Z'), (3, 'X'), (7, 'Y'), (9, 'Z'), (10, 'Z'), (11, 'X'), (19, 'Z'), (21, 'Z'), (22, 'X'), (23, 'Y'), (27, 'Z'), (29, 'Z'), (30, 'X'))Status: On term 7853 = ((3, 'Z'), (4, 'Y'), (5, 'X'), (11, 'Z'), (13, 'Z'), (14, 'Y'), (15, 'Y'), (23, 'Y'))Status: On term 8405 = ((4, 'Z'), (7, 'Z'), (11, 'Z'), (13, 'Y'), (15, 'Y'), (16, 'Z'), (17, 'X'), (19, 'X'), (23, 'X'))Status: On term 8926 = ((17, 'Z'), (18, 'Z'), (19, 'Y'), (21, 'Y'))Status: On term 9453 = ((5, 'X'), (6, 'X'), (16, 'Y'), (17, 'X'), (19, 'X'), (23, 'Y'), (27, 'Z'), (28, 'Z'), (29, 'X'))Status: On term 9944 = ((3, 'Z'), (5, 'Y'), (11, 'Z'), (12, 'Y'), (13, 'X'), (15, 'Y'), (23, 'Z'), (24, 'Y'), (25, 'X'), (27, 'X'))Status: On term 10411 = ((4, 'Z'), (5, 'Y'), (6, 'Z'), (17, 'Y'), (19, 'X'), (23, 'Y'), (27, 'Z'), (29, 'Y'))Status: On term 10864 = ((6, 'X'), (7, 'Z'), (8, 'X'), (9, 'X'), (11, 'X'), (15, 'Y'), (17, 'Y'), (19, 'X'), (23, 'X'))Status: On term 11314 = ((6, 'Z'), (7, 'Z'), (11, 'Z'), (12, 'X'), (13, 'X'), (15, 'Y'), (17, 'Z'), (18, 'Y'), (19, 'X'), (23, 'X'))Status: On term 11792 = ((3, 'Z'), (5, 'Z'), (6, 'Y'), (7, 'Y'), (8, 'X'), (9, 'X'), (11, 'X'), (28, 'Z'), (29, 'Z'))Status: On term 12191 = ((7, 'X'), (8, 'Z'), (9, 'X'), (11, 'X'), (17, 'Y'), (19, 'Y'), (21, 'Z'), (22, 'Z'))Status: On term 12653 = ((8, 'Y'), (9, 'Z'), (15, 'Z'), (23, 'Z'), (27, 'Z'), (29, 'Z'), (30, 'Y'), (31, 'Z'))Status: On term 13024 = ((8, 'X'), (9, 'X'), (11, 'Y'), (13, 'Z'), (14, 'X'), (19, 'Z'), (21, 'Z'), (22, 'Y'), (23, 'Y'), (27, 'Z'), (29, 'Z'), (30, 'Y'))Status: On term 13454 = ((7, 'Z'), (8, 'X'), (9, 'X'), (11, 'X'), (15, 'Y'), (17, 'Y'), (21, 'Z'), (22, 'X'), (23, 'X'))Status: On term 13806 = ((7, 'Z'), (8, 'X'), (9, 'X'), (11, 'X'), (15, 'Y'), (16, 'Y'), (17, 'X'), (19, 'Y'), (21, 'Y'), (23, 'Z'), (27, 'Z'), (29, 'Z'), (30, 'Z'))Status: On term 14211 = ((8, 'Z'), (9, 'Y'), (10, 'Y'), (15, 'X'), (19, 'Z'), (21, 'Z'), (22, 'X'), (23, 'X'))Status: On term 14603 = ((9, 'Y'), (11, 'Y'), (13, 'Z'), (14, 'Y'), (16, 'X'), (17, 'X'), (19, 'Y'), (20, 'Z'), (21, 'X'))Status: On term 14932 = ((7, 'Z'), (8, 'Z'), (9, 'X'), (11, 'X'), (15, 'Y'), (16, 'Y'), (17, 'X'), (19, 'Y'), (20, 'Z'), (21, 'X'), (23, 'Z'), (27, 'Z'), (29, 'Z'), (30, 'Y'))Status: On term 15193 = ((9, 'X'), (10, 'Z'), (17, 'Z'), (18, 'Z'), (19, 'X'), (23, 'Y'), (27, 'Y'))Status: On term 15477 = ((7, 'Z'), (8, 'Z'), (9, 'X'), (11, 'X'), (15, 'Y'), (17, 'Z'), (18, 'Z'), (19, 'X'), (23, 'X'), (24, 'X'), (25, 'X'), (27, 'Y'), (28, 'X'), (29, 'X'))Status: On term 15786 = ((7, 'Z'), (10, 'X'), (11, 'Z'), (13, 'Z'), (14, 'X'), (15, 'X'), (31, 'Z'))Status: On term 16097 = ((9, 'Z'), (10, 'X'), (11, 'Y'), (13, 'Z'), (14, 'X'), (16, 'Z'), (17, 'Y'), (18, 'Z'))Status: On term 16459 = ((7, 'Z'), (11, 'Y'), (13, 'X'), (14, 'Z'), (15, 'Y'), (16, 'Z'), (17, 'X'), (19, 'X'), (23, 'X'))Status: On term 16801 = ((7, 'Z'), (11, 'Y'), (15, 'Z'), (24, 'Y'), (25, 'X'), (27, 'Y'), (28, 'Y'), (29, 'X'))Status: On term 17074 = ((12, 'Y'), (13, 'Z'), (19, 'Z'), (21, 'Z'), (22, 'X'), (23, 'Y'), (27, 'Z'), (28, 'Z'), (29, 'X'))Status: On term 17410 = ((7, 'Z'), (11, 'Z'), (12, 'Y'), (13, 'X'), (15, 'Y'), (16, 'Y'), (17, 'X'), (19, 'X'), (23, 'X'), (24, 'Y'), (25, 'X'), (27, 'Y'), (28, 'Y'), (29, 'X'))Status: On term 17694 = ((7, 'Z'), (11, 'Z'), (12, 'X'), (13, 'X'), (15, 'Y'), (16, 'Y'), (17, 'Y'), (18, 'Z'), (19, 'Y'), (23, 'X'))Status: On term 18015 = ((7, 'Z'), (11, 'Z'), (12, 'Y'), (13, 'X'), (15, 'Y'), (17, 'Z'), (18, 'X'), (19, 'X'), (23, 'X'), (24, 'Y'), (25, 'X'), (27, 'Y'), (28, 'X'), (29, 'X'))Status: On term 18334 = ((12, 'Z'), (13, 'Y'), (14, 'Y'), (19, 'Z'), (20, 'X'), (21, 'X'), (23, 'Z'))Status: On term 18648 = ((7, 'Z'), (11, 'Z'), (13, 'Y'), (15, 'X'), (16, 'Y'), (17, 'X'), (19, 'X'), (23, 'Y'), (27, 'Z'), (28, 'Y'), (29, 'X'), (31, 'Z'))Status: On term 18959 = ((7, 'Z'), (11, 'Z'), (13, 'Y'), (15, 'Y'), (19, 'Z'), (20, 'X'), (21, 'X'), (27, 'Z'), (29, 'Z'), (30, 'X'))Status: On term 19268 = ((7, 'Z'), (11, 'Z'), (13, 'Y'), (15, 'Y'), (17, 'Y'), (19, 'X'), (23, 'X'), (25, 'Z'), (26, 'Z'), (27, 'Y'), (28, 'Z'), (29, 'X'))Status: On term 19541 = ((7, 'Z'), (11, 'Z'), (13, 'Z'), (14, 'Y'), (15, 'Y'), (16, 'X'), (17, 'X'), (19, 'Y'), (21, 'Z'), (22, 'X'), (23, 'Z'), (27, 'Z'), (29, 'Z'), (30, 'Y'))Status: On term 19793 = ((7, 'Z'), (11, 'Z'), (13, 'Z'), (14, 'Y'), (15, 'Y'), (17, 'Z'), (18, 'Z'), (19, 'X'), (21, 'X'), (22, 'X'), (23, 'X'))Status: On term 19978 = ((7, 'Z'), (11, 'Z'), (13, 'Z'), (14, 'X'), (15, 'X'), (19, 'Z'), (21, 'Z'), (22, 'X'), (23, 'Y'), (25, 'Y'), (27, 'X'), (31, 'Z'))Status: On term 20235 = ((7, 'Z'), (11, 'Z'), (13, 'Z'), (14, 'Z'), (15, 'X'), (16, 'X'), (17, 'X'), (19, 'X'), (23, 'Y'), (25, 'Z'), (26, 'Y'), (27, 'X'), (31, 'Z'))Status: On term 20525 = ((7, 'Z'), (11, 'Z'), (13, 'Z'), (14, 'Z'), (15, 'Z'), (22, 'Z'))Status: On term 20812 = ((16, 'Y'), (18, 'X'), (19, 'X'), (23, 'Y'), (24, 'Z'), (25, 'X'), (27, 'X'))Status: On term 21099 = ((16, 'Y'), (17, 'X'), (19, 'Z'), (28, 'Y'), (29, 'Z'))Status: On term 21376 = ((16, 'X'), (17, 'X'), (19, 'X'), (23, 'Y'), (24, 'Z'), (25, 'X'), (27, 'X'), (28, 'Y'))Status: On term 21614 = ((17, 'Y'), (21, 'Z'), (22, 'Z'), (23, 'Y'), (24, 'Z'), (25, 'X'), (27, 'X'))Status: On term 21885 = ((16, 'Z'), (17, 'X'), (19, 'X'), (23, 'Y'), (24, 'X'), (25, 'X'), (27, 'X'), (28, 'Y'))Status: On term 22156 = ((15, 'Z'), (17, 'Z'), (18, 'Y'), (19, 'X'), (20, 'Z'), (21, 'Y'), (22, 'X'), (23, 'X'), (31, 'Z'))Status: On term 22419 = ((17, 'Z'), (18, 'Z'), (19, 'Y'), (20, 'Z'), (21, 'X'), (25, 'Z'), (26, 'Z'), (27, 'Y'), (29, 'Z'), (30, 'Z'))Status: On term 22678 = ((20, 'Z'), (26, 'Z'))Status: On term 22942 = ((23, 'X'), (25, 'Z'), (26, 'X'), (27, 'X'), (28, 'Y'), (29, 'Y'), (30, 'Z'))Status: On term 23204 = ((0, 'Y'), (1, 'X'), (3, 'Y'), (4, 'Y'), (5, 'X'), (7, 'Z'), (11, 'Z'), (13, 'Y'), (15, 'X'), (31, 'Y'), (35, 'Z'), (37, 'Y'), (39, 'X'))Status: On term 23380 = ((0, 'Y'), (1, 'X'), (3, 'Y'), (4, 'Y'), (5, 'X'), (15, 'Z'), (23, 'Z'), (27, 'Y'), (31, 'Y'), (35, 'Z'), (37, 'Y'), (39, 'X'))Status: On term 23614 = ((0, 'X'), (1, 'X'), (3, 'Y'), (5, 'Z'), (6, 'X'), (15, 'Z'), (19, 'Z'), (20, 'Y'), (21, 'X'), (23, 'X'), (31, 'Y'), (39, 'Z'), (40, 'Y'), (41, 'X'), (43, 'X'))Status: On term 23862 = ((0, 'X'), (1, 'X'), (3, 'X'), (7, 'Z'), (15, 'Z'), (23, 'Z'), (27, 'Z'), (28, 'X'), (29, 'X'), (31, 'Y'), (39, 'Y'))Status: On term 24111 = ((0, 'Z'), (1, 'X'), (3, 'X'), (4, 'Y'), (5, 'Z'), (7, 'X'), (15, 'X'), (31, 'Y'), (39, 'Z'), (40, 'X'), (41, 'X'), (43, 'X'))Status: On term 24356 = ((0, 'Z'), (1, 'X'), (3, 'Y'), (5, 'Y'), (15, 'Z'), (23, 'Z'), (27, 'Y'), (31, 'Y'), (39, 'Z'), (41, 'Z'), (42, 'Z'), (43, 'X'))Status: On term 24573 = ((1, 'Y'), (3, 'X'), (7, 'Z'), (15, 'Z'), (19, 'Z'), (20, 'Z'), (21, 'X'), (23, 'X'), (31, 'Y'), (35, 'Z'), (36, 'Z'), (37, 'X'), (39, 'X'))Status: On term 24805 = ((0, 'Z'), (1, 'X'), (3, 'X'), (7, 'X'), (8, 'X'), (9, 'X'), (11, 'Y'), (13, 'Z'), (14, 'Z'), (15, 'X'), (31, 'Y'), (39, 'Z'), (40, 'X'), (41, 'X'), (43, 'X'))Status: On term 25040 = ((2, 'Y'), (7, 'Z'), (9, 'Z'), (10, 'Y'), (11, 'X'), (15, 'X'), (31, 'Y'), (33, 'Y'), (35, 'X'), (39, 'X'))Status: On term 25269 = ((1, 'Z'), (2, 'Y'), (3, 'X'), (7, 'Y'), (11, 'Z'), (13, 'Y'), (15, 'Z'), (17, 'Z'), (18, 'Z'), (19, 'X'), (23, 'X'), (31, 'Y'), (33, 'Z'), (34, 'X'), (35, 'X'), (39, 'X'))Status: On term 25684 = ((1, 'Z'), (2, 'Z'), (3, 'X'), (7, 'Y'), (11, 'Z'), (12, 'Z'), (13, 'X'), (15, 'Z'), (19, 'Y'), (23, 'X'), (31, 'Y'), (39, 'Y'))Status: On term 25893 = ((15, 'Z'), (23, 'Z'), (25, 'Z'), (26, 'X'), (27, 'X'), (31, 'Y'), (35, 'Z'), (36, 'Y'), (37, 'X'), (39, 'X'))Status: On term 26085 = ((4, 'Y'), (5, 'Y'), (6, 'Y'), (15, 'Z'), (19, 'Z'), (21, 'Z'), (22, 'X'), (23, 'X'), (31, 'Y'), (35, 'Z'), (36, 'X'), (37, 'X'), (39, 'X'))Status: On term 26310 = ((3, 'Z'), (4, 'X'), (5, 'X'), (7, 'Y'), (8, 'X'), (9, 'X'), (11, 'X'), (15, 'Z'), (23, 'Z'), (25, 'Z'), (26, 'Y'), (27, 'X'), (31, 'Y'), (33, 'Z'), (34, 'Y'), (35, 'X'), (39, 'X'))Status: On term 26514 = ((3, 'Z'), (4, 'X'), (5, 'X'), (7, 'X'), (15, 'X'), (17, 'Z'), (18, 'Y'), (19, 'X'), (23, 'Y'), (25, 'Z'), (26, 'X'), (27, 'X'), (31, 'Y'), (39, 'Z'), (40, 'Y'), (41, 'X'), (43, 'X'))Status: On term 26672 = ((4, 'Z'), (5, 'Z'), (15, 'Z'), (23, 'Z'), (25, 'Z'), (26, 'Z'), (27, 'X'), (31, 'Y'), (35, 'Z'), (37, 'Y'), (39, 'X'))Status: On term 26883 = ((5, 'X'), (6, 'Z'), (15, 'Z'), (23, 'Z'), (27, 'Z'), (28, 'X'), (29, 'X'), (31, 'Y'), (35, 'Z'), (37, 'Z'), (38, 'Y'), (39, 'X'))Status: On term 27059 = ((3, 'Z'), (4, 'Z'), (5, 'X'), (7, 'Y'), (9, 'Y'), (11, 'X'), (15, 'Z'), (23, 'Z'), (25, 'Z'), (26, 'X'), (27, 'X'), (31, 'Y'), (35, 'Z'), (37, 'Z'), (38, 'Y'), (39, 'X'))Status: On term 27270 = ((3, 'Z'), (4, 'Z'), (5, 'X'), (7, 'X'), (15, 'Y'), (19, 'Z'), (21, 'Z'), (22, 'Z'), (23, 'X'), (31, 'X'), (39, 'Z'), (41, 'Y'), (43, 'X'))Status: On term 27459 = ((3, 'Z'), (5, 'Z'), (6, 'Y'), (7, 'Y'), (8, 'X'), (9, 'X'), (11, 'X'), (15, 'Z'), (19, 'Z'), (20, 'Y'), (21, 'X'), (23, 'X'), (31, 'Y'), (35, 'Z'), (36, 'X'), (37, 'X'), (39, 'X'))Status: On term 27663 = ((3, 'Z'), (5, 'Z'), (6, 'Y'), (7, 'X'), (15, 'X'), (16, 'Z'), (17, 'X'), (19, 'X'), (23, 'Y'), (27, 'Z'), (29, 'Y'), (31, 'Y'), (35, 'Z'), (36, 'X'), (37, 'X'), (39, 'X'))Status: On term 27843 = ((3, 'Z'), (5, 'Z'), (6, 'Z'), (7, 'Z'), (15, 'Z'), (23, 'Z'), (27, 'Z'), (29, 'Y'), (31, 'Y'), (35, 'Z'), (37, 'Z'), (38, 'Z'), (39, 'X'))Status: On term 28009 = ((3, 'Z'), (5, 'Z'), (6, 'Z'), (7, 'Y'), (11, 'Z'), (12, 'Z'), (13, 'X'), (15, 'Z'), (19, 'Z'), (21, 'Z'), (22, 'Z'), (23, 'X'), (31, 'Y'), (35, 'Z'), (36, 'Z'), (37, 'X'), (39, 'X'))Status: On term 28216 = ((7, 'Y'), (15, 'X'), (28, 'Z'), (29, 'Z'), (31, 'Y'), (39, 'Z'), (40, 'Z'), (41, 'X'), (43, 'X'))Status: On term 28422 = ((8, 'Y'), (9, 'X'), (11, 'Y'), (13, 'Z'), (14, 'X'), (15, 'Z'), (19, 'Z'), (21, 'Y'), (23, 'X'), (31, 'Y'), (35, 'Z'), (36, 'Z'), (37, 'X'), (39, 'X'))Status: On term 28623 = ((7, 'Z'), (8, 'Y'), (9, 'X'), (11, 'X'), (15, 'X'), (16, 'Y'), (17, 'Y'), (18, 'Z'), (31, 'Y'), (35, 'Z'), (36, 'Z'), (37, 'X'), (39, 'X'))Status: On term 28825 = ((7, 'Z'), (8, 'Y'), (9, 'X'), (11, 'X'), (15, 'X'), (19, 'Z'), (20, 'Y'), (21, 'X'), (23, 'Y'), (27, 'Z'), (29, 'Z'), (30, 'X'), (31, 'Y'), (35, 'Z'), (37, 'Z'), (38, 'X'), (39, 'X'))Status: On term 28941 = ((8, 'Z'), (9, 'Z'), (15, 'Y'), (31, 'Y'), (39, 'Z'), (41, 'Z'), (42, 'Z'), (43, 'X'))Status: On term 29057 = ((8, 'Z'), (9, 'X'), (11, 'Y'), (12, 'Z'), (13, 'X'), (15, 'Z'), (23, 'Z'), (27, 'Z'), (29, 'Z'), (30, 'Z'), (31, 'Y'), (32, 'Z'), (33, 'X'), (35, 'X'), (39, 'X'))Status: On term 29231 = ((7, 'Z'), (9, 'Y'), (11, 'X'), (23, 'Z'), (25, 'Z'), (26, 'Z'), (27, 'X'), (31, 'Y'), (35, 'Z'), (37, 'Z'), (38, 'Z'), (39, 'X'))Status: On term 29424 = ((7, 'Z'), (9, 'Y'), (11, 'X'), (15, 'X'), (17, 'Z'), (18, 'Z'), (19, 'X'), (23, 'Y'), (27, 'Z'), (29, 'Y'), (31, 'Y'), (33, 'Z'), (34, 'Z'), (35, 'X'), (39, 'X'))Status: On term 29593 = ((7, 'Z'), (9, 'Y'), (11, 'X'), (15, 'X'), (23, 'X'), (27, 'Z'), (28, 'Z'), (29, 'X'), (31, 'Y'), (33, 'Z'), (34, 'Z'), (35, 'X'), (39, 'X'))Status: On term 29789 = ((9, 'Z'), (10, 'X'), (11, 'Y'), (12, 'Z'), (13, 'X'), (15, 'Z'), (17, 'Z'), (18, 'Z'), (19, 'X'), (23, 'X'), (31, 'Y'), (39, 'Z'), (40, 'X'), (41, 'X'), (43, 'X'))Status: On term 29965 = ((7, 'Z'), (9, 'Z'), (10, 'X'), (11, 'X'), (15, 'X'), (24, 'Z'), (31, 'Y'), (33, 'Z'), (34, 'Y'), (35, 'X'), (39, 'X'))Status: On term 30153 = ((7, 'Z'), (9, 'Z'), (10, 'Z'), (11, 'X'), (15, 'X'), (16, 'X'), (17, 'Y'), (18, 'X'), (31, 'Y'), (32, 'Z'), (33, 'X'), (35, 'X'), (39, 'X'))Status: On term 30339 = ((12, 'X'), (13, 'Y'), (14, 'Y'), (15, 'Z'), (19, 'Z'), (21, 'Z'), (22, 'Y'), (23, 'X'), (31, 'Y'), (39, 'Z'), (40, 'X'), (41, 'X'), (43, 'X'))Status: On term 30529 = ((7, 'Z'), (11, 'Z'), (12, 'Y'), (13, 'X'), (15, 'X'), (20, 'X'), (21, 'Y'), (22, 'Z'), (31, 'Y'), (33, 'Y'), (35, 'X'), (39, 'X'))Status: On term 30685 = ((7, 'Z'), (11, 'Z'), (12, 'X'), (13, 'X'), (15, 'X'), (19, 'Z'), (21, 'Z'), (22, 'X'), (23, 'Y'), (27, 'Z'), (28, 'Z'), (29, 'X'), (31, 'Y'), (35, 'Z'), (37, 'Z'), (38, 'Z'), (39, 'X'))Status: On term 30841 = ((13, 'X'), (14, 'X'), (31, 'X'), (35, 'Z'), (37, 'Z'), (38, 'X'), (39, 'X'))Status: On term 31035 = ((7, 'Z'), (11, 'Z'), (12, 'Z'), (13, 'X'), (15, 'X'), (20, 'Z'), (21, 'Y'), (22, 'X'), (31, 'Y'), (32, 'X'), (33, 'X'), (35, 'X'), (39, 'X'))Status: On term 31225 = ((7, 'Z'), (11, 'Z'), (12, 'Z'), (13, 'X'), (15, 'Y'), (23, 'Y'), (31, 'X'), (39, 'Z'), (41, 'Z'), (42, 'Z'), (43, 'X'))Status: On term 31416 = ((7, 'Z'), (11, 'Z'), (13, 'Z'), (14, 'Y'), (15, 'X'), (16, 'X'), (17, 'X'), (19, 'X'), (23, 'Y'), (25, 'Z'), (26, 'X'), (27, 'X'), (31, 'Y'), (35, 'Z'), (37, 'Z'), (38, 'Y'), (39, 'X'))Status: On term 31603 = ((7, 'Z'), (11, 'Z'), (13, 'Z'), (14, 'Y'), (15, 'X'), (19, 'Z'), (20, 'X'), (21, 'X'), (23, 'Y'), (27, 'Z'), (28, 'X'), (29, 'X'), (31, 'Y'), (35, 'Z'), (36, 'Y'), (37, 'X'), (39, 'X'))Status: On term 31791 = ((7, 'Z'), (11, 'Z'), (13, 'Z'), (14, 'Y'), (15, 'X'), (19, 'Z'), (21, 'Z'), (22, 'X'), (23, 'Y'), (25, 'Z'), (26, 'Z'), (27, 'X'), (31, 'Y'), (35, 'Z'), (37, 'Y'), (39, 'X'))Status: On term 31976 = ((7, 'Z'), (11, 'Z'), (13, 'Z'), (14, 'Y'), (15, 'X'), (28, 'Y'), (29, 'Y'), (30, 'Y'), (31, 'Y'), (33, 'Z'), (34, 'Y'), (35, 'X'), (39, 'X'))Status: On term 32160 = ((15, 'Y'), (17, 'Z'), (18, 'Y'), (19, 'X'), (23, 'Y'), (25, 'Z'), (26, 'Y'), (27, 'X'), (31, 'Y'), (39, 'Y'))Status: On term 32341 = ((7, 'Z'), (11, 'Z'), (13, 'Z'), (14, 'Z'), (15, 'X'), (19, 'Z'), (20, 'Z'), (21, 'X'), (23, 'Y'), (27, 'Z'), (28, 'Z'), (29, 'X'), (31, 'Y'), (35, 'Z'), (37, 'Z'), (38, 'Z'), (39, 'X'))Status: On term 32523 = ((7, 'Z'), (11, 'Z'), (13, 'Z'), (14, 'Z'), (15, 'X'), (23, 'X'), (27, 'Z'), (29, 'Z'), (30, 'X'), (31, 'Y'), (39, 'Z'), (40, 'Y'), (41, 'X'), (43, 'X'))Status: On term 32705 = ((15, 'Z'), (16, 'Y'), (17, 'Y'), (18, 'X'), (19, 'Z'), (21, 'Z'), (22, 'X'), (23, 'X'), (31, 'Y'), (35, 'Z'), (37, 'Z'), (38, 'Y'), (39, 'X'))Status: On term 32887 = ((15, 'Z'), (16, 'Y'), (17, 'X'), (19, 'Y'), (21, 'Z'), (22, 'X'), (23, 'Z'), (27, 'Z'), (28, 'Y'), (29, 'X'), (31, 'Y'), (35, 'Z'), (37, 'Z'), (38, 'X'), (39, 'X'))Status: On term 33039 = ((15, 'Z'), (16, 'X'), (17, 'X'), (19, 'X'), (23, 'X'), (25, 'Z'), (26, 'X'), (27, 'Y'), (29, 'Z'), (30, 'Z'), (31, 'Y'), (39, 'Z'), (40, 'Z'), (41, 'X'), (43, 'X'))Status: On term 33209 = ((15, 'Z'), (16, 'Z'), (17, 'X'), (19, 'Y'), (20, 'Y'), (21, 'X'), (23, 'Z'), (27, 'Y'), (31, 'Y'), (35, 'Z'), (36, 'X'), (37, 'X'), (39, 'X'))Status: On term 33372 = ((15, 'Z'), (17, 'Y'), (19, 'X'), (27, 'Z'), (28, 'Y'), (29, 'X'), (31, 'Y'), (35, 'Z'), (37, 'Z'), (38, 'Y'), (39, 'X'))Status: On term 33542 = ((15, 'Z'), (17, 'Y'), (19, 'X'), (23, 'X'), (28, 'Y'), (29, 'Z'), (31, 'Y'), (35, 'Z'), (37, 'Z'), (38, 'Y'), (39, 'X'))Status: On term 33709 = ((15, 'Z'), (17, 'Z'), (18, 'X'), (19, 'Y'), (21, 'Z'), (22, 'X'), (23, 'Z'), (27, 'Z'), (28, 'X'), (29, 'X'), (31, 'Y'), (35, 'Z'), (37, 'Z'), (38, 'X'), (39, 'X'))Status: On term 33880 = ((15, 'Z'), (17, 'Z'), (18, 'Y'), (19, 'X'), (23, 'X'), (28, 'Y'), (29, 'Z'), (31, 'Y'), (39, 'Z'), (41, 'Y'), (43, 'X'))Status: On term 34041 = ((15, 'Z'), (17, 'Z'), (18, 'Z'), (19, 'Y'), (21, 'Z'), (22, 'Z'), (23, 'Z'), (25, 'Z'), (26, 'Z'), (27, 'X'), (31, 'Y'), (39, 'Z'), (40, 'Z'), (41, 'X'), (43, 'X'))Status: On term 34168 = ((17, 'Z'), (18, 'Z'), (19, 'X'), (23, 'Y'), (27, 'Y'), (31, 'X'), (39, 'Z'), (41, 'Z'), (42, 'Z'), (43, 'X'))Status: On term 34329 = ((15, 'Z'), (20, 'X'), (21, 'Y'), (22, 'Y'), (23, 'Z'), (27, 'Z'), (29, 'Z'), (30, 'Y'), (31, 'Y'), (35, 'Z'), (36, 'X'), (37, 'X'), (39, 'X'))Status: On term 34496 = ((15, 'Z'), (19, 'Z'), (20, 'Y'), (21, 'X'), (23, 'X'), (28, 'Z'), (29, 'Y'), (30, 'X'), (31, 'Y'), (39, 'Y'))Status: On term 34660 = ((15, 'Z'), (19, 'Z'), (20, 'Z'), (21, 'X'), (23, 'X'), (25, 'Z'), (26, 'Y'), (27, 'Y'), (28, 'X'), (29, 'X'), (31, 'Y'), (39, 'Z'), (41, 'Y'), (43, 'X'))Status: On term 34826 = ((15, 'Z'), (22, 'X'), (23, 'Z'), (24, 'Z'), (25, 'X'), (27, 'X'), (31, 'Y'), (35, 'Z'), (37, 'Z'), (38, 'Y'), (39, 'X'))Status: On term 34989 = ((15, 'Z'), (19, 'Z'), (21, 'Z'), (22, 'Y'), (23, 'X'), (27, 'X'), (29, 'Z'), (30, 'X'), (31, 'Y'), (39, 'Z'), (40, 'Z'), (41, 'X'), (43, 'X'))Status: On term 35153 = ((23, 'X'), (25, 'Z'), (26, 'Z'), (27, 'X'), (31, 'X'), (35, 'Z'), (36, 'Z'), (37, 'X'), (39, 'X'))Status: On term 35289 = ((15, 'Z'), (23, 'Z'), (26, 'Z'), (27, 'Z'), (29, 'Y'), (31, 'Y'), (35, 'Z'), (37, 'Z'), (38, 'Z'), (39, 'X'))Status: On term 35440 = ((15, 'Z'), (23, 'Z'), (25, 'Z'), (26, 'X'), (27, 'X'), (28, 'Y'), (29, 'Y'), (30, 'Y'), (31, 'Y'), (39, 'Z'), (40, 'X'), (41, 'X'), (43, 'X'))Status: On term 35599 = ((15, 'Z'), (23, 'Z'), (27, 'Y'), (29, 'X'), (30, 'Z'), (31, 'Y'), (39, 'Z'), (40, 'Z'), (41, 'X'), (43, 'X'))Status: On term 35762 = ((0, 'X'), (1, 'Y'), (2, 'Y'), (33, 'Z'), (34, 'X'), (35, 'Y'), (37, 'Z'), (38, 'Y'))Status: On term 35926 = ((0, 'X'), (1, 'X'), (3, 'Y'), (5, 'Z'), (6, 'Y'), (32, 'Z'), (33, 'X'), (35, 'Y'), (37, 'Y'))Status: On term 36092 = ((0, 'Z'), (1, 'Z'), (35, 'Y'), (39, 'Y'), (40, 'Z'), (41, 'X'), (43, 'X'))Status: On term 36260 = ((1, 'Y'), (3, 'Y'), (4, 'Z'), (5, 'X'), (36, 'Z'))Status: On term 36423 = ((0, 'Z'), (1, 'X'), (3, 'X'), (7, 'Y'), (9, 'Y'), (11, 'X'), (36, 'Z'), (37, 'Z'))Status: On term 36561 = ((1, 'Z'), (2, 'X'), (3, 'Y'), (5, 'Z'), (6, 'Y'), (32, 'Z'))Status: On term 36724 = ((1, 'Z'), (2, 'X'), (3, 'X'), (7, 'Y'), (11, 'Y'), (32, 'Z'), (33, 'X'), (35, 'Y'), (37, 'Z'), (38, 'Y'))Status: On term 36884 = ((1, 'Z'), (2, 'Z'), (3, 'X'), (7, 'Y'), (9, 'Z'), (10, 'Y'), (11, 'X'), (32, 'X'), (33, 'X'), (35, 'X'), (39, 'Z'))Status: On term 36994 = ((1, 'Z'), (2, 'Z'), (3, 'X'), (7, 'Y'), (9, 'Z'), (10, 'Z'), (11, 'X'), (39, 'X'), (41, 'Y'), (43, 'X'))Status: On term 37116 = ((4, 'X'), (5, 'Y'), (6, 'Y'), (35, 'Z'), (36, 'Z'), (37, 'X'), (39, 'Y'), (41, 'Y'), (43, 'X'))Status: On term 37280 = ((4, 'Z'), (5, 'Y'), (6, 'Z'), (32, 'Y'), (33, 'X'), (35, 'Y'), (37, 'Z'), (38, 'Y'))Status: On term 37437 = ((6, 'Z'), (32, 'Z'), (33, 'X'), (35, 'Y'), (37, 'Y'))Status: On term 37595 = ((3, 'Z'), (5, 'Z'), (6, 'Y'), (7, 'X'), (15, 'Y'), (23, 'Z'), (27, 'Z'), (28, 'X'), (29, 'X'), (35, 'X'), (36, 'Z'), (37, 'X'))Status: On term 37753 = ((3, 'Z'), (5, 'Z'), (6, 'Z'), (7, 'X'), (15, 'Y'), (23, 'Z'), (27, 'Z'), (29, 'Y'), (33, 'Z'), (34, 'Y'), (35, 'Y'), (36, 'X'), (37, 'X'))Status: On term 37910 = ((8, 'X'), (9, 'X'), (11, 'Y'), (13, 'Z'), (14, 'X'), (33, 'Y'), (35, 'X'), (39, 'Z'))Status: On term 38063 = ((7, 'Z'), (8, 'X'), (9, 'X'), (11, 'X'), (15, 'Y'), (19, 'Z'), (20, 'Y'), (21, 'X'), (23, 'X'), (36, 'Z'))Status: On term 38220 = ((7, 'Z'), (9, 'Y'), (11, 'X'), (15, 'Y'), (16, 'Z'), (17, 'X'), (19, 'X'), (23, 'X'), (32, 'Z'))Status: On term 38373 = ((7, 'Z'), (8, 'Z'), (9, 'X'), (11, 'X'), (15, 'Y'), (23, 'Y'), (34, 'Z'))Status: On term 38529 = ((9, 'Z'), (10, 'X'), (11, 'Y'), (13, 'Z'), (14, 'Y'), (32, 'Y'), (33, 'X'), (35, 'X'), (39, 'Y'), (40, 'X'), (41, 'X'), (43, 'X'))Status: On term 38681 = ((12, 'Z'), (32, 'Z'))Status: On term 38831 = ((7, 'Z'), (11, 'Z'), (12, 'X'), (13, 'X'), (15, 'Y'), (17, 'Z'), (18, 'Y'), (19, 'X'), (23, 'X'), (32, 'Z'), (33, 'Z'))Status: On term 38978 = ((7, 'Z'), (11, 'Z'), (12, 'Y'), (13, 'X'), (15, 'Y'), (19, 'Z'), (21, 'Z'), (22, 'X'), (23, 'X'), (33, 'Z'), (34, 'Z'), (35, 'X'), (39, 'Z'))Status: On term 39129 = ((7, 'Z'), (11, 'Z'), (13, 'Y'), (15, 'Y'), (16, 'Z'), (17, 'X'), (19, 'X'), (23, 'X'), (35, 'Z'), (36, 'Y'), (37, 'X'), (39, 'Y'), (41, 'Z'), (42, 'X'), (43, 'X'))Status: On term 39277 = ((7, 'Z'), (11, 'Z'), (12, 'Z'), (13, 'X'), (15, 'Y'), (19, 'Z'), (21, 'Y'), (23, 'X'), (33, 'Y'), (35, 'Y'), (37, 'Z'), (38, 'Z'))Status: On term 39423 = ((7, 'Z'), (11, 'Z'), (13, 'Z'), (14, 'Y'), (15, 'Z'), (38, 'Y'))Status: On term 39571 = ((7, 'Z'), (11, 'Z'), (13, 'Z'), (14, 'X'), (15, 'Y'), (23, 'Z'), (27, 'Z'), (29, 'Z'), (30, 'Y'), (33, 'Y'), (35, 'Y'), (36, 'Z'), (37, 'X'))Status: On term 39720 = ((7, 'Z'), (11, 'Z'), (13, 'Z'), (14, 'Z'), (15, 'Y'), (19, 'Z'), (21, 'Y'), (23, 'X'), (33, 'Z'), (34, 'Z'), (35, 'X'), (39, 'Z'))Status: On term 39868 = ((7, 'Z'), (11, 'Z'), (13, 'Z'), (14, 'Z'), (15, 'X'), (31, 'Z'), (35, 'Z'), (36, 'Z'), (37, 'X'), (39, 'Y'), (41, 'Y'), (43, 'X'))Status: On term 40017 = ((16, 'Y'), (17, 'Y'), (18, 'X'), (33, 'Z'), (34, 'Y'), (35, 'Y'), (37, 'Z'), (38, 'X'))Status: On term 40163 = ((16, 'Y'), (17, 'X'), (19, 'X'), (23, 'Y'), (24, 'Y'), (25, 'X'), (27, 'X'), (33, 'Z'), (34, 'Z'), (35, 'Y'), (37, 'Z'), (38, 'Z'))Status: On term 40307 = ((17, 'X'), (18, 'Y'), (33, 'Z'), (34, 'Z'), (35, 'Y'), (37, 'Z'), (38, 'X'))Status: On term 40443 = ((17, 'Y'), (19, 'X'), (23, 'Z'), (33, 'Z'), (34, 'X'), (35, 'Y'), (37, 'Z'), (38, 'X'))Status: On term 40589 = ((18, 'Z'), (32, 'Z'))Status: On term 40734 = ((17, 'Z'), (18, 'Y'), (19, 'X'), (23, 'Y'), (25, 'Z'), (26, 'Y'), (27, 'X'), (33, 'Y'), (35, 'Y'), (37, 'Y'))Status: On term 40876 = ((17, 'Z'), (18, 'Z'), (19, 'X'), (23, 'Z'), (32, 'X'), (33, 'X'), (35, 'X'), (39, 'Y'), (40, 'Y'), (41, 'X'), (43, 'X'))Status: On term 41019 = ((19, 'Y'), (23, 'Y'), (27, 'Z'), (29, 'Y'), (35, 'Z'), (36, 'X'), (37, 'X'), (39, 'Y'), (40, 'X'), (41, 'X'), (43, 'X'))Status: On term 41158 = ((19, 'Z'), (20, 'Y'), (21, 'X'), (23, 'Y'), (27, 'Z'), (29, 'Z'), (30, 'X'), (32, 'Z'), (33, 'Z'))Status: On term 41298 = ((19, 'Z'), (21, 'Y'), (23, 'Y'), (27, 'Z'), (29, 'Z'), (30, 'Z'), (32, 'Z'))Status: On term 41441 = ((19, 'Z'), (21, 'Z'), (22, 'X'), (23, 'Z'), (38, 'X'))Status: On term 41580 = ((19, 'Z'), (21, 'Z'), (22, 'Y'), (23, 'Y'), (27, 'Z'), (29, 'Z'), (30, 'Y'), (33, 'Y'), (35, 'X'), (39, 'Z'))Status: On term 41665 = ((19, 'Z'), (21, 'Z'), (22, 'Z'), (23, 'Y'), (25, 'Y'), (27, 'X'), (33, 'Y'), (35, 'X'), (39, 'Y'), (40, 'Z'), (41, 'X'), (43, 'X'))Status: On term 41781 = ((24, 'Z'), (32, 'Z'))Status: On term 41922 = ((24, 'Z'), (25, 'Z'), (35, 'Z'), (37, 'Y'), (39, 'Y'), (41, 'Z'), (42, 'Z'), (43, 'X'))Status: On term 42064 = ((26, 'X'), (33, 'Z'), (34, 'Z'), (35, 'Y'), (36, 'Y'), (37, 'X'))Status: On term 42203 = ((25, 'Z'), (26, 'Z'), (27, 'Y'), (29, 'Y'), (32, 'Y'), (33, 'X'), (35, 'Y'), (37, 'Z'), (38, 'X'))Status: On term 42342 = ((15, 'Z'), (23, 'Z'), (27, 'Z'), (28, 'X'), (29, 'X'), (31, 'Z'), (32, 'Z'), (33, 'Y'), (34, 'Y'))Status: On term 42482 = ((15, 'Z'), (23, 'Z'), (27, 'Z'), (29, 'Z'), (30, 'X'), (31, 'Z'), (41, 'Z'), (42, 'X'), (43, 'Z'))Status: On term 42617 = ((7, 'Z'), (11, 'Y'), (15, 'X'), (31, 'Y'), (32, 'Z'), (33, 'Y'), (34, 'Z'), (35, 'Y'), (39, 'X'))Status: On term 42754 = ((15, 'Z'), (23, 'Z'), (25, 'Z'), (26, 'Z'), (27, 'X'), (31, 'Y'), (33, 'Y'), (35, 'Y'), (37, 'Z'), (38, 'Z'), (39, 'Y'))Status: On term 42889 = ((32, 'Z'), (35, 'X'), (37, 'Z'), (38, 'Z'))Status: On term 43025 = ((33, 'Y'), (34, 'X'), (35, 'Y'), (36, 'X'), (37, 'X'))Status: On term 43130 = ((32, 'Z'), (33, 'Z'), (40, 'Z'))Status: On term 43182 = ((33, 'Z'), (34, 'Y'), (37, 'Z'), (38, 'Y'), (39, 'Z'))Status: On term 43289 = ((34, 'Z'), (42, 'Z'))Status: On term 43424 = ((36, 'X'), (37, 'Z'), (42, 'X'))\n",
      "\n",
      "Pre-processed qubit Hamiltonian acts on 44 qubit(s) and has 43518 term(s).\n"
     ]
    }
   ],
   "source": [
    "hamiltonian = openfermion_helper.preprocess_hamiltonian(\n",
    "    hamiltonian_openfermion,\n",
    "    drop_term_if=[lambda term: term == ()],\n",
    "    verbose=True,\n",
    ")  # Drop identity and convert to Cirq PauliSum.\n",
    "\n",
    "nterms = len(hamiltonian)\n",
    "nqubits = len(hamiltonian.qubits)\n",
    "\n",
    "print(f\"\\n\\nPre-processed qubit Hamiltonian acts on {nqubits} qubit(s) and has {nterms} term(s).\")"
   ],
   "metadata": {
    "collapsed": false,
    "ExecuteTime": {
     "end_time": "2025-08-26T15:56:08.904266Z",
     "start_time": "2025-08-26T15:55:25.485899Z"
    }
   }
  },
  {
   "cell_type": "markdown",
   "metadata": {},
   "source": [
    "## Gate counts for a first order Trotter step"
   ]
  },
  {
   "cell_type": "markdown",
   "metadata": {},
   "source": [
    "### (1) Crude estimate"
   ]
  },
  {
   "cell_type": "code",
   "execution_count": 23,
   "metadata": {},
   "outputs": [],
   "source": [
    "# \"\"\"Crude estimate.\"\"\"\n",
    "# num_cnots_crude: int = 0\n",
    "# for term in hamiltonian:\n",
    "#     num_cnots_crude += 2 ** (len(term.qubits) - 1)\n",
    "\n",
    "# num_cnots_crude"
   ]
  },
  {
   "cell_type": "markdown",
   "metadata": {},
   "source": [
    "### (2) Grouping + CNOT ladder"
   ]
  },
  {
   "cell_type": "code",
   "execution_count": 24,
   "metadata": {},
   "outputs": [],
   "source": [
    "# \"\"\"Estimate using grouping + diagonaliztion + exp(Z...Z) \"ladder\".\"\"\"\n",
    "# import kcommute\n",
    "\n",
    "\n",
    "# groups = kcommute.get_si_sets(hamiltonian, k=nqubits)\n",
    "\n",
    "# num_cnots: int = 0\n",
    "# for group in groups:\n",
    "#     num_cnots += nqubits ** 2  # It takes O(n^2) Clifford gates to diagonalize all terms in this group [https://arxiv.org/abs/quant-ph/0406196].\n",
    "#     for term in group:\n",
    "#         num_cnots += 2 * len(term.qubits)  # Using 2w CNOTs in a \"ladder\" and one exp(Z) gate on the bottom qubit. See https://arxiv.org/abs/2408.08265v3 Fig. 3.\n",
    "#     num_cnots += nqubits ** 2  # Rotating back to the Z basis (undoing the diagonal unitary).\n",
    "\n",
    "# num_cnots"
   ]
  },
  {
   "cell_type": "markdown",
   "metadata": {},
   "source": [
    "### (3) Qiskit's `PauliHedral` method"
   ]
  },
  {
   "cell_type": "code",
   "execution_count": 107,
   "metadata": {
    "ExecuteTime": {
     "end_time": "2025-08-26T15:56:11.018701Z",
     "start_time": "2025-08-26T15:56:08.944582Z"
    }
   },
   "outputs": [],
   "source": [
    "H = convert.cirq_pauli_sum_to_qiskit_pauli_op(hamiltonian)"
   ]
  },
  {
   "cell_type": "code",
   "execution_count": 108,
   "metadata": {
    "ExecuteTime": {
     "end_time": "2025-08-26T15:57:40.294686Z",
     "start_time": "2025-08-26T15:56:34.834273Z"
    }
   },
   "outputs": [
    {
     "name": "stdout",
     "output_type": "stream",
     "text": [
      "\n",
      "Depth: 972814\n",
      "Gates: U3: 1060790, CX: 798258\n"
     ]
    }
   ],
   "source": [
    "# Following https://qiskit-community.github.io/qiskit-algorithms/tutorials/13_trotterQRTE.html.\n",
    "order: int = 1\n",
    "cx_structure = \"chain\"  # \"fountain\"\n",
    "trotter_step = PauliEvolutionGate(H, time=1, synthesis=LieTrotter(cx_structure=cx_structure) if order == 1 else SuzukiTrotter(order, cx_structure=cx_structure))\n",
    "\n",
    "circuit = qiskit.QuantumCircuit(H.num_qubits)\n",
    "circuit.append(trotter_step, range(H.num_qubits));\n",
    "\n",
    "circuit = circuit.decompose(reps=2)\n",
    "circuit = qiskit.transpile(\n",
    "    circuit,\n",
    "    optimization_level=0,\n",
    "    basis_gates=[\"u3\", \"cx\"]\n",
    ")\n",
    "\n",
    "print(\n",
    "    f\"\"\"\n",
    "Depth: {circuit.depth()}\n",
    "Gates: {\", \".join([f\"{k.upper()}: {v}\" for k, v in circuit.count_ops().items()])}\n",
    "\"\"\"\n",
    ")\n",
    "if save_circuit_counts:\n",
    "    with open(f\"{save_directory}/trotter_cx_u3_all_to_all_connectivity.pkl\", \"wb\") as file:\n",
    "        pickle.dump(circuit.count_ops(), file)\n",
    "\n",
    "if save_circuits:\n",
    "    with open(f\"{save_directory}/trotter_cx_u3_all_to_all_connectivity.qasm3\", \"w\") as file:\n",
    "        qiskit.qasm3.dump(circuit, file)"
   ]
  },
  {
   "cell_type": "markdown",
   "metadata": {},
   "source": [
    "## Optimize the circuit"
   ]
  },
  {
   "cell_type": "code",
   "execution_count": 25,
   "metadata": {},
   "outputs": [
    {
     "name": "stdout",
     "output_type": "stream",
     "text": [
      "\n",
      "Depth: 775271\n",
      "Gates: CX: 690102, U3: 193476\n"
     ]
    }
   ],
   "source": [
    "compiled = qiskit.transpile(\n",
    "    circuit,\n",
    "    optimization_level=3,\n",
    "    basis_gates=[\"u3\", \"cx\"]\n",
    ")\n",
    "print(\n",
    "    f\"\"\"\n",
    "Depth: {compiled.depth()}\n",
    "Gates: {\", \".join([f\"{k.upper()}: {v}\" for k, v in compiled.count_ops().items()])}\n",
    "\"\"\"\n",
    ")\n",
    "if save_circuit_counts:\n",
    "    with open(f\"{save_directory}/trotter_optimized_cx_u3_all_to_all_connectivity.pkl\", \"wb\") as file:\n",
    "        pickle.dump(compiled.count_ops(), file)\n",
    "\n",
    "if save_circuits:\n",
    "    with open(f\"{save_directory}/trotter_optimized_cx_u3_all_to_all_connectivity.qasm3\", \"w\") as file:\n",
    "        qiskit.qasm3.dump(compiled, file)"
   ]
  },
  {
   "cell_type": "markdown",
   "metadata": {},
   "source": [
    "## Compile to an IBM quantum computer"
   ]
  },
  {
   "cell_type": "code",
   "execution_count": null,
   "metadata": {},
   "outputs": [],
   "source": [
    "computer = qiskit_ibm_runtime.QiskitRuntimeService().backend(ibm_computer)  # Assumes a saved account.\n",
    "\n",
    "compiled_to_computer = qiskit.transpile(\n",
    "    compiled,\n",
    "    backend=computer,\n",
    "    optimization_level=3,\n",
    ")\n",
    "print(\n",
    "    f\"\"\"\n",
    "Depth: {compiled_to_computer.depth()}\n",
    "Gates: {\", \".join([f\"{k.upper()}: {v}\" for k, v in compiled_to_computer.count_ops().items()])}\n",
    "\"\"\"\n",
    ")\n",
    "if save_circuit_counts:\n",
    "    with open(f\"{save_directory}/trotter_optimized_{ibm_computer}.pkl\", \"wb\") as file:\n",
    "        pickle.dump(compiled_to_computer.count_ops(), file)\n",
    "\n",
    "if save_circuits:\n",
    "    with open(f\"{save_directory}/trotter_optimized_{ibm_computer}.qasm3\", \"w\") as file:\n",
    "        qiskit.qasm3.dump(compiled_to_computer, file)"
   ]
  },
  {
   "cell_type": "markdown",
   "metadata": {
    "collapsed": false
   },
   "source": [
    "### Using Quantinuum's TKET compiler"
   ]
  },
  {
   "cell_type": "code",
   "execution_count": null,
   "metadata": {
    "collapsed": false
   },
   "outputs": [],
   "source": [
    "if use_tket:\n",
    "    from pytket.extensions.qiskit import IBMQBackend, tk_to_qiskit, qiskit_to_tk\n",
    "\n",
    "    \n",
    "    ibmbackend = IBMQBackend(backend_name=ibm_computer)  # Assumes a saved account. \n",
    "\n",
    "    tket_compiled = ibmbackend.get_compiled_circuit(\n",
    "        circuit=qiskit_to_tk(circuit),\n",
    "        optimisation_level=3,\n",
    "    )\n",
    "    compiled_tket = tk_to_qiskit(tket_compiled)\n",
    "\n",
    "    print(\n",
    "        f\"\"\"\n",
    "    Depth: {compiled_tket.depth()}\n",
    "    Gates: {\", \".join([f\"{k.upper()}: {v}\" for k, v in compiled_tket.count_ops().items()])}\n",
    "    \"\"\"\n",
    "    )\n",
    "    if save_circuit_counts:\n",
    "        with open(f\"{save_directory}/trotter_optimized_tket_{ibm_computer}.pkl\", \"wb\") as file:\n",
    "            pickle.dump(compiled_tket.count_ops(), file)\n",
    "\n",
    "    if save_circuits:\n",
    "        with open(f\"{save_directory}/trotter_optimized_tket_{ibm_computer}.qasm3\", \"w\") as file:\n",
    "            qiskit.qasm3.dump(compiled_tket, file)"
   ]
  },
  {
   "cell_type": "markdown",
   "metadata": {},
   "source": [
    "## Compute the number of Trotter steps needed for chemical accuracy"
   ]
  },
  {
   "cell_type": "markdown",
   "metadata": {},
   "source": [
    "The Trotter error $\\epsilon$ decreases linearly in the number of Trotter stops $r$. Using error bounds for $\\epsilon$ from https://arxiv.org/abs/1912.08854 and chemical accuracy $\\epsilon^* = 10^{-3}$ Ha, we estimate the number of Trotter steps needed for chemical accuracy as $r = \\epsilon / \\epsilon^*$."
   ]
  },
  {
   "cell_type": "code",
   "execution_count": null,
   "metadata": {},
   "outputs": [],
   "source": [
    "error = np.sum(np.abs(H.coeffs))  # Loose error bound from https://arxiv.org/abs/1912.08854.\n",
    "\n",
    "epsilon: float = 0.001  # mHa\n",
    "\n",
    "nsteps = round(error / epsilon)\n",
    "nsteps"
   ]
  },
  {
   "cell_type": "markdown",
   "metadata": {},
   "source": [
    "## Compute number of shots"
   ]
  },
  {
   "cell_type": "markdown",
   "metadata": {},
   "source": [
    "We compute the number of shots needed to compute one energy (cost function) $\\langle \\psi | H | \\psi \\rangle$ to accuracy $\\epsilon$, assuming an (approximate) ground state $|\\psi\\rangle$."
   ]
  },
  {
   "cell_type": "code",
   "execution_count": 21,
   "metadata": {},
   "outputs": [],
   "source": [
    "if compute_shots:\n",
    "    import kcommute\n",
    "\n",
    "\n",
    "    eval, evec = scipy.sparse.linalg.eigsh(\n",
    "        of.linalg.get_sparse_operator(hamiltonian_openfermion),\n",
    "        k=1,\n",
    "        which=\"SA\"\n",
    "    )\n",
    "    evec = evec.flatten()\n",
    "\n",
    "    epsilons = [0.1, 0.01, 0.001]\n",
    "    kvals = [1, 2, nqubits // 2, nqubits]\n",
    "\n",
    "    all_shots = []\n",
    "    for k in kvals:\n",
    "        groups = kcommute.get_si_sets(hamiltonian, k=k)\n",
    "        groups_of = convert.to_groups_of(groups)\n",
    "        base_shots = kcommute.compute_shots(groups_of, evec, epsilon=1)\n",
    "        shots = [base_shots / epsilon ** 2 for epsilon in epsilons]\n",
    "        all_shots.append(shots)\n",
    "        print(all_shots)\n",
    "    \n",
    "    plt.rcParams.update({\"font.family\": \"serif\", \"font.size\": 12})\n",
    "\n",
    "\n",
    "    for kval, shots in zip(kvals, all_shots):\n",
    "        plt.loglog(epsilons, shots, \"--o\", alpha=0.75, mec=\"black\", label=f\"$k = {kval}$\")\n",
    "\n",
    "    plt.legend()\n",
    "    plt.xlabel(\"Accuracy $\\epsilon$\")\n",
    "    plt.ylabel(\"Shots $N$\")\n",
    "    plt.title(f\"$k$-commuting shot counts w.r.t. ground state\\n for {mol.name} ({nqubits} qubits, {nterms} Paulis)\");"
   ]
  },
  {
   "cell_type": "markdown",
   "metadata": {},
   "source": []
  }
 ],
 "metadata": {
  "kernelspec": {
   "display_name": "envcompare",
   "language": "python",
   "name": "envcompare"
  },
  "language_info": {
   "codemirror_mode": {
    "name": "ipython",
    "version": 3
   },
   "file_extension": ".py",
   "mimetype": "text/x-python",
   "name": "python",
   "nbconvert_exporter": "python",
   "pygments_lexer": "ipython3",
   "version": "3.10.12"
  }
 },
 "nbformat": 4,
 "nbformat_minor": 2
}
