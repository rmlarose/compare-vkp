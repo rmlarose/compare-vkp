{
 "cells": [
  {
   "cell_type": "markdown",
   "id": "88957916",
   "metadata": {},
   "source": [
    "# Qrylov"
   ]
  },
  {
   "cell_type": "markdown",
   "id": "7aa7ecf0",
   "metadata": {},
   "source": [
    "## Setup"
   ]
  },
  {
   "cell_type": "code",
   "execution_count": 1,
   "id": "cf873f86",
   "metadata": {},
   "outputs": [],
   "source": [
    "from typing import List, Tuple\n",
    "\n",
    "import matplotlib.pyplot as plt\n",
    "import numpy as np\n",
    "import scipy as sp\n",
    "\n",
    "import openfermion as of"
   ]
  },
  {
   "cell_type": "code",
   "execution_count": 2,
   "id": "5ce8c132",
   "metadata": {},
   "outputs": [],
   "source": [
    "def fill_h_and_s_matrices(\n",
    "    vectors: List[np.ndarray],\n",
    "    matrix: np.ndarray,\n",
    "    verbose: bool = False,\n",
    ") -> Tuple[np.ndarray, np.ndarray]:\n",
    "    dim = len(vectors)\n",
    "    h = np.zeros((dim, dim), dtype=np.complex128)\n",
    "    s = np.zeros((dim, dim), dtype=np.complex128)\n",
    "\n",
    "    for i in range(dim):\n",
    "        for j in range(i, dim):\n",
    "            if verbose:\n",
    "                print(i, j)\n",
    "            hij = vectors[i].conj().T @ matrix @ vectors[j]\n",
    "            h[i, j] = hij\n",
    "\n",
    "            if i != j:\n",
    "                h[j, i] = np.conjugate(hij)\n",
    "\n",
    "            sij = vectors[i].conj().T @ vectors[j]\n",
    "            s[i, j] = sij\n",
    "            if i != j:\n",
    "                s[j, i] = np.conjugate(sij)\n",
    "    return h, s\n",
    "\n",
    "\n",
    "# Based on https://quantum.cloud.ibm.com/docs/en/tutorials/krylov-quantum-diagonalization.\n",
    "# and Algorithm 1.1 of https://arxiv.org/abs/2110.07492.\n",
    "def solve_regularized_gen_eig(\n",
    "    h: np.ndarray,\n",
    "    s: np.ndarray,\n",
    "    threshold: float,\n",
    ") -> float:\n",
    "    if np.isclose(threshold, 0, atol=1e-10):\n",
    "        h_reg = h\n",
    "        s_reg = s\n",
    "    else:\n",
    "        s_vals, s_vecs = sp.linalg.eigh(s)\n",
    "        s_vecs = s_vecs.T\n",
    "        good_vecs = np.array(\n",
    "            [vec for val, vec in zip(s_vals, s_vecs) if val > threshold]\n",
    "        )\n",
    "        h_reg = good_vecs.conj() @ h @ good_vecs.T\n",
    "        s_reg = good_vecs.conj() @ s @ good_vecs.T\n",
    "    return sp.linalg.eigh(h_reg, s_reg)[0][0]"
   ]
  },
  {
   "cell_type": "markdown",
   "id": "f28a6e05",
   "metadata": {},
   "source": [
    "## Problem definition"
   ]
  },
  {
   "cell_type": "code",
   "execution_count": 3,
   "id": "f3d0cc2c",
   "metadata": {},
   "outputs": [
    {
     "data": {
      "text/plain": [
       "14"
      ]
     },
     "execution_count": 3,
     "metadata": {},
     "output_type": "execute_result"
    }
   ],
   "source": [
    "# hamiltonian = of.jordan_wigner(\n",
    "#     of.hamiltonians.fermi_hubbard(\n",
    "#         2,\n",
    "#         2,\n",
    "#         1.0,\n",
    "#         1.0,\n",
    "#     )\n",
    "# )\n",
    "\n",
    "n_elec = 10\n",
    "hamiltonian_file = \"data/monomer_eqb\"\n",
    "hamiltonian = of.jordan_wigner(\n",
    "        of.get_fermion_operator(\n",
    "    of.chem.MolecularData(filename=hamiltonian_file).get_molecular_hamiltonian()\n",
    "    )\n",
    ")\n",
    "\n",
    "nqubits = of.utils.count_qubits(hamiltonian)\n",
    "nqubits"
   ]
  },
  {
   "cell_type": "code",
   "execution_count": 4,
   "id": "3cfa126c",
   "metadata": {},
   "outputs": [],
   "source": [
    "hamiltonian_cirq = of.qubit_operator_to_pauli_sum(hamiltonian)\n",
    "# matrix = hamiltonian_cirq.matrix()\n",
    "matrix = of.linalg.get_sparse_operator(hamiltonian)"
   ]
  },
  {
   "cell_type": "code",
   "execution_count": 5,
   "id": "a0c9501d",
   "metadata": {},
   "outputs": [],
   "source": [
    "# assert np.allclose(matrix.conj().T, matrix)"
   ]
  },
  {
   "cell_type": "code",
   "execution_count": 6,
   "id": "4c0df1ba",
   "metadata": {},
   "outputs": [
    {
     "data": {
      "text/plain": [
       "-75.72938703797206"
      ]
     },
     "execution_count": 6,
     "metadata": {},
     "output_type": "execute_result"
    }
   ],
   "source": [
    "evals_exact, evecs_exact = sp.sparse.linalg.eigsh(matrix, which='SA')\n",
    "ground_state = evecs_exact.T[0]\n",
    "energy_exact = min(evals_exact)\n",
    "energy_exact"
   ]
  },
  {
   "cell_type": "markdown",
   "id": "4ebaa8c1",
   "metadata": {},
   "source": [
    "## Parameters"
   ]
  },
  {
   "cell_type": "code",
   "execution_count": 12,
   "id": "c4fc1c48",
   "metadata": {},
   "outputs": [],
   "source": [
    "subspace_dimension: int = 16\n",
    "threshold: float = 1e-8"
   ]
  },
  {
   "cell_type": "code",
   "execution_count": 13,
   "id": "68f6fff9",
   "metadata": {},
   "outputs": [
    {
     "data": {
      "text/plain": [
       "0.9728943240475182"
      ]
     },
     "execution_count": 13,
     "metadata": {},
     "output_type": "execute_result"
    }
   ],
   "source": [
    "def fock_state(bools: List[bool]) -> np.ndarray:\n",
    "    \"\"\"Get a fock state given occupations.\"\"\"\n",
    "\n",
    "    idx = 0\n",
    "    for k, b in enumerate(bools[::-1]):\n",
    "        if b:\n",
    "            idx += 2 ** k\n",
    "    psi = np.zeros(2 ** len(bools), dtype=complex)\n",
    "    psi[idx] = 1.\n",
    "    return psi\n",
    "\n",
    "# bvec = ground_state + np.random.randn(ground_state.shape[0]) / 5.0\n",
    "bvec = fock_state([True] * n_elec + [False] * (nqubits - n_elec))\n",
    "bvec /= np.linalg.norm(bvec)\n",
    "\n",
    "overlap = np.abs(bvec.conj().T @ ground_state) ** 2\n",
    "overlap"
   ]
  },
  {
   "cell_type": "markdown",
   "id": "9b27d6bf",
   "metadata": {},
   "source": [
    "## Krylov with $H$"
   ]
  },
  {
   "cell_type": "code",
   "execution_count": 14,
   "id": "8306167d",
   "metadata": {},
   "outputs": [],
   "source": [
    "vectors = [bvec]\n",
    "for i in range(subspace_dimension - 1):\n",
    "    vectors.append(\n",
    "        matrix @ vectors[-1]\n",
    "    )"
   ]
  },
  {
   "cell_type": "code",
   "execution_count": 15,
   "id": "b40463a7",
   "metadata": {},
   "outputs": [],
   "source": [
    "h, s = fill_h_and_s_matrices(vectors, matrix)"
   ]
  },
  {
   "cell_type": "code",
   "execution_count": 16,
   "id": "94705e5b",
   "metadata": {},
   "outputs": [
    {
     "name": "stdout",
     "output_type": "stream",
     "text": [
      "-75.67901694977688\n",
      "-75.71190955354582\n",
      "-75.7243472170823\n",
      "-75.72537039243652\n",
      "-75.7279357378243\n",
      "-75.72680829353152\n",
      "-75.7288693832727\n",
      "-75.72899717432652\n"
     ]
    },
    {
     "ename": "LinAlgError",
     "evalue": "The leading minor of order 4 of B is not positive definite. The factorization of B could not be completed and no eigenvalues or eigenvectors were computed.",
     "output_type": "error",
     "traceback": [
      "\u001b[31m---------------------------------------------------------------------------\u001b[39m",
      "\u001b[31mLinAlgError\u001b[39m                               Traceback (most recent call last)",
      "\u001b[36mCell\u001b[39m\u001b[36m \u001b[39m\u001b[32mIn[16]\u001b[39m\u001b[32m, line 3\u001b[39m\n\u001b[32m      1\u001b[39m krylov_evals = []\n\u001b[32m      2\u001b[39m \u001b[38;5;28;01mfor\u001b[39;00m d \u001b[38;5;129;01min\u001b[39;00m \u001b[38;5;28mrange\u001b[39m(\u001b[32m1\u001b[39m, \u001b[38;5;28mlen\u001b[39m(h) + \u001b[32m1\u001b[39m):\n\u001b[32m----> \u001b[39m\u001b[32m3\u001b[39m     krylov_energy = \u001b[43msolve_regularized_gen_eig\u001b[49m\u001b[43m(\u001b[49m\u001b[43mh\u001b[49m\u001b[43m[\u001b[49m\u001b[43m:\u001b[49m\u001b[43md\u001b[49m\u001b[43m,\u001b[49m\u001b[43m \u001b[49m\u001b[43m:\u001b[49m\u001b[43md\u001b[49m\u001b[43m]\u001b[49m\u001b[43m,\u001b[49m\u001b[43m \u001b[49m\u001b[43ms\u001b[49m\u001b[43m[\u001b[49m\u001b[43m:\u001b[49m\u001b[43md\u001b[49m\u001b[43m,\u001b[49m\u001b[43m \u001b[49m\u001b[43m:\u001b[49m\u001b[43md\u001b[49m\u001b[43m]\u001b[49m\u001b[43m,\u001b[49m\u001b[43m \u001b[49m\u001b[43mthreshold\u001b[49m\u001b[43m=\u001b[49m\u001b[43mthreshold\u001b[49m\u001b[43m)\u001b[49m\n\u001b[32m      4\u001b[39m     \u001b[38;5;28mprint\u001b[39m(krylov_energy)\n\u001b[32m      5\u001b[39m     krylov_evals.append(krylov_energy)\n",
      "\u001b[36mCell\u001b[39m\u001b[36m \u001b[39m\u001b[32mIn[2]\u001b[39m\u001b[32m, line 45\u001b[39m, in \u001b[36msolve_regularized_gen_eig\u001b[39m\u001b[34m(h, s, threshold)\u001b[39m\n\u001b[32m     43\u001b[39m     h_reg = good_vecs.conj() @ h @ good_vecs.T\n\u001b[32m     44\u001b[39m     s_reg = good_vecs.conj() @ s @ good_vecs.T\n\u001b[32m---> \u001b[39m\u001b[32m45\u001b[39m \u001b[38;5;28;01mreturn\u001b[39;00m \u001b[43msp\u001b[49m\u001b[43m.\u001b[49m\u001b[43mlinalg\u001b[49m\u001b[43m.\u001b[49m\u001b[43meigh\u001b[49m\u001b[43m(\u001b[49m\u001b[43mh_reg\u001b[49m\u001b[43m,\u001b[49m\u001b[43m \u001b[49m\u001b[43ms_reg\u001b[49m\u001b[43m)\u001b[49m[\u001b[32m0\u001b[39m][\u001b[32m0\u001b[39m]\n",
      "\u001b[36mFile \u001b[39m\u001b[32m~/.venv/compare/lib/python3.13/site-packages/scipy/linalg/_decomp.py:592\u001b[39m, in \u001b[36meigh\u001b[39m\u001b[34m(a, b, lower, eigvals_only, overwrite_a, overwrite_b, type, check_finite, subset_by_index, subset_by_value, driver)\u001b[39m\n\u001b[32m    589\u001b[39m     \u001b[38;5;28;01mraise\u001b[39;00m LinAlgError(\u001b[33mf\u001b[39m\u001b[33m'\u001b[39m\u001b[33mIllegal value in argument \u001b[39m\u001b[38;5;132;01m{\u001b[39;00m-info\u001b[38;5;132;01m}\u001b[39;00m\u001b[33m of internal \u001b[39m\u001b[33m'\u001b[39m\n\u001b[32m    590\u001b[39m                       \u001b[33mf\u001b[39m\u001b[33m'\u001b[39m\u001b[38;5;132;01m{\u001b[39;00mdrv.typecode\u001b[38;5;250m \u001b[39m+\u001b[38;5;250m \u001b[39mpfx\u001b[38;5;250m \u001b[39m+\u001b[38;5;250m \u001b[39mdriver\u001b[38;5;132;01m}\u001b[39;00m\u001b[33m'\u001b[39m)\n\u001b[32m    591\u001b[39m \u001b[38;5;28;01melif\u001b[39;00m info > n:\n\u001b[32m--> \u001b[39m\u001b[32m592\u001b[39m     \u001b[38;5;28;01mraise\u001b[39;00m LinAlgError(\u001b[33mf\u001b[39m\u001b[33m'\u001b[39m\u001b[33mThe leading minor of order \u001b[39m\u001b[38;5;132;01m{\u001b[39;00minfo-n\u001b[38;5;132;01m}\u001b[39;00m\u001b[33m of B is not \u001b[39m\u001b[33m'\u001b[39m\n\u001b[32m    593\u001b[39m                       \u001b[33m'\u001b[39m\u001b[33mpositive definite. The factorization of B \u001b[39m\u001b[33m'\u001b[39m\n\u001b[32m    594\u001b[39m                       \u001b[33m'\u001b[39m\u001b[33mcould not be completed and no eigenvalues \u001b[39m\u001b[33m'\u001b[39m\n\u001b[32m    595\u001b[39m                       \u001b[33m'\u001b[39m\u001b[33mor eigenvectors were computed.\u001b[39m\u001b[33m'\u001b[39m)\n\u001b[32m    596\u001b[39m \u001b[38;5;28;01melse\u001b[39;00m:\n\u001b[32m    597\u001b[39m     drv_err = {\u001b[33m'\u001b[39m\u001b[33mev\u001b[39m\u001b[33m'\u001b[39m: \u001b[33m'\u001b[39m\u001b[33mThe algorithm failed to converge; \u001b[39m\u001b[38;5;132;01m{}\u001b[39;00m\u001b[33m \u001b[39m\u001b[33m'\u001b[39m\n\u001b[32m    598\u001b[39m                      \u001b[33m'\u001b[39m\u001b[33moff-diagonal elements of an intermediate \u001b[39m\u001b[33m'\u001b[39m\n\u001b[32m    599\u001b[39m                      \u001b[33m'\u001b[39m\u001b[33mtridiagonal form did not converge to zero.\u001b[39m\u001b[33m'\u001b[39m,\n\u001b[32m   (...)\u001b[39m\u001b[32m    604\u001b[39m                \u001b[33m'\u001b[39m\u001b[33mevr\u001b[39m\u001b[33m'\u001b[39m: \u001b[33m'\u001b[39m\u001b[33mInternal Error.\u001b[39m\u001b[33m'\u001b[39m\n\u001b[32m    605\u001b[39m                }\n",
      "\u001b[31mLinAlgError\u001b[39m: The leading minor of order 4 of B is not positive definite. The factorization of B could not be completed and no eigenvalues or eigenvectors were computed."
     ]
    }
   ],
   "source": [
    "krylov_evals = []\n",
    "for d in range(1, len(h) + 1):\n",
    "    krylov_energy = solve_regularized_gen_eig(h[:d, :d], s[:d, :d], threshold=threshold)\n",
    "    print(krylov_energy)\n",
    "    krylov_evals.append(krylov_energy)"
   ]
  },
  {
   "cell_type": "code",
   "execution_count": null,
   "id": "74402f18",
   "metadata": {},
   "outputs": [],
   "source": [
    "plt.plot(krylov_evals, \"--o\", label=\"Krylov with $H$\")\n",
    "plt.axhline(energy_exact, ls=\"--\", color=\"black\", label=\"Exact\")\n",
    "plt.xlabel(\"Subspace dimension $d$\")\n",
    "plt.ylabel(\"Eigenvalue\")\n",
    "plt.legend();"
   ]
  },
  {
   "cell_type": "markdown",
   "id": "b39c0bb0",
   "metadata": {},
   "source": [
    "### Unitary Krylov"
   ]
  },
  {
   "cell_type": "code",
   "execution_count": null,
   "id": "5000f528",
   "metadata": {},
   "outputs": [],
   "source": [
    "# See Theorem 3.1 of https://arxiv.org/abs/2110.07492.\n",
    "dt = np.pi / (evals_exact[-1] - evals_exact[0])\n",
    "dt"
   ]
  },
  {
   "cell_type": "code",
   "execution_count": null,
   "id": "6083ed75",
   "metadata": {},
   "outputs": [],
   "source": [
    "vectors_u = []\n",
    "for k in range(-2 * subspace_dimension, 2 * subspace_dimension + 1, 1):\n",
    "    print(k)\n",
    "    Uk = sp.sparse.linalg.expm(-1j * matrix * k * dt)\n",
    "    vectors_u.append(Uk @ bvec)"
   ]
  },
  {
   "cell_type": "code",
   "execution_count": null,
   "id": "f0673941",
   "metadata": {},
   "outputs": [],
   "source": [
    "h, s = fill_h_and_s_matrices(vectors_u, matrix)"
   ]
  },
  {
   "cell_type": "code",
   "execution_count": null,
   "id": "76623503",
   "metadata": {},
   "outputs": [],
   "source": [
    "krylov_u_evals = []\n",
    "for d in range(1, len(h)):\n",
    "    krylov_energy = solve_regularized_gen_eig(h[:d, :d], s[:d, :d], threshold=threshold)\n",
    "    print(krylov_energy)\n",
    "    krylov_u_evals.append(krylov_energy)"
   ]
  },
  {
   "cell_type": "code",
   "execution_count": null,
   "id": "7391dfd6",
   "metadata": {},
   "outputs": [],
   "source": [
    "plt.plot(krylov_evals, \"--o\", label=\"Krylov with $H$\")\n",
    "plt.plot(krylov_u_evals, \"--o\", label=\"Krylov with $U$\")\n",
    "plt.axhline(energy_exact, ls=\"--\", color=\"black\", label=\"Exact\")\n",
    "plt.xlabel(\"Subspace dimension $d$\")\n",
    "plt.ylabel(\"Eigenvalue\")\n",
    "plt.title(f\"{nqubits}-qubit Fermi-Hubbard Hamiltonian\\nInitial state overlap with ground state = {round(overlap, 3)}\")\n",
    "plt.legend();"
   ]
  },
  {
   "cell_type": "markdown",
   "id": "ea0c27ca",
   "metadata": {},
   "source": [
    "## Trotterized unitary Krylov"
   ]
  },
  {
   "cell_type": "code",
   "execution_count": null,
   "id": "4202482a",
   "metadata": {},
   "outputs": [],
   "source": [
    "import cirq\n",
    "from cirq.contrib.qasm_import import circuit_from_qasm\n",
    "\n",
    "import qiskit\n",
    "import qiskit.qasm2"
   ]
  },
  {
   "cell_type": "code",
   "execution_count": null,
   "id": "f74782e3",
   "metadata": {},
   "outputs": [],
   "source": [
    "def cirq_pauli_sum_to_qiskit_pauli_op(pauli_sum: cirq.PauliSum) -> qiskit.quantum_info.SparsePauliOp:\n",
    "    \"\"\"Returns a qiskit.SparsePauliOp representation of the cirq.PauliSum.\"\"\"\n",
    "    cirq_pauli_to_str = {cirq.X: \"X\", cirq.Y: \"Y\", cirq.Z: \"Z\"}\n",
    "\n",
    "    qubits = pauli_sum.qubits\n",
    "    terms = []\n",
    "    coeffs = []\n",
    "    for term in pauli_sum:\n",
    "        string = \"\"\n",
    "        for qubit in qubits:\n",
    "            if qubit not in term:\n",
    "                string += \"I\"\n",
    "            else:\n",
    "                string += cirq_pauli_to_str[term[qubit]]\n",
    "        terms.append(string)\n",
    "        assert np.isclose(term.coefficient.imag, 0.0, atol=1e-7)\n",
    "        coeffs.append(term.coefficient.real)\n",
    "    return qiskit.quantum_info.SparsePauliOp(terms, coeffs)"
   ]
  },
  {
   "cell_type": "code",
   "execution_count": null,
   "id": "4f7a306a",
   "metadata": {},
   "outputs": [],
   "source": [
    "hamiltonian_qiskit = cirq_pauli_sum_to_qiskit_pauli_op(hamiltonian_cirq)"
   ]
  },
  {
   "cell_type": "code",
   "execution_count": null,
   "id": "15286183",
   "metadata": {},
   "outputs": [],
   "source": [
    "ntrotter_values = [1, 2, 4, 8, 16, 32]\n",
    "ngates_twoq = []\n",
    "ngates_oneq = []\n",
    "depths = []\n",
    "all_krylov_u_trotter_evals = []\n",
    "\n",
    "for ntrotter in ntrotter_values:\n",
    "    print(\"On ntrotter =\", ntrotter)\n",
    "    trotter_operation = qiskit.circuit.library.PauliEvolutionGate(\n",
    "        hamiltonian_qiskit,\n",
    "        time=dt,\n",
    "        synthesis=qiskit.synthesis.LieTrotter(reps=ntrotter)\n",
    "    )\n",
    "\n",
    "    # trotter_circuit = qiskit.QuantumCircuit.from_instructions(\n",
    "    #     [[trotter_operation]],\n",
    "    #     qubits=qiskit.QuantumRegister(trotter_operation.num_qubits),\n",
    "    # )\n",
    "    trotter_circuit = qiskit.QuantumCircuit(nqubits)\n",
    "    trotter_circuit.append(trotter_operation, trotter_circuit.qubits)\n",
    "    trotter_circuit = qiskit.transpile(\n",
    "        trotter_circuit, basis_gates=[\"u3\", \"cx\"]\n",
    "    )  # TODO: Compile to a target backend, e.g. IBM Fez.\n",
    "    opcounts = trotter_circuit.count_ops()\n",
    "    ngates_twoq.append(opcounts.get(\"cx\"))\n",
    "    ngates_oneq.append(opcounts.get(\"u3\"))\n",
    "    depths.append(trotter_circuit.depth())\n",
    "\n",
    "    qasm = qiskit.qasm2.dumps(trotter_circuit)\n",
    "    trotter_circuit_cirq = circuit_from_qasm(qasm.replace(\"qregless\", \"q\"))\n",
    "\n",
    "    qubits = sorted(trotter_circuit_cirq.all_qubits())\n",
    "    Utrotter = cirq.unitary(trotter_circuit_cirq)\n",
    "\n",
    "    vectors_u_trotter = []\n",
    "    for k in range(-2 * subspace_dimension, 2 * subspace_dimension + 1, 1):\n",
    "        # print(k)\n",
    "        Uk = np.linalg.matrix_power(Utrotter, k)\n",
    "        vectors_u_trotter.append(Uk @ bvec)\n",
    "    \n",
    "    h, s = fill_h_and_s_matrices(vectors_u_trotter, matrix)\n",
    "    krylov_u_trotter_evals = []\n",
    "    for d in range(1, len(h)):\n",
    "        krylov_energy = solve_regularized_gen_eig(h[:d, :d], s[:d, :d], threshold=threshold)\n",
    "        krylov_u_trotter_evals.append(krylov_energy)\n",
    "    \n",
    "    all_krylov_u_trotter_evals.append(krylov_u_trotter_evals)"
   ]
  },
  {
   "cell_type": "code",
   "execution_count": null,
   "id": "fb1fe8f9",
   "metadata": {},
   "outputs": [],
   "source": [
    "kwargs = {\"alpha\": 0.6667, \"mec\": \"black\"}\n",
    "\n",
    "errors_h = np.abs(np.array(krylov_evals) - energy_exact)\n",
    "errors_u = np.abs(np.array(krylov_u_evals) - energy_exact)\n",
    "\n",
    "\n",
    "plt.plot(errors_h, \"--s\", label=\"Krylov with $H$\", **kwargs)\n",
    "plt.plot(errors_u, \"--s\", label=\"Krylov with $U$\", **kwargs)\n",
    "\n",
    "\n",
    "\n",
    "for ntrotter, krylov_u_trotter_evals in zip(ntrotter_values, all_krylov_u_trotter_evals):\n",
    "    errors_u_trotter = np.abs(np.array(krylov_u_trotter_evals) - energy_exact)\n",
    "    plt.plot(errors_u_trotter, \"--s\", label=rf\"Krylov with $U'$ ({ntrotter} Trotter step(s))\", **kwargs)\n",
    "\n",
    "plt.axhline(1e-3, ls=\"--\", color=\"black\", label=\"Chemical accuracy\")\n",
    "\n",
    "plt.title(f\"{nqubits}-qubit Fermi-Hubbard Hamiltonian\\nInitial state overlap with ground state = {round(overlap, 3)}\")\n",
    "plt.xlabel(\"Subspace dimension $d$\")\n",
    "plt.ylabel(\"Absolute energy error\")\n",
    "\n",
    "plt.yscale(\"log\")\n",
    "plt.legend(bbox_to_anchor=(1.05, 1));"
   ]
  },
  {
   "cell_type": "code",
   "execution_count": null,
   "id": "7f120734",
   "metadata": {},
   "outputs": [],
   "source": [
    "plt.plot(ntrotter_values, ngates_oneq, \"--o\", label=\"One-qubit gates\")\n",
    "plt.plot(ntrotter_values, ngates_twoq, \"--o\", label=\"Two-qubit gates\")\n",
    "plt.plot(ntrotter_values, depths, \"--o\", label=\"Circuit depth\")\n",
    "\n",
    "plt.xlabel(\"Number of Trotter steps\")\n",
    "plt.ylabel(\"Count\")\n",
    "\n",
    "plt.legend();"
   ]
  },
  {
   "cell_type": "markdown",
   "id": "389dfb73",
   "metadata": {},
   "source": []
  }
 ],
 "metadata": {
  "kernelspec": {
   "display_name": "compare (3.13.7)",
   "language": "python",
   "name": "python3"
  },
  "language_info": {
   "codemirror_mode": {
    "name": "ipython",
    "version": 3
   },
   "file_extension": ".py",
   "mimetype": "text/x-python",
   "name": "python",
   "nbconvert_exporter": "python",
   "pygments_lexer": "ipython3",
   "version": "3.13.7"
  }
 },
 "nbformat": 4,
 "nbformat_minor": 5
}
