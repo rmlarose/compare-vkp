{
 "cells": [
  {
   "cell_type": "markdown",
   "id": "88957916",
   "metadata": {},
   "source": [
    "# Qrylov"
   ]
  },
  {
   "cell_type": "markdown",
   "id": "7aa7ecf0",
   "metadata": {},
   "source": [
    "## Setup"
   ]
  },
  {
   "cell_type": "code",
   "execution_count": 73,
   "id": "cf873f86",
   "metadata": {},
   "outputs": [],
   "source": [
    "from typing import List, Tuple\n",
    "\n",
    "import matplotlib.pyplot as plt\n",
    "import numpy as np\n",
    "import scipy as sp\n",
    "\n",
    "import openfermion as of"
   ]
  },
  {
   "cell_type": "code",
   "execution_count": 74,
   "id": "5ce8c132",
   "metadata": {},
   "outputs": [],
   "source": [
    "def fill_h_and_s_matrices(\n",
    "    vectors: List[np.ndarray],\n",
    "    matrix: np.ndarray,\n",
    "    verbose: bool = False,\n",
    ") -> Tuple[np.ndarray, np.ndarray]:\n",
    "    dim = len(vectors)\n",
    "    h = np.zeros((dim, dim), dtype=np.complex128)\n",
    "    s = np.zeros((dim, dim), dtype=np.complex128)\n",
    "\n",
    "    for i in range(dim):\n",
    "        for j in range(i, dim):\n",
    "            if verbose:\n",
    "                print(i, j)\n",
    "            hij = vectors[i].conj().T @ matrix @ vectors[j]\n",
    "            h[i, j] = hij\n",
    "\n",
    "            if i != j:\n",
    "                h[j, i] = np.conjugate(hij)\n",
    "\n",
    "            sij = vectors[i].conj().T @ vectors[j]\n",
    "            s[i, j] = sij\n",
    "            if i != j:\n",
    "                s[j, i] = np.conjugate(sij)\n",
    "    return h, s\n",
    "\n",
    "\n",
    "# Based on https://quantum.cloud.ibm.com/docs/en/tutorials/krylov-quantum-diagonalization.\n",
    "# and Algorithm 1.1 of https://arxiv.org/abs/2110.07492.\n",
    "def solve_regularized_gen_eig(\n",
    "    h: np.ndarray,\n",
    "    s: np.ndarray,\n",
    "    threshold: float,\n",
    ") -> float:\n",
    "    if np.isclose(threshold, 0, atol=1e-10):\n",
    "        h_reg = h\n",
    "        s_reg = s\n",
    "    else:\n",
    "        s_vals, s_vecs = sp.linalg.eigh(s)\n",
    "        s_vecs = s_vecs.T\n",
    "        good_vecs = np.array(\n",
    "            [vec for val, vec in zip(s_vals, s_vecs) if val > threshold]\n",
    "        )\n",
    "        h_reg = good_vecs.conj() @ h @ good_vecs.T\n",
    "        s_reg = good_vecs.conj() @ s @ good_vecs.T\n",
    "    return sp.linalg.eigh(h_reg, s_reg)[0][0]"
   ]
  },
  {
   "cell_type": "markdown",
   "id": "f28a6e05",
   "metadata": {},
   "source": [
    "## Problem definition"
   ]
  },
  {
   "cell_type": "code",
   "execution_count": 75,
   "id": "f3d0cc2c",
   "metadata": {},
   "outputs": [
    {
     "data": {
      "text/plain": [
       "14"
      ]
     },
     "execution_count": 75,
     "metadata": {},
     "output_type": "execute_result"
    }
   ],
   "source": [
    "# hamiltonian = of.jordan_wigner(\n",
    "#     of.hamiltonians.fermi_hubbard(\n",
    "#         2,\n",
    "#         2,\n",
    "#         1.0,\n",
    "#         1.0,\n",
    "#     )\n",
    "# )\n",
    "\n",
    "n_elec = 10\n",
    "hamiltonian_file = \"data/monomer_eqb\"\n",
    "hamiltonian = of.jordan_wigner(\n",
    "        of.get_fermion_operator(\n",
    "    of.chem.MolecularData(filename=hamiltonian_file).get_molecular_hamiltonian()\n",
    "    )\n",
    ")\n",
    "\n",
    "nqubits = of.utils.count_qubits(hamiltonian)\n",
    "nqubits"
   ]
  },
  {
   "cell_type": "code",
   "execution_count": 76,
   "id": "3cfa126c",
   "metadata": {},
   "outputs": [],
   "source": [
    "hamiltonian_cirq = of.qubit_operator_to_pauli_sum(hamiltonian)\n",
    "# matrix = hamiltonian_cirq.matrix()\n",
    "matrix = of.linalg.get_sparse_operator(hamiltonian)"
   ]
  },
  {
   "cell_type": "code",
   "execution_count": 77,
   "id": "a0c9501d",
   "metadata": {},
   "outputs": [],
   "source": [
    "# assert np.allclose(matrix.conj().T, matrix)"
   ]
  },
  {
   "cell_type": "code",
   "execution_count": 78,
   "id": "4c0df1ba",
   "metadata": {},
   "outputs": [
    {
     "data": {
      "text/plain": [
       "-75.72938703797254"
      ]
     },
     "execution_count": 78,
     "metadata": {},
     "output_type": "execute_result"
    }
   ],
   "source": [
    "evals_exact, evecs_exact = sp.sparse.linalg.eigsh(matrix, which='SA')\n",
    "ground_state = evecs_exact.T[0]\n",
    "energy_exact = min(evals_exact)\n",
    "energy_exact"
   ]
  },
  {
   "cell_type": "markdown",
   "id": "4ebaa8c1",
   "metadata": {},
   "source": [
    "## Parameters"
   ]
  },
  {
   "cell_type": "code",
   "execution_count": 79,
   "id": "c4fc1c48",
   "metadata": {},
   "outputs": [],
   "source": [
    "subspace_dimension: int = 16\n",
    "threshold: float = 1e-4"
   ]
  },
  {
   "cell_type": "code",
   "execution_count": 80,
   "id": "68f6fff9",
   "metadata": {},
   "outputs": [
    {
     "data": {
      "text/plain": [
       "0.9728943240475151"
      ]
     },
     "execution_count": 80,
     "metadata": {},
     "output_type": "execute_result"
    }
   ],
   "source": [
    "def fock_state(bools: List[bool]) -> np.ndarray:\n",
    "    \"\"\"Get a fock state given occupations.\"\"\"\n",
    "\n",
    "    idx = 0\n",
    "    for k, b in enumerate(bools[::-1]):\n",
    "        if b:\n",
    "            idx += 2 ** k\n",
    "    psi = np.zeros(2 ** len(bools), dtype=complex)\n",
    "    psi[idx] = 1.\n",
    "    return psi\n",
    "\n",
    "# bvec = ground_state + np.random.randn(ground_state.shape[0]) / 5.0\n",
    "bvec = fock_state([True] * n_elec + [False] * (nqubits - n_elec))\n",
    "bvec /= np.linalg.norm(bvec)\n",
    "\n",
    "overlap = np.abs(bvec.conj().T @ ground_state) ** 2\n",
    "overlap"
   ]
  },
  {
   "cell_type": "markdown",
   "id": "9b27d6bf",
   "metadata": {},
   "source": [
    "## Krylov with $H$"
   ]
  },
  {
   "cell_type": "code",
   "execution_count": 65,
   "id": "8306167d",
   "metadata": {},
   "outputs": [],
   "source": [
    "vectors = [bvec]\n",
    "for i in range(subspace_dimension - 1):\n",
    "    vectors.append(\n",
    "        matrix @ vectors[-1]\n",
    "    )"
   ]
  },
  {
   "cell_type": "code",
   "execution_count": 66,
   "id": "b40463a7",
   "metadata": {},
   "outputs": [],
   "source": [
    "h, s = fill_h_and_s_matrices(vectors, matrix)"
   ]
  },
  {
   "cell_type": "code",
   "execution_count": 67,
   "id": "94705e5b",
   "metadata": {},
   "outputs": [
    {
     "name": "stdout",
     "output_type": "stream",
     "text": [
      "-75.67901694977688\n",
      "-75.68166659205738\n"
     ]
    }
   ],
   "source": [
    "krylov_evals = []\n",
    "for d in range(1, len(h) + 1):\n",
    "    krylov_energy = solve_regularized_gen_eig(h[:d, :d], s[:d, :d], threshold=threshold)\n",
    "    print(krylov_energy)\n",
    "    krylov_evals.append(krylov_energy)"
   ]
  },
  {
   "cell_type": "code",
   "execution_count": 68,
   "id": "74402f18",
   "metadata": {},
   "outputs": [
    {
     "data": {
      "image/png": "[encoded data removed]",
      "text/plain": [
       "<Figure size 640x480 with 1 Axes>"
      ]
     },
     "metadata": {},
     "output_type": "display_data"
    }
   ],
   "source": [
    "plt.plot(krylov_evals, \"--o\", label=\"Krylov with $H$\")\n",
    "plt.axhline(energy_exact, ls=\"--\", color=\"black\", label=\"Exact\")\n",
    "plt.xlabel(\"Subspace dimension $d$\")\n",
    "plt.ylabel(\"Eigenvalue\")\n",
    "plt.legend();"
   ]
  },
  {
   "cell_type": "markdown",
   "id": "b39c0bb0",
   "metadata": {},
   "source": [
    "### Unitary Krylov"
   ]
  },
  {
   "cell_type": "code",
   "execution_count": 81,
   "id": "5000f528",
   "metadata": {},
   "outputs": [
    {
     "data": {
      "text/plain": [
       "8.011024548856343"
      ]
     },
     "execution_count": 81,
     "metadata": {},
     "output_type": "execute_result"
    }
   ],
   "source": [
    "# See Theorem 3.1 of https://arxiv.org/abs/2110.07492.\n",
    "dt = np.pi / (evals_exact[-1] - evals_exact[0])\n",
    "dt"
   ]
  },
  {
   "cell_type": "code",
   "execution_count": 82,
   "id": "6083ed75",
   "metadata": {},
   "outputs": [
    {
     "name": "stdout",
     "output_type": "stream",
     "text": [
      "-32\n",
      "-31\n"
     ]
    },
    {
     "ename": "KeyboardInterrupt",
     "evalue": "",
     "output_type": "error",
     "traceback": [
      "\u001b[31m---------------------------------------------------------------------------\u001b[39m",
      "\u001b[31mKeyboardInterrupt\u001b[39m                         Traceback (most recent call last)",
      "\u001b[36mCell\u001b[39m\u001b[36m \u001b[39m\u001b[32mIn[82]\u001b[39m\u001b[32m, line 4\u001b[39m\n\u001b[32m      2\u001b[39m \u001b[38;5;28;01mfor\u001b[39;00m k \u001b[38;5;129;01min\u001b[39;00m \u001b[38;5;28mrange\u001b[39m(-\u001b[32m2\u001b[39m * subspace_dimension, \u001b[32m2\u001b[39m * subspace_dimension + \u001b[32m1\u001b[39m, \u001b[32m1\u001b[39m):\n\u001b[32m      3\u001b[39m     \u001b[38;5;28mprint\u001b[39m(k)\n\u001b[32m----> \u001b[39m\u001b[32m4\u001b[39m     Uk = \u001b[43msp\u001b[49m\u001b[43m.\u001b[49m\u001b[43msparse\u001b[49m\u001b[43m.\u001b[49m\u001b[43mlinalg\u001b[49m\u001b[43m.\u001b[49m\u001b[43mexpm\u001b[49m\u001b[43m(\u001b[49m\u001b[43m-\u001b[49m\u001b[32;43m1\u001b[39;49m\u001b[43mj\u001b[49m\u001b[43m \u001b[49m\u001b[43m*\u001b[49m\u001b[43m \u001b[49m\u001b[43mmatrix\u001b[49m\u001b[43m \u001b[49m\u001b[43m*\u001b[49m\u001b[43m \u001b[49m\u001b[43mk\u001b[49m\u001b[43m \u001b[49m\u001b[43m*\u001b[49m\u001b[43m \u001b[49m\u001b[43mdt\u001b[49m\u001b[43m)\u001b[49m\n\u001b[32m      5\u001b[39m     vectors_u.append(Uk @ bvec)\n",
      "\u001b[36mFile \u001b[39m\u001b[32m~/.venv/compare/lib/python3.13/site-packages/scipy/sparse/linalg/_matfuncs.py:591\u001b[39m, in \u001b[36mexpm\u001b[39m\u001b[34m(A)\u001b[39m\n\u001b[32m    546\u001b[39m \u001b[38;5;28;01mdef\u001b[39;00m\u001b[38;5;250m \u001b[39m\u001b[34mexpm\u001b[39m(A):\n\u001b[32m    547\u001b[39m \u001b[38;5;250m    \u001b[39m\u001b[33;03m\"\"\"\u001b[39;00m\n\u001b[32m    548\u001b[39m \u001b[33;03m    Compute the matrix exponential using Pade approximation.\u001b[39;00m\n\u001b[32m    549\u001b[39m \n\u001b[32m   (...)\u001b[39m\u001b[32m    589\u001b[39m \u001b[33;03m           [  0.        ,   0.        ,  20.08553692]])\u001b[39;00m\n\u001b[32m    590\u001b[39m \u001b[33;03m    \"\"\"\u001b[39;00m\n\u001b[32m--> \u001b[39m\u001b[32m591\u001b[39m     \u001b[38;5;28;01mreturn\u001b[39;00m \u001b[43m_expm\u001b[49m\u001b[43m(\u001b[49m\u001b[43mA\u001b[49m\u001b[43m,\u001b[49m\u001b[43m \u001b[49m\u001b[43muse_exact_onenorm\u001b[49m\u001b[43m=\u001b[49m\u001b[33;43m'\u001b[39;49m\u001b[33;43mauto\u001b[39;49m\u001b[33;43m'\u001b[39;49m\u001b[43m)\u001b[49m\n",
      "\u001b[36mFile \u001b[39m\u001b[32m~/.venv/compare/lib/python3.13/site-packages/scipy/sparse/linalg/_matfuncs.py:680\u001b[39m, in \u001b[36m_expm\u001b[39m\u001b[34m(A, use_exact_onenorm)\u001b[39m\n\u001b[32m    677\u001b[39m \u001b[38;5;28;01melse\u001b[39;00m:\n\u001b[32m    678\u001b[39m     \u001b[38;5;66;03m# X = r_13(A)^(2^s) by repeated squaring.\u001b[39;00m\n\u001b[32m    679\u001b[39m     \u001b[38;5;28;01mfor\u001b[39;00m i \u001b[38;5;129;01min\u001b[39;00m \u001b[38;5;28mrange\u001b[39m(s):\n\u001b[32m--> \u001b[39m\u001b[32m680\u001b[39m         X = \u001b[43mX\u001b[49m\u001b[43m.\u001b[49m\u001b[43mdot\u001b[49m\u001b[43m(\u001b[49m\u001b[43mX\u001b[49m\u001b[43m)\u001b[49m\n\u001b[32m    681\u001b[39m \u001b[38;5;28;01mreturn\u001b[39;00m X\n",
      "\u001b[36mFile \u001b[39m\u001b[32m~/.venv/compare/lib/python3.13/site-packages/scipy/sparse/_base.py:497\u001b[39m, in \u001b[36m_spbase.dot\u001b[39m\u001b[34m(self, other)\u001b[39m\n\u001b[32m    495\u001b[39m     \u001b[38;5;28;01mreturn\u001b[39;00m \u001b[38;5;28mself\u001b[39m * other\n\u001b[32m    496\u001b[39m \u001b[38;5;28;01melse\u001b[39;00m:\n\u001b[32m--> \u001b[39m\u001b[32m497\u001b[39m     \u001b[38;5;28;01mreturn\u001b[39;00m \u001b[38;5;28;43mself\u001b[39;49m\u001b[43m \u001b[49m\u001b[43m@\u001b[49m\u001b[43m \u001b[49m\u001b[43mother\u001b[49m\n",
      "\u001b[36mFile \u001b[39m\u001b[32m~/.venv/compare/lib/python3.13/site-packages/scipy/sparse/_base.py:732\u001b[39m, in \u001b[36m_spbase.__matmul__\u001b[39m\u001b[34m(self, other)\u001b[39m\n\u001b[32m    729\u001b[39m \u001b[38;5;28;01mif\u001b[39;00m isscalarlike(other):\n\u001b[32m    730\u001b[39m     \u001b[38;5;28;01mraise\u001b[39;00m \u001b[38;5;167;01mValueError\u001b[39;00m(\u001b[33m\"\u001b[39m\u001b[33mScalar operands are not allowed, \u001b[39m\u001b[33m\"\u001b[39m\n\u001b[32m    731\u001b[39m                      \u001b[33m\"\u001b[39m\u001b[33muse \u001b[39m\u001b[33m'\u001b[39m\u001b[33m*\u001b[39m\u001b[33m'\u001b[39m\u001b[33m instead\u001b[39m\u001b[33m\"\u001b[39m)\n\u001b[32m--> \u001b[39m\u001b[32m732\u001b[39m \u001b[38;5;28;01mreturn\u001b[39;00m \u001b[38;5;28;43mself\u001b[39;49m\u001b[43m.\u001b[49m\u001b[43m_matmul_dispatch\u001b[49m\u001b[43m(\u001b[49m\u001b[43mother\u001b[49m\u001b[43m)\u001b[49m\n",
      "\u001b[36mFile \u001b[39m\u001b[32m~/.venv/compare/lib/python3.13/site-packages/scipy/sparse/_base.py:636\u001b[39m, in \u001b[36m_spbase._matmul_dispatch\u001b[39m\u001b[34m(self, other)\u001b[39m\n\u001b[32m    632\u001b[39m     \u001b[38;5;28;01mif\u001b[39;00m N != other.shape[\u001b[32m0\u001b[39m]:\n\u001b[32m    633\u001b[39m         \u001b[38;5;28;01mraise\u001b[39;00m \u001b[38;5;167;01mValueError\u001b[39;00m(\n\u001b[32m    634\u001b[39m             \u001b[33mf\u001b[39m\u001b[33m\"\u001b[39m\u001b[38;5;132;01m{\u001b[39;00merr_prefix\u001b[38;5;132;01m}\u001b[39;00m\u001b[33m (n,k=\u001b[39m\u001b[38;5;132;01m{\u001b[39;00mN\u001b[38;5;132;01m}\u001b[39;00m\u001b[33m),(k=\u001b[39m\u001b[38;5;132;01m{\u001b[39;00mother.shape[\u001b[32m0\u001b[39m]\u001b[38;5;132;01m}\u001b[39;00m\u001b[33m,m)->(n,m)\u001b[39m\u001b[33m\"\u001b[39m\n\u001b[32m    635\u001b[39m         )\n\u001b[32m--> \u001b[39m\u001b[32m636\u001b[39m     \u001b[38;5;28;01mreturn\u001b[39;00m \u001b[38;5;28;43mself\u001b[39;49m\u001b[43m.\u001b[49m\u001b[43m_matmul_sparse\u001b[49m\u001b[43m(\u001b[49m\u001b[43mother\u001b[49m\u001b[43m)\u001b[49m\n\u001b[32m    638\u001b[39m \u001b[38;5;66;03m# If it's a list or whatever, treat it like an array\u001b[39;00m\n\u001b[32m    639\u001b[39m other_a = np.asanyarray(other)\n",
      "\u001b[36mFile \u001b[39m\u001b[32m~/.venv/compare/lib/python3.13/site-packages/scipy/sparse/_compressed.py:589\u001b[39m, in \u001b[36m_cs_matrix._matmul_sparse\u001b[39m\u001b[34m(self, other)\u001b[39m\n\u001b[32m    586\u001b[39m data = np.empty(nnz, dtype=upcast(\u001b[38;5;28mself\u001b[39m.dtype, other.dtype))\n\u001b[32m    588\u001b[39m fn = \u001b[38;5;28mgetattr\u001b[39m(_sparsetools, \u001b[38;5;28mself\u001b[39m.format + \u001b[33m'\u001b[39m\u001b[33m_matmat\u001b[39m\u001b[33m'\u001b[39m)\n\u001b[32m--> \u001b[39m\u001b[32m589\u001b[39m \u001b[43mfn\u001b[49m\u001b[43m(\u001b[49m\u001b[43mM\u001b[49m\u001b[43m,\u001b[49m\u001b[43m \u001b[49m\u001b[43mN\u001b[49m\u001b[43m,\u001b[49m\u001b[43m \u001b[49m\u001b[43mnp\u001b[49m\u001b[43m.\u001b[49m\u001b[43masarray\u001b[49m\u001b[43m(\u001b[49m\u001b[38;5;28;43mself\u001b[39;49m\u001b[43m.\u001b[49m\u001b[43mindptr\u001b[49m\u001b[43m,\u001b[49m\u001b[43m \u001b[49m\u001b[43mdtype\u001b[49m\u001b[43m=\u001b[49m\u001b[43midx_dtype\u001b[49m\u001b[43m)\u001b[49m\u001b[43m,\u001b[49m\n\u001b[32m    590\u001b[39m \u001b[43m   \u001b[49m\u001b[43mnp\u001b[49m\u001b[43m.\u001b[49m\u001b[43masarray\u001b[49m\u001b[43m(\u001b[49m\u001b[38;5;28;43mself\u001b[39;49m\u001b[43m.\u001b[49m\u001b[43mindices\u001b[49m\u001b[43m,\u001b[49m\u001b[43m \u001b[49m\u001b[43mdtype\u001b[49m\u001b[43m=\u001b[49m\u001b[43midx_dtype\u001b[49m\u001b[43m)\u001b[49m\u001b[43m,\u001b[49m\n\u001b[32m    591\u001b[39m \u001b[43m   \u001b[49m\u001b[38;5;28;43mself\u001b[39;49m\u001b[43m.\u001b[49m\u001b[43mdata\u001b[49m\u001b[43m,\u001b[49m\n\u001b[32m    592\u001b[39m \u001b[43m   \u001b[49m\u001b[43mnp\u001b[49m\u001b[43m.\u001b[49m\u001b[43masarray\u001b[49m\u001b[43m(\u001b[49m\u001b[43mother\u001b[49m\u001b[43m.\u001b[49m\u001b[43mindptr\u001b[49m\u001b[43m,\u001b[49m\u001b[43m \u001b[49m\u001b[43mdtype\u001b[49m\u001b[43m=\u001b[49m\u001b[43midx_dtype\u001b[49m\u001b[43m)\u001b[49m\u001b[43m,\u001b[49m\n\u001b[32m    593\u001b[39m \u001b[43m   \u001b[49m\u001b[43mnp\u001b[49m\u001b[43m.\u001b[49m\u001b[43masarray\u001b[49m\u001b[43m(\u001b[49m\u001b[43mother\u001b[49m\u001b[43m.\u001b[49m\u001b[43mindices\u001b[49m\u001b[43m,\u001b[49m\u001b[43m \u001b[49m\u001b[43mdtype\u001b[49m\u001b[43m=\u001b[49m\u001b[43midx_dtype\u001b[49m\u001b[43m)\u001b[49m\u001b[43m,\u001b[49m\n\u001b[32m    594\u001b[39m \u001b[43m   \u001b[49m\u001b[43mother\u001b[49m\u001b[43m.\u001b[49m\u001b[43mdata\u001b[49m\u001b[43m,\u001b[49m\n\u001b[32m    595\u001b[39m \u001b[43m   \u001b[49m\u001b[43mindptr\u001b[49m\u001b[43m,\u001b[49m\u001b[43m \u001b[49m\u001b[43mindices\u001b[49m\u001b[43m,\u001b[49m\u001b[43m \u001b[49m\u001b[43mdata\u001b[49m\u001b[43m)\u001b[49m\n\u001b[32m    597\u001b[39m \u001b[38;5;28;01mif\u001b[39;00m new_shape == ():\n\u001b[32m    598\u001b[39m     \u001b[38;5;28;01mreturn\u001b[39;00m np.array(data[\u001b[32m0\u001b[39m])\n",
      "\u001b[31mKeyboardInterrupt\u001b[39m: "
     ]
    }
   ],
   "source": [
    "vectors_u = []\n",
    "for k in range(-2 * subspace_dimension, 2 * subspace_dimension + 1, 1):\n",
    "    print(k)\n",
    "    Uk = sp.sparse.linalg.expm(-1j * matrix * k * dt)\n",
    "    vectors_u.append(Uk @ bvec)"
   ]
  },
  {
   "cell_type": "code",
   "execution_count": null,
   "id": "f0673941",
   "metadata": {},
   "outputs": [],
   "source": [
    "h, s = fill_h_and_s_matrices(vectors_u, matrix)"
   ]
  },
  {
   "cell_type": "code",
   "execution_count": null,
   "id": "76623503",
   "metadata": {},
   "outputs": [],
   "source": [
    "krylov_u_evals = []\n",
    "for d in range(1, len(h)):\n",
    "    krylov_energy = solve_regularized_gen_eig(h[:d, :d], s[:d, :d], threshold=threshold)\n",
    "    print(krylov_energy)\n",
    "    krylov_u_evals.append(krylov_energy)"
   ]
  },
  {
   "cell_type": "code",
   "execution_count": null,
   "id": "7391dfd6",
   "metadata": {},
   "outputs": [],
   "source": [
    "plt.plot(krylov_evals, \"--o\", label=\"Krylov with $H$\")\n",
    "plt.plot(krylov_u_evals, \"--o\", label=\"Krylov with $U$\")\n",
    "plt.axhline(energy_exact, ls=\"--\", color=\"black\", label=\"Exact\")\n",
    "plt.xlabel(\"Subspace dimension $d$\")\n",
    "plt.ylabel(\"Eigenvalue\")\n",
    "plt.title(f\"{nqubits}-qubit Fermi-Hubbard Hamiltonian\\nInitial state overlap with ground state = {round(overlap, 3)}\")\n",
    "plt.legend();"
   ]
  },
  {
   "cell_type": "markdown",
   "id": "ea0c27ca",
   "metadata": {},
   "source": [
    "## Trotterized unitary Krylov"
   ]
  },
  {
   "cell_type": "code",
   "execution_count": null,
   "id": "4202482a",
   "metadata": {},
   "outputs": [],
   "source": [
    "import cirq\n",
    "from cirq.contrib.qasm_import import circuit_from_qasm\n",
    "\n",
    "import qiskit\n",
    "import qiskit.qasm2"
   ]
  },
  {
   "cell_type": "code",
   "execution_count": null,
   "id": "f74782e3",
   "metadata": {},
   "outputs": [],
   "source": [
    "def cirq_pauli_sum_to_qiskit_pauli_op(pauli_sum: cirq.PauliSum) -> qiskit.quantum_info.SparsePauliOp:\n",
    "    \"\"\"Returns a qiskit.SparsePauliOp representation of the cirq.PauliSum.\"\"\"\n",
    "    cirq_pauli_to_str = {cirq.X: \"X\", cirq.Y: \"Y\", cirq.Z: \"Z\"}\n",
    "\n",
    "    qubits = pauli_sum.qubits\n",
    "    terms = []\n",
    "    coeffs = []\n",
    "    for term in pauli_sum:\n",
    "        string = \"\"\n",
    "        for qubit in qubits:\n",
    "            if qubit not in term:\n",
    "                string += \"I\"\n",
    "            else:\n",
    "                string += cirq_pauli_to_str[term[qubit]]\n",
    "        terms.append(string)\n",
    "        assert np.isclose(term.coefficient.imag, 0.0, atol=1e-7)\n",
    "        coeffs.append(term.coefficient.real)\n",
    "    return qiskit.quantum_info.SparsePauliOp(terms, coeffs)"
   ]
  },
  {
   "cell_type": "code",
   "execution_count": null,
   "id": "4f7a306a",
   "metadata": {},
   "outputs": [],
   "source": [
    "hamiltonian_qiskit = cirq_pauli_sum_to_qiskit_pauli_op(hamiltonian_cirq)"
   ]
  },
  {
   "cell_type": "code",
   "execution_count": null,
   "id": "15286183",
   "metadata": {},
   "outputs": [],
   "source": [
    "ntrotter_values = [1, 2, 4, 8, 16, 32]\n",
    "ngates_twoq = []\n",
    "ngates_oneq = []\n",
    "depths = []\n",
    "all_krylov_u_trotter_evals = []\n",
    "\n",
    "for ntrotter in ntrotter_values:\n",
    "    print(\"On ntrotter =\", ntrotter)\n",
    "    trotter_operation = qiskit.circuit.library.PauliEvolutionGate(\n",
    "        hamiltonian_qiskit,\n",
    "        time=dt,\n",
    "        synthesis=qiskit.synthesis.LieTrotter(reps=ntrotter)\n",
    "    )\n",
    "\n",
    "    # trotter_circuit = qiskit.QuantumCircuit.from_instructions(\n",
    "    #     [[trotter_operation]],\n",
    "    #     qubits=qiskit.QuantumRegister(trotter_operation.num_qubits),\n",
    "    # )\n",
    "    trotter_circuit = qiskit.QuantumCircuit(nqubits)\n",
    "    trotter_circuit.append(trotter_operation, trotter_circuit.qubits)\n",
    "    trotter_circuit = qiskit.transpile(\n",
    "        trotter_circuit, basis_gates=[\"u3\", \"cx\"]\n",
    "    )  # TODO: Compile to a target backend, e.g. IBM Fez.\n",
    "    opcounts = trotter_circuit.count_ops()\n",
    "    ngates_twoq.append(opcounts.get(\"cx\"))\n",
    "    ngates_oneq.append(opcounts.get(\"u3\"))\n",
    "    depths.append(trotter_circuit.depth())\n",
    "\n",
    "    qasm = qiskit.qasm2.dumps(trotter_circuit)\n",
    "    trotter_circuit_cirq = circuit_from_qasm(qasm.replace(\"qregless\", \"q\"))\n",
    "\n",
    "    qubits = sorted(trotter_circuit_cirq.all_qubits())\n",
    "    Utrotter = cirq.unitary(trotter_circuit_cirq)\n",
    "\n",
    "    vectors_u_trotter = []\n",
    "    for k in range(-2 * subspace_dimension, 2 * subspace_dimension + 1, 1):\n",
    "        # print(k)\n",
    "        Uk = np.linalg.matrix_power(Utrotter, k)\n",
    "        vectors_u_trotter.append(Uk @ bvec)\n",
    "    \n",
    "    h, s = fill_h_and_s_matrices(vectors_u_trotter, matrix)\n",
    "    krylov_u_trotter_evals = []\n",
    "    for d in range(1, len(h)):\n",
    "        krylov_energy = solve_regularized_gen_eig(h[:d, :d], s[:d, :d], threshold=threshold)\n",
    "        krylov_u_trotter_evals.append(krylov_energy)\n",
    "    \n",
    "    all_krylov_u_trotter_evals.append(krylov_u_trotter_evals)"
   ]
  },
  {
   "cell_type": "code",
   "execution_count": null,
   "id": "fb1fe8f9",
   "metadata": {},
   "outputs": [],
   "source": [
    "kwargs = {\"alpha\": 0.6667, \"mec\": \"black\"}\n",
    "\n",
    "errors_h = np.abs(np.array(krylov_evals) - energy_exact)\n",
    "errors_u = np.abs(np.array(krylov_u_evals) - energy_exact)\n",
    "\n",
    "\n",
    "plt.plot(errors_h, \"--s\", label=\"Krylov with $H$\", **kwargs)\n",
    "plt.plot(errors_u, \"--s\", label=\"Krylov with $U$\", **kwargs)\n",
    "\n",
    "\n",
    "\n",
    "for ntrotter, krylov_u_trotter_evals in zip(ntrotter_values, all_krylov_u_trotter_evals):\n",
    "    errors_u_trotter = np.abs(np.array(krylov_u_trotter_evals) - energy_exact)\n",
    "    plt.plot(errors_u_trotter, \"--s\", label=rf\"Krylov with $U'$ ({ntrotter} Trotter step(s))\", **kwargs)\n",
    "\n",
    "plt.axhline(1e-3, ls=\"--\", color=\"black\", label=\"Chemical accuracy\")\n",
    "\n",
    "plt.title(f\"{nqubits}-qubit Fermi-Hubbard Hamiltonian\\nInitial state overlap with ground state = {round(overlap, 3)}\")\n",
    "plt.xlabel(\"Subspace dimension $d$\")\n",
    "plt.ylabel(\"Absolute energy error\")\n",
    "\n",
    "plt.yscale(\"log\")\n",
    "plt.legend(bbox_to_anchor=(1.05, 1));"
   ]
  },
  {
   "cell_type": "code",
   "execution_count": null,
   "id": "7f120734",
   "metadata": {},
   "outputs": [],
   "source": [
    "plt.plot(ntrotter_values, ngates_oneq, \"--o\", label=\"One-qubit gates\")\n",
    "plt.plot(ntrotter_values, ngates_twoq, \"--o\", label=\"Two-qubit gates\")\n",
    "plt.plot(ntrotter_values, depths, \"--o\", label=\"Circuit depth\")\n",
    "\n",
    "plt.xlabel(\"Number of Trotter steps\")\n",
    "plt.ylabel(\"Count\")\n",
    "\n",
    "plt.legend();"
   ]
  },
  {
   "cell_type": "markdown",
   "id": "389dfb73",
   "metadata": {},
   "source": []
  }
 ],
 "metadata": {
  "kernelspec": {
   "display_name": "compare (3.13.7)",
   "language": "python",
   "name": "python3"
  },
  "language_info": {
   "codemirror_mode": {
    "name": "ipython",
    "version": 3
   },
   "file_extension": ".py",
   "mimetype": "text/x-python",
   "name": "python",
   "nbconvert_exporter": "python",
   "pygments_lexer": "ipython3",
   "version": "3.13.7"
  }
 },
 "nbformat": 4,
 "nbformat_minor": 5
}
