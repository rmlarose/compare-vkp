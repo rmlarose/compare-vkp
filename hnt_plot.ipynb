{
 "cells": [
  {
   "cell_type": "code",
   "execution_count": 6,
   "id": "e6d63db9",
   "metadata": {},
   "outputs": [],
   "source": [
    "import h5py\n",
    "import pandas as pd\n",
    "import numpy as np\n",
    "import matplotlib.pyplot as plt"
   ]
  },
  {
   "cell_type": "code",
   "execution_count": 7,
   "id": "202835d2",
   "metadata": {},
   "outputs": [
    {
     "name": "stdout",
     "output_type": "stream",
     "text": [
      "   d           eps    energy  num_pos\n",
      "i                                    \n",
      "0  1  1.000000e-08  6.000000        1\n",
      "1  2  1.000000e-08 -0.298452        2\n",
      "2  3  1.000000e-08 -0.605549        3\n",
      "3  4  1.000000e-08 -0.605549        3\n",
      "4  5  1.000000e-08 -0.605549        3\n"
     ]
    }
   ],
   "source": [
    "data_dir = \"hubbard_scratch\"\n",
    "df = pd.read_hdf(f\"{data_dir}/eigvals.hdf5\", \"eigenvalues\")\n",
    "print(df.head())"
   ]
  },
  {
   "cell_type": "code",
   "execution_count": 8,
   "id": "56b57e84",
   "metadata": {},
   "outputs": [
    {
     "name": "stdout",
     "output_type": "stream",
     "text": [
      "Ground state energy = -0.6055512754639893.\n"
     ]
    }
   ],
   "source": [
    "f = h5py.File(f\"{data_dir}/hubbard_exact.hdf5\", \"r\")\n",
    "eigvals = f[\"energies\"][:]\n",
    "f.close()\n",
    "exact_energy = np.min(eigvals).real\n",
    "print(f\"Ground state energy = {exact_energy}.\")"
   ]
  },
  {
   "cell_type": "code",
   "execution_count": 9,
   "id": "7f7f91f3",
   "metadata": {},
   "outputs": [],
   "source": [
    "df[\"err\"] = np.abs(df[\"energy\"] - exact_energy)"
   ]
  },
  {
   "cell_type": "code",
   "execution_count": 10,
   "id": "a89e7a19",
   "metadata": {},
   "outputs": [
    {
     "data": {
      "text/plain": [
       "[<matplotlib.lines.Line2D at 0x12b3b6850>]"
      ]
     },
     "execution_count": 10,
     "metadata": {},
     "output_type": "execute_result"
    },
    {
     "data": {
      "image/png": "[encoded data removed]",
      "text/plain": [
       "<Figure size 640x480 with 1 Axes>"
      ]
     },
     "metadata": {},
     "output_type": "display_data"
    }
   ],
   "source": [
    "fig, ax = plt.subplots()\n",
    "ax.set_yscale('log')\n",
    "ax.plot(df[\"d\"], df[\"err\"], '.')"
   ]
  },
  {
   "cell_type": "code",
   "execution_count": null,
   "id": "7f74d679",
   "metadata": {},
   "outputs": [],
   "source": []
  }
 ],
 "metadata": {
  "kernelspec": {
   "display_name": "compare",
   "language": "python",
   "name": "compare"
  },
  "language_info": {
   "codemirror_mode": {
    "name": "ipython",
    "version": 3
   },
   "file_extension": ".py",
   "mimetype": "text/x-python",
   "name": "python",
   "nbconvert_exporter": "python",
   "pygments_lexer": "ipython3",
   "version": "3.13.7"
  }
 },
 "nbformat": 4,
 "nbformat_minor": 5
}
