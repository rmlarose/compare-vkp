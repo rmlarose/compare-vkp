{
 "cells": [
  {
   "cell_type": "code",
   "execution_count": 2,
   "id": "initial_id",
   "metadata": {
    "ExecuteTime": {
     "end_time": "2025-04-15T21:31:54.689053Z",
     "start_time": "2025-04-15T21:31:54.686878Z"
    }
   },
   "outputs": [],
   "source": [
    "import os\n",
    "import h5py\n",
    "import numpy as np\n",
    "import pandas as pd\n",
    "import matplotlib.pyplot as plt\n",
    "import seaborn as sns"
   ]
  },
  {
   "cell_type": "code",
   "execution_count": 5,
   "id": "fe0ea733-30d8-4d98-95c3-6e3c0996ba92",
   "metadata": {
    "ExecuteTime": {
     "end_time": "2025-04-15T21:31:55.469674Z",
     "start_time": "2025-04-15T21:31:55.467599Z"
    }
   },
   "outputs": [
    {
     "name": "stdout",
     "output_type": "stream",
     "text": [
      "11\n"
     ]
    }
   ],
   "source": [
    "data_dir = \"krylov_ratio_copy\"\n",
    "all_files = os.listdir(data_dir)\n",
    "assert \"hubbard_exact_3.hdf5\" in all_files\n",
    "merged_files = [f for f in all_files if \"merged\" in f]\n",
    "print(len(merged_files))"
   ]
  },
  {
   "cell_type": "code",
   "execution_count": 6,
   "id": "7684c4e9",
   "metadata": {},
   "outputs": [
    {
     "name": "stdout",
     "output_type": "stream",
     "text": [
      "Exact energy is (1.0717967697244912+0j).\n"
     ]
    }
   ],
   "source": [
    "# Get the exact energy.\n",
    "f_exact = h5py.File(data_dir + \"/hubbard_exact_3.hdf5\", \"r\")\n",
    "energy_exact = np.min(f_exact[\"energies\"])\n",
    "print(f\"Exact energy is {energy_exact}.\")\n",
    "f_exact.close()"
   ]
  },
  {
   "cell_type": "code",
   "execution_count": 8,
   "id": "b0104431",
   "metadata": {},
   "outputs": [
    {
     "name": "stdout",
     "output_type": "stream",
     "text": [
      "i\n",
      "0     0.55\n",
      "1     0.55\n",
      "2     0.55\n",
      "3     0.55\n",
      "4     0.55\n",
      "      ... \n",
      "9     0.85\n",
      "10    0.85\n",
      "11    0.85\n",
      "12    0.85\n",
      "13    0.85\n",
      "Name: ratio, Length: 154, dtype: float64\n"
     ]
    }
   ],
   "source": [
    "dfs = []\n",
    "for merged_f in merged_files:\n",
    "    fname = data_dir + \"/\" + merged_f\n",
    "    # Get the number of steps.\n",
    "    f = h5py.File(fname, \"r\")\n",
    "    steps = f[\"steps\"][()]\n",
    "    ratio = f[\"ratio\"][()]\n",
    "    f.close()\n",
    "    # Get the upper bound.\n",
    "    # fname2 = fname.replace(\"eigenvalues\", \"bound\")\n",
    "    # bound_df = pd.read_hdf(fname2)\n",
    "    # Get the dataframe with energy vs. d\n",
    "    df = pd.read_hdf(fname, key=\"eigenvalues\")\n",
    "    df[\"error\"] = abs(df[\"energy\"] - energy_exact) / abs(energy_exact)\n",
    "    df[\"steps\"] = steps\n",
    "    df[\"ratio\"] = ratio\n",
    "    df.set_index(\"d\")\n",
    "    # df_concat = pd.concat([df, bound_df], axis=1)\n",
    "    # dfs.append(df_concat)\n",
    "    dfs.append(df)\n",
    "df_total = pd.concat(dfs)\n",
    "print(df_total[\"ratio\"])"
   ]
  },
  {
   "cell_type": "code",
   "execution_count": 5,
   "id": "8d065558",
   "metadata": {},
   "outputs": [
    {
     "name": "stdout",
     "output_type": "stream",
     "text": [
      "Empty DataFrame\n",
      "Columns: [d, eps, energy, num_pos, error, steps]\n",
      "Index: []\n"
     ]
    }
   ],
   "source": [
    "df_small = df_total[df_total[\"d\"] >= 20]\n",
    "print(df_small)"
   ]
  },
  {
   "cell_type": "code",
   "execution_count": 6,
   "id": "f59a3660",
   "metadata": {},
   "outputs": [
    {
     "data": {
      "image/png": "[encoded data removed]",
      "text/plain": [
       "<Figure size 640x480 with 1 Axes>"
      ]
     },
     "metadata": {},
     "output_type": "display_data"
    }
   ],
   "source": [
    "fig, ax = plt.subplots()\n",
    "ax.set_yscale(\"log\")\n",
    "sns.lineplot(ax=ax, data=df_total, x=\"steps\", y=\"error\", hue=\"d\")\n",
    "plt.show()"
   ]
  }
 ],
 "metadata": {
  "kernelspec": {
   "display_name": "compare",
   "language": "python",
   "name": "python3"
  },
  "language_info": {
   "codemirror_mode": {
    "name": "ipython",
    "version": 3
   },
   "file_extension": ".py",
   "mimetype": "text/x-python",
   "name": "python",
   "nbconvert_exporter": "python",
   "pygments_lexer": "ipython3",
   "version": "3.12.2"
  }
 },
 "nbformat": 4,
 "nbformat_minor": 5
}
