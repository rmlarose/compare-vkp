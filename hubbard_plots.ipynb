{
 "cells": [
  {
   "cell_type": "code",
   "execution_count": 1,
   "id": "initial_id",
   "metadata": {
    "ExecuteTime": {
     "end_time": "2025-04-15T21:31:54.689053Z",
     "start_time": "2025-04-15T21:31:54.686878Z"
    }
   },
   "outputs": [],
   "source": [
    "import os\n",
    "import h5py\n",
    "import numpy as np\n",
    "import pandas as pd\n",
    "import matplotlib.pyplot as plt\n",
    "import seaborn as sns"
   ]
  },
  {
   "cell_type": "code",
   "execution_count": 14,
   "id": "fe0ea733-30d8-4d98-95c3-6e3c0996ba92",
   "metadata": {
    "ExecuteTime": {
     "end_time": "2025-04-15T21:31:55.469674Z",
     "start_time": "2025-04-15T21:31:55.467599Z"
    }
   },
   "outputs": [
    {
     "name": "stdout",
     "output_type": "stream",
     "text": [
      "11\n"
     ]
    }
   ],
   "source": [
    "data_dir = \"krylov_data\"\n",
    "all_files = os.listdir(data_dir)\n",
    "assert \"hubbard_exact.h5\" in all_files\n",
    "ev_files = [f for f in all_files if \"eigenvalues\" in f]\n",
    "print(len(ev_files))"
   ]
  },
  {
   "cell_type": "code",
   "execution_count": 18,
   "id": "7684c4e9",
   "metadata": {},
   "outputs": [
    {
     "name": "stdout",
     "output_type": "stream",
     "text": [
      "Exact energy is (1.0717967697244906+0j).\n"
     ]
    }
   ],
   "source": [
    "# Get the exact energy.\n",
    "f_exact = h5py.File(data_dir + \"/hubbard_exact.h5\", \"r\")\n",
    "energy_exact = np.min(f_exact[\"energies\"])\n",
    "print(f\"Exact energy is {energy_exact}.\")\n",
    "f_exact.close()"
   ]
  },
  {
   "cell_type": "code",
   "execution_count": 25,
   "id": "b0104431",
   "metadata": {},
   "outputs": [
    {
     "name": "stdout",
     "output_type": "stream",
     "text": [
      "<KeysViewHDF5 ['gamma0_sq', 'hamiltonian_norm', 'steps']>\n",
      "   d           eps    energy  num_pos     error  steps\n",
      "i                                                     \n",
      "0  3  1.000000e-12  1.072688        3  0.000832    150\n",
      "1  4  1.000000e-12  1.072114        4  0.000296    150\n",
      "2  5  1.000000e-12  1.072029        5  0.000216    150\n",
      "3  6  1.000000e-12  1.071962        6  0.000154    150\n",
      "4  7  1.000000e-12  1.071920        7  0.000115    150\n"
     ]
    }
   ],
   "source": [
    "fname = data_dir + \"/\" + ev_files[0]\n",
    "# Get the number of steps.\n",
    "f = h5py.File(fname, \"r\")\n",
    "steps = f[\"steps\"][()]\n",
    "f.close()\n",
    "# Get the upper bound.\n",
    "fname2 = fname.replace(\"eigenvalues\", \"bound\")\n",
    "f2 = h5py.File(fname2, \"r\")\n",
    "# bound = f2[\"bound\"][()]\n",
    "print(f2.keys())\n",
    "f2.close()\n",
    "# Get the dataframe with energy vs. d\n",
    "df = pd.read_hdf(fname, key=\"eigenvalues\")\n",
    "df[\"error\"] = abs(df[\"energy\"] - energy_exact) / abs(energy_exact)\n",
    "df[\"steps\"] = steps\n",
    "print(df.head())"
   ]
  },
  {
   "cell_type": "code",
   "execution_count": null,
   "id": "f59a3660",
   "metadata": {},
   "outputs": [],
   "source": []
  }
 ],
 "metadata": {
  "kernelspec": {
   "display_name": "compare",
   "language": "python",
   "name": "python3"
  },
  "language_info": {
   "codemirror_mode": {
    "name": "ipython",
    "version": 3
   },
   "file_extension": ".py",
   "mimetype": "text/x-python",
   "name": "python",
   "nbconvert_exporter": "python",
   "pygments_lexer": "ipython3",
   "version": "3.12.2"
  }
 },
 "nbformat": 4,
 "nbformat_minor": 5
}
