{
 "cells": [
  {
   "cell_type": "code",
   "execution_count": 1,
   "id": "initial_id",
   "metadata": {
    "ExecuteTime": {
     "end_time": "2025-04-15T21:31:54.689053Z",
     "start_time": "2025-04-15T21:31:54.686878Z"
    }
   },
   "outputs": [],
   "source": [
    "import os\n",
    "import h5py\n",
    "import numpy as np\n",
    "import pandas as pd\n",
    "import matplotlib.pyplot as plt\n",
    "import seaborn as sns"
   ]
  },
  {
   "cell_type": "code",
   "execution_count": 2,
   "id": "31ea11c3a05bff01",
   "metadata": {
    "ExecuteTime": {
     "end_time": "2025-04-15T21:31:54.704538Z",
     "start_time": "2025-04-15T21:31:54.702562Z"
    }
   },
   "outputs": [],
   "source": [
    "f = h5py.File(\"hubbard_exact.h5\", \"r\")"
   ]
  },
  {
   "cell_type": "code",
   "execution_count": 3,
   "id": "97c6fa7d718ba94f",
   "metadata": {
    "ExecuteTime": {
     "end_time": "2025-04-15T21:31:54.711872Z",
     "start_time": "2025-04-15T21:31:54.708814Z"
    }
   },
   "outputs": [
    {
     "name": "stdout",
     "output_type": "stream",
     "text": [
      "Ground state energy from FCI = -1.2360679774997898\n"
     ]
    }
   ],
   "source": [
    "exact_energy = np.min(f[\"energies\"]).real\n",
    "print(f\"Ground state energy from FCI = {exact_energy}\")"
   ]
  },
  {
   "cell_type": "code",
   "execution_count": 4,
   "id": "73e6efc3-de47-45e9-a462-f8befd84196c",
   "metadata": {
    "ExecuteTime": {
     "end_time": "2025-04-15T21:31:54.723894Z",
     "start_time": "2025-04-15T21:31:54.721683Z"
    }
   },
   "outputs": [
    {
     "name": "stdout",
     "output_type": "stream",
     "text": [
      "['hubbard_eigvals_50_steps.hdf5', 'hubbard_eigvals_1_steps.hdf5', 'hubbard_eigvals_100_steps.hdf5', 'hubbard_eigvals_30_steps.hdf5', 'hubbard_eigvals_200_steps.hdf5', 'hubbard_eigvals_300_steps.hdf5', 'hubbard_eigvals_400_steps.hdf5', 'hubbard_eigvals_10_steps.hdf5', 'hubbard_eigvals_20_steps.hdf5']\n"
     ]
    }
   ],
   "source": [
    "listing = os.listdir(\"data/\")\n",
    "results_files = [f for f in listing if \"hubbard_eigvals_\" in f]\n",
    "print(results_files)"
   ]
  },
  {
   "cell_type": "code",
   "execution_count": 5,
   "id": "39a2131d-61c7-4123-86f0-a1c7216cf217",
   "metadata": {
    "ExecuteTime": {
     "end_time": "2025-04-15T21:31:54.752142Z",
     "start_time": "2025-04-15T21:31:54.735158Z"
    }
   },
   "outputs": [],
   "source": [
    "dfs = []\n",
    "for f in results_files:\n",
    "    df = pd.read_hdf(\"data/\" + f, key=\"eigenvalues\")\n",
    "    h5_file = h5py.File(\"data/\" + f)\n",
    "    tau = h5_file[\"tau\"][()]\n",
    "    steps = h5_file[\"steps\"][()]\n",
    "    h5_file.close()\n",
    "    df[\"tau\"] = tau\n",
    "    df[\"steps\"] = steps\n",
    "    dfs.append(df)"
   ]
  },
  {
   "cell_type": "code",
   "execution_count": 6,
   "id": "b19a7d92-5fa4-400c-b7d1-82e4e5156295",
   "metadata": {
    "ExecuteTime": {
     "end_time": "2025-04-15T21:31:54.763961Z",
     "start_time": "2025-04-15T21:31:54.760285Z"
    }
   },
   "outputs": [
    {
     "name": "stdout",
     "output_type": "stream",
     "text": [
      "   d           eps    energy  num_pos   tau  steps     rel_error\n",
      "i                                                               \n",
      "0  3  1.000000e-12 -1.235780        3  0.05     50  2.333772e-04\n",
      "1  3  2.154435e-10 -1.235780        3  0.05     50  2.333772e-04\n",
      "2  3  4.641589e-08 -1.235780        3  0.05     50  2.333772e-04\n",
      "3  3  1.000000e-05 -1.232435        2  0.05     50  2.939515e-03\n",
      "4  4  1.000000e-12 -1.236068        4  0.05     50  2.691252e-10\n"
     ]
    }
   ],
   "source": [
    "big_df = pd.concat(dfs)\n",
    "big_df[\"rel_error\"] = abs(big_df[\"energy\"] - exact_energy) / abs(exact_energy)\n",
    "print(big_df.head())"
   ]
  },
  {
   "cell_type": "code",
   "execution_count": 7,
   "id": "3120a011-270b-4eba-ba67-1b78cc69a6ac",
   "metadata": {
    "ExecuteTime": {
     "end_time": "2025-04-15T21:31:54.774119Z",
     "start_time": "2025-04-15T21:31:54.771908Z"
    }
   },
   "outputs": [],
   "source": [
    "df_max_d = big_df[big_df[\"d\"] == max(df[\"d\"])]"
   ]
  },
  {
   "cell_type": "code",
   "execution_count": 8,
   "id": "16a31a65-bfdc-40ff-9ad5-96a9e70b8540",
   "metadata": {
    "ExecuteTime": {
     "end_time": "2025-04-15T21:31:54.785635Z",
     "start_time": "2025-04-15T21:31:54.781844Z"
    }
   },
   "outputs": [
    {
     "data": {
      "text/html": [
       "<div>\n",
       "<style scoped>\n",
       "    .dataframe tbody tr th:only-of-type {\n",
       "        vertical-align: middle;\n",
       "    }\n",
       "\n",
       "    .dataframe tbody tr th {\n",
       "        vertical-align: top;\n",
       "    }\n",
       "\n",
       "    .dataframe thead th {\n",
       "        text-align: right;\n",
       "    }\n",
       "</style>\n",
       "<table border=\"1\" class=\"dataframe\">\n",
       "  <thead>\n",
       "    <tr style=\"text-align: right;\">\n",
       "      <th></th>\n",
       "      <th>d</th>\n",
       "      <th>eps</th>\n",
       "      <th>energy</th>\n",
       "      <th>num_pos</th>\n",
       "      <th>tau</th>\n",
       "      <th>steps</th>\n",
       "      <th>rel_error</th>\n",
       "    </tr>\n",
       "    <tr>\n",
       "      <th>i</th>\n",
       "      <th></th>\n",
       "      <th></th>\n",
       "      <th></th>\n",
       "      <th></th>\n",
       "      <th></th>\n",
       "      <th></th>\n",
       "      <th></th>\n",
       "    </tr>\n",
       "  </thead>\n",
       "  <tbody>\n",
       "    <tr>\n",
       "      <th>52</th>\n",
       "      <td>16</td>\n",
       "      <td>1.000000e-12</td>\n",
       "      <td>-1.236068</td>\n",
       "      <td>7</td>\n",
       "      <td>0.05</td>\n",
       "      <td>400</td>\n",
       "      <td>3.592757e-13</td>\n",
       "    </tr>\n",
       "  </tbody>\n",
       "</table>\n",
       "</div>"
      ],
      "text/plain": [
       "     d           eps    energy  num_pos   tau  steps     rel_error\n",
       "i                                                                 \n",
       "52  16  1.000000e-12 -1.236068        7  0.05    400  3.592757e-13"
      ]
     },
     "execution_count": 8,
     "metadata": {},
     "output_type": "execute_result"
    }
   ],
   "source": [
    "# Get row with the lowest relative error.\n",
    "big_df[big_df['rel_error'] == big_df['rel_error'].min()]"
   ]
  },
  {
   "cell_type": "code",
   "execution_count": 9,
   "id": "c579aa1b-3278-44ad-8af2-1a95eb3dd665",
   "metadata": {
    "ExecuteTime": {
     "end_time": "2025-04-15T21:31:55.450277Z",
     "start_time": "2025-04-15T21:31:54.805134Z"
    }
   },
   "outputs": [
    {
     "data": {
      "image/png": "[encoded data removed]",
      "text/plain": [
       "<Figure size 640x480 with 1 Axes>"
      ]
     },
     "metadata": {},
     "output_type": "display_data"
    }
   ],
   "source": [
    "fig, ax = plt.subplots()\n",
    "sns.lineplot(data=big_df, x=\"steps\", y=\"rel_error\", hue=\"d\")\n",
    "ax.set_yscale(\"log\")\n",
    "#plt.show()\n",
    "plt.savefig(\"hubbard_error.pdf\")"
   ]
  },
  {
   "cell_type": "code",
   "execution_count": null,
   "id": "fe0ea733-30d8-4d98-95c3-6e3c0996ba92",
   "metadata": {
    "ExecuteTime": {
     "end_time": "2025-04-15T21:31:55.469674Z",
     "start_time": "2025-04-15T21:31:55.467599Z"
    }
   },
   "outputs": [],
   "source": []
  }
 ],
 "metadata": {
  "kernelspec": {
   "display_name": "compare",
   "language": "python",
   "name": "python3"
  },
  "language_info": {
   "codemirror_mode": {
    "name": "ipython",
    "version": 3
   },
   "file_extension": ".py",
   "mimetype": "text/x-python",
   "name": "python",
   "nbconvert_exporter": "python",
   "pygments_lexer": "ipython3",
   "version": "3.12.2"
  }
 },
 "nbformat": 4,
 "nbformat_minor": 5
}
