{
 "cells": [
  {
   "cell_type": "code",
   "execution_count": 1,
   "id": "initial_id",
   "metadata": {
    "ExecuteTime": {
     "end_time": "2025-04-14T13:39:49.041744Z",
     "start_time": "2025-04-14T13:39:49.014526Z"
    }
   },
   "outputs": [],
   "source": [
    "import os\n",
    "import h5py\n",
    "import numpy as np\n",
    "import pandas as pd\n",
    "import matplotlib.pyplot as plt\n",
    "import seaborn as sns"
   ]
  },
  {
   "cell_type": "code",
   "execution_count": 2,
   "id": "31ea11c3a05bff01",
   "metadata": {
    "ExecuteTime": {
     "end_time": "2025-04-14T13:39:49.049421Z",
     "start_time": "2025-04-14T13:39:49.047179Z"
    }
   },
   "outputs": [],
   "source": [
    "f = h5py.File(\"hubbard_exact.h5\", \"r\")"
   ]
  },
  {
   "cell_type": "code",
   "execution_count": 3,
   "id": "97c6fa7d718ba94f",
   "metadata": {
    "ExecuteTime": {
     "end_time": "2025-04-14T13:39:49.106215Z",
     "start_time": "2025-04-14T13:39:49.104214Z"
    }
   },
   "outputs": [
    {
     "name": "stdout",
     "output_type": "stream",
     "text": [
      "Ground state energy from FCI = -1.2360679774997896\n"
     ]
    }
   ],
   "source": [
    "exact_energy = np.min(f[\"energies\"]).real\n",
    "print(f\"Ground state energy from FCI = {exact_energy}\")"
   ]
  },
  {
   "cell_type": "code",
   "execution_count": 4,
   "id": "73e6efc3-de47-45e9-a462-f8befd84196c",
   "metadata": {
    "ExecuteTime": {
     "end_time": "2025-04-14T13:39:49.112955Z",
     "start_time": "2025-04-14T13:39:49.111319Z"
    }
   },
   "outputs": [
    {
     "name": "stdout",
     "output_type": "stream",
     "text": [
      "['hubbard_eigvals_20_steps.h5', 'hubbard_eigvals_30_steps.h5', 'hubbard_eigvals_50_steps.h5', 'hubbard_eigvals_100_steps.h5', 'hubbard_eigvals_10_steps.h5', 'hubbard_eigvals_1_steps.h5']\n"
     ]
    }
   ],
   "source": [
    "listing = os.listdir(\"data/\")\n",
    "results_files = [f for f in listing if \"hubbard_eigvals_\" in f]\n",
    "print(results_files)"
   ]
  },
  {
   "cell_type": "code",
   "execution_count": 5,
   "id": "39a2131d-61c7-4123-86f0-a1c7216cf217",
   "metadata": {
    "ExecuteTime": {
     "end_time": "2025-04-14T13:39:49.160684Z",
     "start_time": "2025-04-14T13:39:49.125778Z"
    }
   },
   "outputs": [],
   "source": [
    "dfs = []\n",
    "for f in results_files:\n",
    "    df = pd.read_hdf(\"data/\" + f, key=\"eigenvalues\")\n",
    "    h5_file = h5py.File(\"data/\" + f)\n",
    "    tau = h5_file[\"tau\"][()]\n",
    "    steps = h5_file[\"steps\"][()]\n",
    "    h5_file.close()\n",
    "    df[\"tau\"] = tau\n",
    "    df[\"steps\"] = steps\n",
    "    dfs.append(df)"
   ]
  },
  {
   "cell_type": "code",
   "execution_count": 6,
   "id": "b19a7d92-5fa4-400c-b7d1-82e4e5156295",
   "metadata": {
    "ExecuteTime": {
     "end_time": "2025-04-14T13:39:49.171506Z",
     "start_time": "2025-04-14T13:39:49.168017Z"
    }
   },
   "outputs": [
    {
     "name": "stdout",
     "output_type": "stream",
     "text": [
      "   d           eps    energy   tau  steps  rel_error\n",
      "i                                                   \n",
      "0  3  1.000000e-12 -1.236024  0.05     20   0.000036\n",
      "1  3  2.154435e-10 -1.236024  0.05     20   0.000036\n",
      "2  3  4.641589e-08 -1.236024  0.05     20   0.000036\n",
      "3  3  1.000000e-05 -1.236024  0.05     20   0.000036\n",
      "4  4  1.000000e-12 -1.236024  0.05     20   0.000036\n"
     ]
    }
   ],
   "source": [
    "big_df = pd.concat(dfs)\n",
    "big_df[\"rel_error\"] = abs(big_df[\"energy\"] - exact_energy) / abs(exact_energy)\n",
    "print(big_df.head())"
   ]
  },
  {
   "cell_type": "code",
   "execution_count": 7,
   "id": "3120a011-270b-4eba-ba67-1b78cc69a6ac",
   "metadata": {
    "ExecuteTime": {
     "end_time": "2025-04-14T13:39:49.181752Z",
     "start_time": "2025-04-14T13:39:49.179042Z"
    }
   },
   "outputs": [],
   "source": [
    "df_max_d = big_df[big_df[\"d\"] == max(df[\"d\"])]"
   ]
  },
  {
   "cell_type": "code",
   "execution_count": 8,
   "id": "16a31a65-bfdc-40ff-9ad5-96a9e70b8540",
   "metadata": {
    "ExecuteTime": {
     "end_time": "2025-04-14T13:39:49.194529Z",
     "start_time": "2025-04-14T13:39:49.189542Z"
    }
   },
   "outputs": [
    {
     "data": {
      "text/html": [
       "<div>\n",
       "<style scoped>\n",
       "    .dataframe tbody tr th:only-of-type {\n",
       "        vertical-align: middle;\n",
       "    }\n",
       "\n",
       "    .dataframe tbody tr th {\n",
       "        vertical-align: top;\n",
       "    }\n",
       "\n",
       "    .dataframe thead th {\n",
       "        text-align: right;\n",
       "    }\n",
       "</style>\n",
       "<table border=\"1\" class=\"dataframe\">\n",
       "  <thead>\n",
       "    <tr style=\"text-align: right;\">\n",
       "      <th></th>\n",
       "      <th>d</th>\n",
       "      <th>eps</th>\n",
       "      <th>energy</th>\n",
       "      <th>tau</th>\n",
       "      <th>steps</th>\n",
       "      <th>rel_error</th>\n",
       "    </tr>\n",
       "    <tr>\n",
       "      <th>i</th>\n",
       "      <th></th>\n",
       "      <th></th>\n",
       "      <th></th>\n",
       "      <th></th>\n",
       "      <th></th>\n",
       "      <th></th>\n",
       "    </tr>\n",
       "  </thead>\n",
       "  <tbody>\n",
       "    <tr>\n",
       "      <th>52</th>\n",
       "      <td>16</td>\n",
       "      <td>1.000000e-12</td>\n",
       "      <td>-1.236066</td>\n",
       "      <td>0.05</td>\n",
       "      <td>100</td>\n",
       "      <td>0.000001</td>\n",
       "    </tr>\n",
       "    <tr>\n",
       "      <th>53</th>\n",
       "      <td>16</td>\n",
       "      <td>2.154435e-10</td>\n",
       "      <td>-1.236066</td>\n",
       "      <td>0.05</td>\n",
       "      <td>100</td>\n",
       "      <td>0.000001</td>\n",
       "    </tr>\n",
       "    <tr>\n",
       "      <th>54</th>\n",
       "      <td>16</td>\n",
       "      <td>4.641589e-08</td>\n",
       "      <td>-1.236066</td>\n",
       "      <td>0.05</td>\n",
       "      <td>100</td>\n",
       "      <td>0.000001</td>\n",
       "    </tr>\n",
       "    <tr>\n",
       "      <th>55</th>\n",
       "      <td>16</td>\n",
       "      <td>1.000000e-05</td>\n",
       "      <td>-1.236066</td>\n",
       "      <td>0.05</td>\n",
       "      <td>100</td>\n",
       "      <td>0.000001</td>\n",
       "    </tr>\n",
       "  </tbody>\n",
       "</table>\n",
       "</div>"
      ],
      "text/plain": [
       "     d           eps    energy   tau  steps  rel_error\n",
       "i                                                     \n",
       "52  16  1.000000e-12 -1.236066  0.05    100   0.000001\n",
       "53  16  2.154435e-10 -1.236066  0.05    100   0.000001\n",
       "54  16  4.641589e-08 -1.236066  0.05    100   0.000001\n",
       "55  16  1.000000e-05 -1.236066  0.05    100   0.000001"
      ]
     },
     "execution_count": 8,
     "metadata": {},
     "output_type": "execute_result"
    }
   ],
   "source": [
    "# Get row with the lowest relative error.\n",
    "big_df[big_df['rel_error'] == big_df['rel_error'].min()]"
   ]
  },
  {
   "cell_type": "code",
   "execution_count": 9,
   "id": "c579aa1b-3278-44ad-8af2-1a95eb3dd665",
   "metadata": {
    "ExecuteTime": {
     "end_time": "2025-04-14T13:39:49.822349Z",
     "start_time": "2025-04-14T13:39:49.223203Z"
    }
   },
   "outputs": [
    {
     "data": {
      "image/png": "[encoded data removed]",
      "text/plain": [
       "<Figure size 640x480 with 1 Axes>"
      ]
     },
     "metadata": {},
     "output_type": "display_data"
    }
   ],
   "source": [
    "fig, ax = plt.subplots()\n",
    "sns.lineplot(data=big_df, x=\"steps\", y=\"rel_error\", hue=\"d\")\n",
    "ax.set_yscale(\"log\")\n",
    "#plt.show()\n",
    "plt.savefig(\"hubbard_error.pdf\")"
   ]
  },
  {
   "cell_type": "code",
   "execution_count": null,
   "id": "fe0ea733-30d8-4d98-95c3-6e3c0996ba92",
   "metadata": {
    "ExecuteTime": {
     "end_time": "2025-04-14T13:39:49.838966Z",
     "start_time": "2025-04-14T13:39:49.837533Z"
    }
   },
   "outputs": [],
   "source": []
  }
 ],
 "metadata": {
  "kernelspec": {
   "display_name": "Python 3 (ipykernel)",
   "language": "python",
   "name": "python3"
  },
  "language_info": {
   "codemirror_mode": {
    "name": "ipython",
    "version": 3
   },
   "file_extension": ".py",
   "mimetype": "text/x-python",
   "name": "python",
   "nbconvert_exporter": "python",
   "pygments_lexer": "ipython3",
   "version": "3.12.8"
  }
 },
 "nbformat": 4,
 "nbformat_minor": 5
}
